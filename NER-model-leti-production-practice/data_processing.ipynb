{
 "cells": [
  {
   "cell_type": "markdown",
   "metadata": {},
   "source": [
    "# Пару слов о блокноте"
   ]
  },
  {
   "cell_type": "markdown",
   "metadata": {},
   "source": [
    "__Задача блокнота__: обработать входные данные (привести их к формату, удобному для обучения модели машинного обучения).\n",
    "\n",
    "__Результат блокнота__: один файл со всеми обработанными данными.\n",
    "\n",
    "__P. S.__: блокнот является первой частью производственной практики по учебному курсу дополнительного образования. Вторая часть подразумевает использование полученного файла для обучения модели машинного обучения. "
   ]
  },
  {
   "cell_type": "markdown",
   "metadata": {},
   "source": [
    "# Предобработка данных"
   ]
  },
  {
   "cell_type": "code",
   "execution_count": 1,
   "metadata": {},
   "outputs": [],
   "source": [
    "import pandas as pd\n",
    "import os\n",
    "import re\n",
    "import shutil"
   ]
  },
  {
   "cell_type": "markdown",
   "metadata": {},
   "source": [
    "Единственные переменные, которые можно менять:"
   ]
  },
  {
   "cell_type": "code",
   "execution_count": 2,
   "metadata": {},
   "outputs": [],
   "source": [
    "path_to_archive = \"C:\\\\Users\\\\DNS\\\\Downloads\\\\all_2908.zip\"\n",
    "destionation_path = \"C:\\\\Users\\\\DNS\\\\Documents\\\\Alexander_Frolov\\\\Programming_Projects\\\\ML_annotation_practice\\\\data\""
   ]
  },
  {
   "cell_type": "markdown",
   "metadata": {},
   "source": [
    "`path_to_archive` впоследствии был удален из директории для экономии пространства. Запустить код с его использованием не получится"
   ]
  },
  {
   "cell_type": "markdown",
   "metadata": {},
   "source": [
    "### Извлечение всех файлов"
   ]
  },
  {
   "cell_type": "code",
   "execution_count": 3,
   "metadata": {},
   "outputs": [],
   "source": [
    "# unpack all the new annotated files\n",
    "def extract_all(path_to_archive, destionation_path):\n",
    "    shutil.unpack_archive(path_to_archive, destionation_path)\n",
    "\n",
    "    path_to_main_folder = os.path.join(destionation_path, 'all_2908')\n",
    "    for archive in os.listdir(path_to_main_folder):\n",
    "        shutil.unpack_archive(os.path.join(path_to_main_folder, archive), os.path.join(path_to_main_folder, archive[:-4]))\n",
    "        os.remove(os.path.join(path_to_main_folder, archive))\n",
    "    \n",
    "    for folder in os.listdir(path_to_main_folder):\n",
    "        shutil.move(os.path.join(path_to_main_folder, folder), destionation_path)\n",
    "    shutil.rmtree(path_to_main_folder)"
   ]
  },
  {
   "cell_type": "code",
   "execution_count": null,
   "metadata": {},
   "outputs": [],
   "source": [
    "extract_all(path_to_archive, destionation_path)"
   ]
  },
  {
   "cell_type": "code",
   "execution_count": 9,
   "metadata": {},
   "outputs": [
    {
     "name": "stdout",
     "output_type": "stream",
     "text": [
      "Number of files: 62\n",
      "Example: C:\\Users\\DNS\\Documents\\Alexander_Frolov\\Programming_Projects\\ML_annotation_practice\\data\\RPD[FKTI]\\edu_vasilev.ya.jsonl\n"
     ]
    }
   ],
   "source": [
    "# read all filepath to a list\n",
    "ALL_PATHS = []\n",
    "\n",
    "for folder in os.listdir(destionation_path):\n",
    "    for file in os.listdir(os.path.join(destionation_path, folder)):\n",
    "        path_to_file = os.path.join(destionation_path, folder, file)\n",
    "\n",
    "        ALL_PATHS.append(path_to_file)\n",
    "\n",
    "print(f\"Number of files: {len(ALL_PATHS)}\")\n",
    "print(f\"Example: {ALL_PATHS[0]}\")"
   ]
  },
  {
   "cell_type": "code",
   "execution_count": 10,
   "metadata": {},
   "outputs": [],
   "source": [
    "# read additional files\n",
    "additional_filepath_1 = \"C:\\\\Users\\\\DNS\\\\Documents\\\\Alexander_Frolov\\\\Programming_Projects\\\\ML_annotation_practice\\\\\" + \\\n",
    "                        \"\\\\data_additional\\\\all_extended_proc_annot.jsonl\"\n",
    "additional_filepath_2 = \"C:\\\\Users\\\\DNS\\\\Documents\\\\Alexander_Frolov\\\\Programming_Projects\\\\ML_annotation_practice\\\\\" + \\\n",
    "                        \"\\\\data_additional\\\\all_extended_proc_annot_squeezed.jsonl\"\n",
    "ALL_PATHS.append(additional_filepath_1)\n",
    "ALL_PATHS.append(additional_filepath_2)"
   ]
  },
  {
   "cell_type": "code",
   "execution_count": 11,
   "metadata": {},
   "outputs": [
    {
     "data": {
      "text/html": [
       "<div>\n",
       "<style scoped>\n",
       "    .dataframe tbody tr th:only-of-type {\n",
       "        vertical-align: middle;\n",
       "    }\n",
       "\n",
       "    .dataframe tbody tr th {\n",
       "        vertical-align: top;\n",
       "    }\n",
       "\n",
       "    .dataframe thead th {\n",
       "        text-align: right;\n",
       "    }\n",
       "</style>\n",
       "<table border=\"1\" class=\"dataframe\">\n",
       "  <thead>\n",
       "    <tr style=\"text-align: right;\">\n",
       "      <th></th>\n",
       "      <th>id</th>\n",
       "      <th>text</th>\n",
       "      <th>cats</th>\n",
       "      <th>entities</th>\n",
       "      <th>Comments</th>\n",
       "    </tr>\n",
       "  </thead>\n",
       "  <tbody>\n",
       "    <tr>\n",
       "      <th>0</th>\n",
       "      <td>12668</td>\n",
       "      <td>276626\\nМатематические основания информатики\\n...</td>\n",
       "      <td>[]</td>\n",
       "      <td>[[641, 691, Knowledge], [733, 782, Knowledge],...</td>\n",
       "      <td>[]</td>\n",
       "    </tr>\n",
       "    <tr>\n",
       "      <th>1</th>\n",
       "      <td>12672</td>\n",
       "      <td>278248\\nКомпьютерная графика\\nВ курсе изучаютс...</td>\n",
       "      <td>[]</td>\n",
       "      <td>[[254, 302, Knowledge], [324, 374, Knowledge],...</td>\n",
       "      <td>[]</td>\n",
       "    </tr>\n",
       "    <tr>\n",
       "      <th>2</th>\n",
       "      <td>12673</td>\n",
       "      <td>288500\\nИнформационная безопасность цифровых т...</td>\n",
       "      <td>[]</td>\n",
       "      <td>[[792, 822, Knowledge], [1321, 1347, Knowledge...</td>\n",
       "      <td>[]</td>\n",
       "    </tr>\n",
       "    <tr>\n",
       "      <th>3</th>\n",
       "      <td>12674</td>\n",
       "      <td>282060\\nРазработка безопасного программного об...</td>\n",
       "      <td>[]</td>\n",
       "      <td>[[873, 918, Knowledge], [919, 968, Knowledge],...</td>\n",
       "      <td>[]</td>\n",
       "    </tr>\n",
       "    <tr>\n",
       "      <th>4</th>\n",
       "      <td>12686</td>\n",
       "      <td>275487\\nАвтоматизация функционально-логическог...</td>\n",
       "      <td>[]</td>\n",
       "      <td>[[643, 676, Knowledge], [759, 794, Knowledge],...</td>\n",
       "      <td>[]</td>\n",
       "    </tr>\n",
       "  </tbody>\n",
       "</table>\n",
       "</div>"
      ],
      "text/plain": [
       "      id                                               text cats  \\\n",
       "0  12668  276626\\nМатематические основания информатики\\n...   []   \n",
       "1  12672  278248\\nКомпьютерная графика\\nВ курсе изучаютс...   []   \n",
       "2  12673  288500\\nИнформационная безопасность цифровых т...   []   \n",
       "3  12674  282060\\nРазработка безопасного программного об...   []   \n",
       "4  12686  275487\\nАвтоматизация функционально-логическог...   []   \n",
       "\n",
       "                                            entities Comments  \n",
       "0  [[641, 691, Knowledge], [733, 782, Knowledge],...       []  \n",
       "1  [[254, 302, Knowledge], [324, 374, Knowledge],...       []  \n",
       "2  [[792, 822, Knowledge], [1321, 1347, Knowledge...       []  \n",
       "3  [[873, 918, Knowledge], [919, 968, Knowledge],...       []  \n",
       "4  [[643, 676, Knowledge], [759, 794, Knowledge],...       []  "
      ]
     },
     "execution_count": 11,
     "metadata": {},
     "output_type": "execute_result"
    }
   ],
   "source": [
    "# check example of new file\n",
    "df = pd.read_json(ALL_PATHS[0], lines=True)\n",
    "df.head(5)"
   ]
  },
  {
   "cell_type": "code",
   "execution_count": 12,
   "metadata": {},
   "outputs": [
    {
     "data": {
      "text/html": [
       "<div>\n",
       "<style scoped>\n",
       "    .dataframe tbody tr th:only-of-type {\n",
       "        vertical-align: middle;\n",
       "    }\n",
       "\n",
       "    .dataframe tbody tr th {\n",
       "        vertical-align: top;\n",
       "    }\n",
       "\n",
       "    .dataframe thead th {\n",
       "        text-align: right;\n",
       "    }\n",
       "</style>\n",
       "<table border=\"1\" class=\"dataframe\">\n",
       "  <thead>\n",
       "    <tr style=\"text-align: right;\">\n",
       "      <th></th>\n",
       "      <th>id</th>\n",
       "      <th>text</th>\n",
       "      <th>cats</th>\n",
       "      <th>entities</th>\n",
       "      <th>Comments</th>\n",
       "      <th>kind</th>\n",
       "      <th>annot</th>\n",
       "      <th>meta</th>\n",
       "    </tr>\n",
       "  </thead>\n",
       "  <tbody>\n",
       "    <tr>\n",
       "      <th>0</th>\n",
       "      <td>67</td>\n",
       "      <td>Разработчик Flutter Developer. Чем необходимо ...</td>\n",
       "      <td>[Мобильный разработчик]</td>\n",
       "      <td>[[12, 19, Tool], [68, 125, Technology], [128, ...</td>\n",
       "      <td>[]</td>\n",
       "      <td>vac</td>\n",
       "      <td>{'username': 'serov.ilya.2903', 'confirmed_at'...</td>\n",
       "      <td>NaN</td>\n",
       "    </tr>\n",
       "    <tr>\n",
       "      <th>1</th>\n",
       "      <td>68</td>\n",
       "      <td>Задачи, которыми предстоит заниматься:\\n \\n \\n...</td>\n",
       "      <td>[Аналитик]</td>\n",
       "      <td>[[182, 194, Method], [436, 459, SoftSkills], [...</td>\n",
       "      <td>[]</td>\n",
       "      <td>vac</td>\n",
       "      <td>{'username': 'samsonik2012', 'confirmed_at': '...</td>\n",
       "      <td>NaN</td>\n",
       "    </tr>\n",
       "    <tr>\n",
       "      <th>2</th>\n",
       "      <td>71</td>\n",
       "      <td>Разработчик Java (Устройства Самообслуживания)...</td>\n",
       "      <td>[]</td>\n",
       "      <td>[[12, 16, ProgLanguage], [258, 270, Technology...</td>\n",
       "      <td>[]</td>\n",
       "      <td>vac</td>\n",
       "      <td>{'username': 'samsonik2012', 'confirmed_at': '...</td>\n",
       "      <td>NaN</td>\n",
       "    </tr>\n",
       "    <tr>\n",
       "      <th>3</th>\n",
       "      <td>72</td>\n",
       "      <td>Требования: Знание платформы 1С 8.3.х. Пониман...</td>\n",
       "      <td>[]</td>\n",
       "      <td>[[29, 37, Technology], [49, 77, Technology], [...</td>\n",
       "      <td>[]</td>\n",
       "      <td>vac</td>\n",
       "      <td>{'username': 'samsonik2012', 'confirmed_at': '...</td>\n",
       "      <td>NaN</td>\n",
       "    </tr>\n",
       "    <tr>\n",
       "      <th>4</th>\n",
       "      <td>115</td>\n",
       "      <td>Инженер - Программист Delphi. Обязанности: соп...</td>\n",
       "      <td>[]</td>\n",
       "      <td>[[22, 28, ProgLanguage], [43, 56, Method], [59...</td>\n",
       "      <td>[]</td>\n",
       "      <td>vac</td>\n",
       "      <td>{'username': 'muuuuusha', 'confirmed_at': '202...</td>\n",
       "      <td>NaN</td>\n",
       "    </tr>\n",
       "  </tbody>\n",
       "</table>\n",
       "</div>"
      ],
      "text/plain": [
       "    id                                               text  \\\n",
       "0   67  Разработчик Flutter Developer. Чем необходимо ...   \n",
       "1   68  Задачи, которыми предстоит заниматься:\\n \\n \\n...   \n",
       "2   71  Разработчик Java (Устройства Самообслуживания)...   \n",
       "3   72  Требования: Знание платформы 1С 8.3.х. Пониман...   \n",
       "4  115  Инженер - Программист Delphi. Обязанности: соп...   \n",
       "\n",
       "                      cats                                           entities  \\\n",
       "0  [Мобильный разработчик]  [[12, 19, Tool], [68, 125, Technology], [128, ...   \n",
       "1               [Аналитик]  [[182, 194, Method], [436, 459, SoftSkills], [...   \n",
       "2                       []  [[12, 16, ProgLanguage], [258, 270, Technology...   \n",
       "3                       []  [[29, 37, Technology], [49, 77, Technology], [...   \n",
       "4                       []  [[22, 28, ProgLanguage], [43, 56, Method], [59...   \n",
       "\n",
       "  Comments kind                                              annot meta  \n",
       "0       []  vac  {'username': 'serov.ilya.2903', 'confirmed_at'...  NaN  \n",
       "1       []  vac  {'username': 'samsonik2012', 'confirmed_at': '...  NaN  \n",
       "2       []  vac  {'username': 'samsonik2012', 'confirmed_at': '...  NaN  \n",
       "3       []  vac  {'username': 'samsonik2012', 'confirmed_at': '...  NaN  \n",
       "4       []  vac  {'username': 'muuuuusha', 'confirmed_at': '202...  NaN  "
      ]
     },
     "execution_count": 12,
     "metadata": {},
     "output_type": "execute_result"
    }
   ],
   "source": [
    "# check example of old file\n",
    "df = pd.read_json(ALL_PATHS[-1], lines=True)\n",
    "df.head(5)"
   ]
  },
  {
   "cell_type": "markdown",
   "metadata": {},
   "source": [
    "### Описание основных функций для обработки"
   ]
  },
  {
   "cell_type": "markdown",
   "metadata": {},
   "source": [
    "Ниже описаны две функции для извлечения токенов из текста. Вторая функция была написана для теста и, как оказалось, ее токены лучше подходят для трансформера."
   ]
  },
  {
   "cell_type": "code",
   "execution_count": 13,
   "metadata": {},
   "outputs": [],
   "source": [
    "# first variation: tokens will be either words or numbers \n",
    "def text_to_tokens_1(text):\n",
    "    text = re.sub(\"[^А-ЯЁA-Zа-яёa-z0-9\\s]\", ' ', text)\n",
    "    text = re.sub(\"\\s+\", ' ', text)\n",
    "    tokens = text.strip().split()\n",
    "    return tokens \n",
    "\n",
    "# seconds variation: tokens will be either words or numbers or the following characters: \":;,.!?()-\"\n",
    "def text_to_tokens_2(text):\n",
    "    text = text.replace('\\n', ' ')\n",
    "    text = re.sub('[^А-ЯЁA-Zа-яёa-z0-9\\s]«»\\'\":;,.!?()\\-', ' ', text)\n",
    "\n",
    "    i = 0\n",
    "    # separate words and characters like \":;,.!?()-\" by spaces\n",
    "    while i < len(text):\n",
    "        if text[i] in \"«»\\\"':;,.!?()-\":\n",
    "            if (i == 0) or (text[i - 1] == ' '):\n",
    "                # character at the start\n",
    "                text = text[:i] + text[i] + ' ' + text[i + 1:]\n",
    "                i += 1\n",
    "            elif (i == len(text) - 1) or (text[i + 1] == ' '):\n",
    "                # character at the end\n",
    "                text = text[:i] + ' ' + text[i] + text[i + 1:]\n",
    "            else:\n",
    "                # character in the middle\n",
    "                text = text[:i] + ' ' + text[i] + ' ' + text[i + 1:]\n",
    "                i += 2\n",
    "        else:\n",
    "            i += 1\n",
    "\n",
    "    text = re.sub('\\s+', ' ', text)\n",
    "    tokens = text.strip().split()\n",
    "    return tokens"
   ]
  },
  {
   "cell_type": "markdown",
   "metadata": {},
   "source": [
    "Ниже описана вспомогательная функция для получения границ всех токенов внутри исходного текста. "
   ]
  },
  {
   "cell_type": "code",
   "execution_count": 14,
   "metadata": {},
   "outputs": [
    {
     "name": "stdout",
     "output_type": "stream",
     "text": [
      "Text: hello, i'm a writer. nice to meet you\n",
      "Tokens: ['hello', ',', 'i', \"'\", 'm', 'a', 'writer', '.', 'nice', 'to', 'meet', 'you']\n",
      "Result: [[0, 4], [5, 5], [7, 7], [8, 8], [9, 9], [11, 11], [13, 18], [19, 19], [21, 24], [26, 27], [29, 32], [34, 36]]\n"
     ]
    }
   ],
   "source": [
    "# Returns list of [beginning of the token, end of the token] for each token\n",
    "def get_bounds_of_tokens_in_text(text, tokens):\n",
    "    i = 0; tokens_ind = 0; letter_ind = 0\n",
    "    buffer = ''\n",
    "    result = []\n",
    "\n",
    "    while i < len(text):\n",
    "        if (len(tokens[tokens_ind]) > 0) and (text[i] == tokens[tokens_ind][letter_ind]):\n",
    "            buffer += text[i]\n",
    "            letter_ind += 1\n",
    "            if letter_ind == len(tokens[tokens_ind]):\n",
    "                result.append([i - len(buffer) + 1, i])\n",
    "                tokens_ind += 1\n",
    "                letter_ind = 0\n",
    "                buffer = ''\n",
    "                \n",
    "                if tokens_ind == len(tokens):\n",
    "                    break\n",
    "                continue\n",
    "        else:\n",
    "            buffer = ''\n",
    "            letter_ind = 0\n",
    "        i += 1\n",
    "\n",
    "    return result\n",
    "\n",
    "# example\n",
    "text = \"hello, i'm a writer. nice to meet you\"\n",
    "tokens = text_to_tokens_2(text)\n",
    "print(f\"Text: {text}\")\n",
    "print(f\"Tokens: {tokens}\")\n",
    "print(f\"Result: {get_bounds_of_tokens_in_text(text, tokens)}\")"
   ]
  },
  {
   "cell_type": "markdown",
   "metadata": {},
   "source": [
    "Ниже описана вспомогательная функция - она создает новый массив сущностей, где вместо первых двух элементов (границ сущности внутри текста) я ставлю два индекса - границы сущности внутри массива токенов. <br>\n",
    "Функция будет работать корректно, если не происходит такого, что символ из текста относится сразу к двум сущностям - в противном случае функция может зациклиться. <br>\n",
    "Если вдруг понадобится обрабатывать и такие случаи, то следует добавить в функцию сдвиг переменной i обратно после каждого считывания."
   ]
  },
  {
   "cell_type": "code",
   "execution_count": 15,
   "metadata": {},
   "outputs": [
    {
     "name": "stdout",
     "output_type": "stream",
     "text": [
      "Text: Hello, I'm a writer. Nice to meet you\n",
      "Tokens: ['Hello', ',', 'I', \"'\", 'm', 'a', 'writer', '.', 'Nice', 'to', 'meet', 'you']\n",
      "Entities: [[11, 19, 'Profession'], [34, 37, 'Person']]\n",
      "Result: [[5, 6, 'Profession'], [11, 11, 'Person']]\n"
     ]
    }
   ],
   "source": [
    "# Returns: new array like [begin_ind, end_ind, entity_name] but first two elements are indexes of tokens\n",
    "# (orirginal entities array have indexes of characters whithin the original text)\n",
    "# !!! method will work correct if there is no different entities wrapping same words !!!\n",
    "def get_updated_entites_array(original_text, text_tokens, original_entities):\n",
    "    new_entities = [[0, 0, ''] for _ in range(len(original_entities))]\n",
    "    \n",
    "    token_bounds = get_bounds_of_tokens_in_text(original_text, text_tokens)\n",
    "    i = 0\n",
    "    token_ind = -1 # index of the last token encountered\n",
    "    token_bounds_ind = 0 # current index in token_bounds\n",
    "    entities_ind = 0 # current index in original_entities\n",
    "    \n",
    "    while (i < len(original_text)) and (entities_ind < len(original_entities)):\n",
    "        if token_bounds_ind < len(token_bounds):\n",
    "            if i == token_bounds[token_bounds_ind][0]:\n",
    "                token_ind = token_bounds_ind\n",
    "\n",
    "        if i == original_entities[entities_ind][0]:\n",
    "            new_entities[entities_ind][0] = token_ind\n",
    "        if i == original_entities[entities_ind][1] - 1:\n",
    "            # -1 because entities store index of end like (end_index + 1) \n",
    "            new_entities[entities_ind][1] = token_ind\n",
    "            new_entities[entities_ind][2] = original_entities[entities_ind][2]\n",
    "            entities_ind += 1\n",
    "\n",
    "        if token_bounds_ind < len(token_bounds):\n",
    "            if i == token_bounds[token_bounds_ind][1]:\n",
    "                token_bounds_ind += 1\n",
    "                continue\n",
    "\n",
    "        i += 1\n",
    "    \n",
    "    return new_entities\n",
    "\n",
    "# example\n",
    "text = \"Hello, I'm a writer. Nice to meet you\"\n",
    "tokens = text_to_tokens_2(text)\n",
    "entities = [[11, 19, \"Profession\"], [34, 37, \"Person\"]]\n",
    "print(f\"Text: {text}\")\n",
    "print(f\"Tokens: {tokens}\")\n",
    "print(f\"Entities: {entities}\")\n",
    "print(f\"Result: {get_updated_entites_array(text, tokens, entities)}\")"
   ]
  },
  {
   "cell_type": "markdown",
   "metadata": {},
   "source": [
    "Функция ниже использует все предыдущие вспомогательные методы для получения массива токенов и массива сущностей для каждого токена согласно \"BIO\" разметке"
   ]
  },
  {
   "cell_type": "code",
   "execution_count": 16,
   "metadata": {},
   "outputs": [],
   "source": [
    "# final functions to get tokens and their labels\n",
    "\n",
    "def get_tokens_and_labels(text, entities):\n",
    "    entities.sort(key=lambda x: x[0])\n",
    "    \n",
    "    text_tokens = text_to_tokens_2(text)\n",
    "\n",
    "    # make new entities array with bounds relates to text_tokens\n",
    "    new_entities = get_updated_entites_array(text, text_tokens, entities)\n",
    "    \n",
    "    # make labels\n",
    "    labels = ['O' for _ in range(len(text_tokens))]\n",
    "    for entity in new_entities:\n",
    "        labels[entity[0]] = 'B-' + entity[2]\n",
    "        for i in range(entity[0] + 1, entity[1] + 1):\n",
    "            labels[i] = 'I-' + entity[2]\n",
    "\n",
    "    return text_tokens, labels"
   ]
  },
  {
   "cell_type": "markdown",
   "metadata": {},
   "source": [
    "### Обработка всех входных файлов и сохранение результата в один файл"
   ]
  },
  {
   "cell_type": "code",
   "execution_count": 18,
   "metadata": {},
   "outputs": [
    {
     "data": {
      "text/html": [
       "<div>\n",
       "<style scoped>\n",
       "    .dataframe tbody tr th:only-of-type {\n",
       "        vertical-align: middle;\n",
       "    }\n",
       "\n",
       "    .dataframe tbody tr th {\n",
       "        vertical-align: top;\n",
       "    }\n",
       "\n",
       "    .dataframe thead th {\n",
       "        text-align: right;\n",
       "    }\n",
       "</style>\n",
       "<table border=\"1\" class=\"dataframe\">\n",
       "  <thead>\n",
       "    <tr style=\"text-align: right;\">\n",
       "      <th></th>\n",
       "      <th>tokens</th>\n",
       "      <th>labels</th>\n",
       "    </tr>\n",
       "  </thead>\n",
       "  <tbody>\n",
       "    <tr>\n",
       "      <th>0</th>\n",
       "      <td>[276626, математические, основания, информатик...</td>\n",
       "      <td>[O, O, O, O, O, O, O, O, O, O, O, O, O, O, O, ...</td>\n",
       "    </tr>\n",
       "    <tr>\n",
       "      <th>1</th>\n",
       "      <td>[278248, компьютерная, графика, в, курсе, изуч...</td>\n",
       "      <td>[O, O, O, O, O, O, O, O, O, O, O, O, O, O, O, ...</td>\n",
       "    </tr>\n",
       "    <tr>\n",
       "      <th>2</th>\n",
       "      <td>[288500, информационная, безопасность, цифровы...</td>\n",
       "      <td>[O, O, O, O, O, O, O, O, O, O, O, O, O, O, O, ...</td>\n",
       "    </tr>\n",
       "    <tr>\n",
       "      <th>3</th>\n",
       "      <td>[282060, разработка, безопасного, программного...</td>\n",
       "      <td>[O, O, O, O, O, O, O, O, O, O, O, O, O, O, O, ...</td>\n",
       "    </tr>\n",
       "    <tr>\n",
       "      <th>4</th>\n",
       "      <td>[275487, автоматизация, функционально, -, логи...</td>\n",
       "      <td>[O, O, O, O, O, O, O, O, O, O, O, O, O, O, O, ...</td>\n",
       "    </tr>\n",
       "    <tr>\n",
       "      <th>...</th>\n",
       "      <td>...</td>\n",
       "      <td>...</td>\n",
       "    </tr>\n",
       "    <tr>\n",
       "      <th>11047</th>\n",
       "      <td>[название, дисциплины, :, системы, поддержки, ...</td>\n",
       "      <td>[O, O, O, B-Technology, I-Technology, I-Techno...</td>\n",
       "    </tr>\n",
       "    <tr>\n",
       "      <th>11048</th>\n",
       "      <td>[название, дисциплины, :, электромагнитные, по...</td>\n",
       "      <td>[O, O, O, B-Technology, I-Technology, I-Techno...</td>\n",
       "    </tr>\n",
       "    <tr>\n",
       "      <th>11049</th>\n",
       "      <td>[название, дисциплины, :, материалы, фотоники,...</td>\n",
       "      <td>[O, O, O, B-Technology, I-Technology, O, O, O,...</td>\n",
       "    </tr>\n",
       "    <tr>\n",
       "      <th>11050</th>\n",
       "      <td>[название, дисциплины, :, методологические, пр...</td>\n",
       "      <td>[O, O, O, B-Method, I-Method, B-Technology, I-...</td>\n",
       "    </tr>\n",
       "    <tr>\n",
       "      <th>11051</th>\n",
       "      <td>[название, дисциплины, :, экономика, электроэн...</td>\n",
       "      <td>[O, O, O, B-Technology, I-Technology, O, O, O,...</td>\n",
       "    </tr>\n",
       "  </tbody>\n",
       "</table>\n",
       "<p>11052 rows × 2 columns</p>\n",
       "</div>"
      ],
      "text/plain": [
       "                                                  tokens  \\\n",
       "0      [276626, математические, основания, информатик...   \n",
       "1      [278248, компьютерная, графика, в, курсе, изуч...   \n",
       "2      [288500, информационная, безопасность, цифровы...   \n",
       "3      [282060, разработка, безопасного, программного...   \n",
       "4      [275487, автоматизация, функционально, -, логи...   \n",
       "...                                                  ...   \n",
       "11047  [название, дисциплины, :, системы, поддержки, ...   \n",
       "11048  [название, дисциплины, :, электромагнитные, по...   \n",
       "11049  [название, дисциплины, :, материалы, фотоники,...   \n",
       "11050  [название, дисциплины, :, методологические, пр...   \n",
       "11051  [название, дисциплины, :, экономика, электроэн...   \n",
       "\n",
       "                                                  labels  \n",
       "0      [O, O, O, O, O, O, O, O, O, O, O, O, O, O, O, ...  \n",
       "1      [O, O, O, O, O, O, O, O, O, O, O, O, O, O, O, ...  \n",
       "2      [O, O, O, O, O, O, O, O, O, O, O, O, O, O, O, ...  \n",
       "3      [O, O, O, O, O, O, O, O, O, O, O, O, O, O, O, ...  \n",
       "4      [O, O, O, O, O, O, O, O, O, O, O, O, O, O, O, ...  \n",
       "...                                                  ...  \n",
       "11047  [O, O, O, B-Technology, I-Technology, I-Techno...  \n",
       "11048  [O, O, O, B-Technology, I-Technology, I-Techno...  \n",
       "11049  [O, O, O, B-Technology, I-Technology, O, O, O,...  \n",
       "11050  [O, O, O, B-Method, I-Method, B-Technology, I-...  \n",
       "11051  [O, O, O, B-Technology, I-Technology, O, O, O,...  \n",
       "\n",
       "[11052 rows x 2 columns]"
      ]
     },
     "execution_count": 18,
     "metadata": {},
     "output_type": "execute_result"
    }
   ],
   "source": [
    "# process all the new files and save result to a single file\n",
    "\n",
    "new_df = pd.DataFrame(columns=['tokens', 'labels'])\n",
    "for path in ALL_PATHS:\n",
    "    temp_df = pd.read_json(path, lines=True)\n",
    "\n",
    "    current_df = pd.DataFrame([['' for i in range(2)] for _ in range(temp_df.shape[0])], columns=['tokens', 'labels'])\n",
    "    for i in range(temp_df.shape[0]):\n",
    "        tokens, labels = get_tokens_and_labels(temp_df['text'][i].lower(), temp_df['entities'][i])\n",
    "\n",
    "        current_df['tokens'][i] = tokens\n",
    "        current_df['labels'][i] = labels\n",
    "    \n",
    "    new_df = pd.concat([new_df, current_df], axis=0, ignore_index=True)\n",
    "\n",
    "new_df"
   ]
  },
  {
   "cell_type": "markdown",
   "metadata": {},
   "source": [
    "На моем вычислительном устройстве обработка заняла 1 мин и 11 сек"
   ]
  },
  {
   "cell_type": "markdown",
   "metadata": {},
   "source": [
    "Проверим, какие получились сущности"
   ]
  },
  {
   "cell_type": "code",
   "execution_count": null,
   "metadata": {},
   "outputs": [
    {
     "name": "stdout",
     "output_type": "stream",
     "text": [
      "{'I-SoftSkills', 'I-ProgrammingLanguage', 'B-Technology', 'I-Technology', 'I-Knowledge', 'I-Tool', 'B-Method', 'B-Knowledge', 'I-Method', 'B-ProgLanguage', 'O', 'B-ProgrammingLanguage', 'B-Tool', 'B-SoftSkills', 'I-ProgLanguage', 'B-'}\n"
     ]
    }
   ],
   "source": [
    "# check all possible tags\n",
    "def get_all_entities(df):\n",
    "    all_entities = set()\n",
    "    for i in range(df.shape[0]):\n",
    "        for j in range(len(df['labels'][i])):\n",
    "            all_entities.add(df['labels'][i][j])\n",
    "    return all_entities\n",
    "\n",
    "print(get_all_entities(new_df))"
   ]
  },
  {
   "cell_type": "markdown",
   "metadata": {},
   "source": [
    "Заменим \"ProgLanguage\" на \"ProgrammingLanguage\" и удалим выброс в виде разметки \"B-\" "
   ]
  },
  {
   "cell_type": "code",
   "execution_count": null,
   "metadata": {},
   "outputs": [],
   "source": [
    "for i in range(new_df.shape[0]):\n",
    "    for j in range(len(new_df['labels'][i])):\n",
    "        if new_df['labels'][i][j] == 'B-ProgLanguage':\n",
    "            new_df['labels'][i][j] = 'B-ProgrammingLanguage'\n",
    "        elif new_df['labels'][i][j] == 'I-ProgLanguage':\n",
    "            new_df['labels'][i][j] = 'I-ProgrammingLanguage'\n",
    "        elif new_df['labels'][i][j] == 'B-':\n",
    "            new_df['labels'][i][j] = 'O'\n",
    "\n",
    "print(get_all_entities(new_df))"
   ]
  },
  {
   "cell_type": "code",
   "execution_count": 21,
   "metadata": {},
   "outputs": [],
   "source": [
    "new_df.to_json('data_clean.json', index=False)"
   ]
  },
  {
   "cell_type": "code",
   "execution_count": 23,
   "metadata": {},
   "outputs": [
    {
     "data": {
      "text/html": [
       "<div>\n",
       "<style scoped>\n",
       "    .dataframe tbody tr th:only-of-type {\n",
       "        vertical-align: middle;\n",
       "    }\n",
       "\n",
       "    .dataframe tbody tr th {\n",
       "        vertical-align: top;\n",
       "    }\n",
       "\n",
       "    .dataframe thead th {\n",
       "        text-align: right;\n",
       "    }\n",
       "</style>\n",
       "<table border=\"1\" class=\"dataframe\">\n",
       "  <thead>\n",
       "    <tr style=\"text-align: right;\">\n",
       "      <th></th>\n",
       "      <th>tokens</th>\n",
       "      <th>labels</th>\n",
       "    </tr>\n",
       "  </thead>\n",
       "  <tbody>\n",
       "    <tr>\n",
       "      <th>0</th>\n",
       "      <td>[276626, математические, основания, информатик...</td>\n",
       "      <td>[O, O, O, O, O, O, O, O, O, O, O, O, O, O, O, ...</td>\n",
       "    </tr>\n",
       "    <tr>\n",
       "      <th>1</th>\n",
       "      <td>[278248, компьютерная, графика, в, курсе, изуч...</td>\n",
       "      <td>[O, O, O, O, O, O, O, O, O, O, O, O, O, O, O, ...</td>\n",
       "    </tr>\n",
       "    <tr>\n",
       "      <th>2</th>\n",
       "      <td>[288500, информационная, безопасность, цифровы...</td>\n",
       "      <td>[O, O, O, O, O, O, O, O, O, O, O, O, O, O, O, ...</td>\n",
       "    </tr>\n",
       "    <tr>\n",
       "      <th>3</th>\n",
       "      <td>[282060, разработка, безопасного, программного...</td>\n",
       "      <td>[O, O, O, O, O, O, O, O, O, O, O, O, O, O, O, ...</td>\n",
       "    </tr>\n",
       "    <tr>\n",
       "      <th>4</th>\n",
       "      <td>[275487, автоматизация, функционально, -, логи...</td>\n",
       "      <td>[O, O, O, O, O, O, O, O, O, O, O, O, O, O, O, ...</td>\n",
       "    </tr>\n",
       "  </tbody>\n",
       "</table>\n",
       "</div>"
      ],
      "text/plain": [
       "                                              tokens  \\\n",
       "0  [276626, математические, основания, информатик...   \n",
       "1  [278248, компьютерная, графика, в, курсе, изуч...   \n",
       "2  [288500, информационная, безопасность, цифровы...   \n",
       "3  [282060, разработка, безопасного, программного...   \n",
       "4  [275487, автоматизация, функционально, -, логи...   \n",
       "\n",
       "                                              labels  \n",
       "0  [O, O, O, O, O, O, O, O, O, O, O, O, O, O, O, ...  \n",
       "1  [O, O, O, O, O, O, O, O, O, O, O, O, O, O, O, ...  \n",
       "2  [O, O, O, O, O, O, O, O, O, O, O, O, O, O, O, ...  \n",
       "3  [O, O, O, O, O, O, O, O, O, O, O, O, O, O, O, ...  \n",
       "4  [O, O, O, O, O, O, O, O, O, O, O, O, O, O, O, ...  "
      ]
     },
     "execution_count": 23,
     "metadata": {},
     "output_type": "execute_result"
    }
   ],
   "source": [
    "# check if the file is correct\n",
    "df = pd.read_json('data_clean.json')\n",
    "df.head(5)"
   ]
  }
 ],
 "metadata": {
  "kernelspec": {
   "display_name": "Python 3 (ipykernel)",
   "language": "python",
   "name": "python3"
  },
  "language_info": {
   "codemirror_mode": {
    "name": "ipython",
    "version": 3
   },
   "file_extension": ".py",
   "mimetype": "text/x-python",
   "name": "python",
   "nbconvert_exporter": "python",
   "pygments_lexer": "ipython3",
   "version": "3.10.1"
  }
 },
 "nbformat": 4,
 "nbformat_minor": 4
}
