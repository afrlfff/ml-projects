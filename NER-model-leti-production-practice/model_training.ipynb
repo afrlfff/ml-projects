{
 "cells": [
  {
   "cell_type": "markdown",
   "metadata": {},
   "source": [
    "# Пару слов о блокноте"
   ]
  },
  {
   "cell_type": "markdown",
   "metadata": {},
   "source": [
    "__Задача блокнота__: проектирование и обучение модели машинного обучения для решения задачи NER (Named Entity Recognition).\n",
    "\n",
    "__P. S.__: блокнот является второй частью (последней) производственной практики по учебному курсу дополнительного образования. Основной используемой библиотекой будет `HuggingFace`, которая предосатвлет API для использования моделей популярных, а также пользовательских моделей трансформеров. Я буду использовать найденную модель и дообучать ее для решению моей задачи."
   ]
  },
  {
   "cell_type": "code",
   "execution_count": 1,
   "metadata": {
    "colab": {
     "base_uri": "https://localhost:8080/"
    },
    "executionInfo": {
     "elapsed": 27663,
     "status": "ok",
     "timestamp": 1725962592442,
     "user": {
      "displayName": "Alexander Frolov",
      "userId": "01534766444683263814"
     },
     "user_tz": -180
    },
    "id": "VpK-xLGhzoUD",
    "outputId": "68534e3b-ed2e-4fb5-f0b0-8c8c901c66b3"
   },
   "outputs": [
    {
     "name": "stdout",
     "output_type": "stream",
     "text": [
      "\u001b[?25l     \u001b[90m━━━━━━━━━━━━━━━━━━━━━━━━━━━━━━━━━━━━━━━━\u001b[0m \u001b[32m0.0/43.6 kB\u001b[0m \u001b[31m?\u001b[0m eta \u001b[36m-:--:--\u001b[0m\r",
      "\u001b[2K     \u001b[90m━━━━━━━━━━━━━━━━━━━━━━━━━━━━━━━━━━━━━━━━\u001b[0m \u001b[32m43.6/43.6 kB\u001b[0m \u001b[31m2.3 MB/s\u001b[0m eta \u001b[36m0:00:00\u001b[0m\n",
      "\u001b[?25h  Preparing metadata (setup.py) ... \u001b[?25l\u001b[?25hdone\n",
      "\u001b[2K   \u001b[90m━━━━━━━━━━━━━━━━━━━━━━━━━━━━━━━━━━━━━━━━\u001b[0m \u001b[32m527.3/527.3 kB\u001b[0m \u001b[31m7.7 MB/s\u001b[0m eta \u001b[36m0:00:00\u001b[0m\n",
      "\u001b[2K   \u001b[90m━━━━━━━━━━━━━━━━━━━━━━━━━━━━━━━━━━━━━━━━\u001b[0m \u001b[32m116.3/116.3 kB\u001b[0m \u001b[31m6.8 MB/s\u001b[0m eta \u001b[36m0:00:00\u001b[0m\n",
      "\u001b[2K   \u001b[90m━━━━━━━━━━━━━━━━━━━━━━━━━━━━━━━━━━━━━━━━\u001b[0m \u001b[32m39.9/39.9 MB\u001b[0m \u001b[31m15.4 MB/s\u001b[0m eta \u001b[36m0:00:00\u001b[0m\n",
      "\u001b[2K   \u001b[90m━━━━━━━━━━━━━━━━━━━━━━━━━━━━━━━━━━━━━━━━\u001b[0m \u001b[32m134.8/134.8 kB\u001b[0m \u001b[31m5.8 MB/s\u001b[0m eta \u001b[36m0:00:00\u001b[0m\n",
      "\u001b[2K   \u001b[90m━━━━━━━━━━━━━━━━━━━━━━━━━━━━━━━━━━━━━━━━\u001b[0m \u001b[32m194.1/194.1 kB\u001b[0m \u001b[31m10.8 MB/s\u001b[0m eta \u001b[36m0:00:00\u001b[0m\n",
      "\u001b[?25h  Building wheel for seqeval (setup.py) ... \u001b[?25l\u001b[?25hdone\n",
      "\u001b[31mERROR: pip's dependency resolver does not currently take into account all the packages that are installed. This behaviour is the source of the following dependency conflicts.\n",
      "cudf-cu12 24.4.1 requires pyarrow<15.0.0a0,>=14.0.1, but you have pyarrow 17.0.0 which is incompatible.\n",
      "ibis-framework 8.0.0 requires pyarrow<16,>=2, but you have pyarrow 17.0.0 which is incompatible.\u001b[0m\u001b[31m\n",
      "\u001b[0m"
     ]
    }
   ],
   "source": [
    "! pip install datasets seqeval -q"
   ]
  },
  {
   "cell_type": "code",
   "execution_count": 2,
   "metadata": {
    "executionInfo": {
     "elapsed": 30558,
     "status": "ok",
     "timestamp": 1725962622995,
     "user": {
      "displayName": "Alexander Frolov",
      "userId": "01534766444683263814"
     },
     "user_tz": -180
    },
    "id": "Yqa9sJh5zRRt"
   },
   "outputs": [],
   "source": [
    "import pandas as pd\n",
    "import datasets\n",
    "import numpy as np\n",
    "from sklearn.model_selection import train_test_split\n",
    "from transformers import BertTokenizerFast # try bert for token classification\n",
    "from transformers import AutoModelForTokenClassification\n",
    "from transformers import DataCollatorForTokenClassification\n",
    "from transformers import TrainingArguments, Trainer\n",
    "from transformers import pipeline\n",
    "import json\n",
    "from tokenizers.pre_tokenizers import Whitespace\n",
    "import re\n",
    "import os\n",
    "import shutil\n",
    "import torch"
   ]
  },
  {
   "cell_type": "code",
   "execution_count": 3,
   "metadata": {
    "executionInfo": {
     "elapsed": 5,
     "status": "ok",
     "timestamp": 1725962622996,
     "user": {
      "displayName": "Alexander Frolov",
      "userId": "01534766444683263814"
     },
     "user_tz": -180
    },
    "id": "aA7ZAyVoenFm"
   },
   "outputs": [],
   "source": [
    "labels2ind = {\n",
    "    'O': 0,\n",
    "    'B-Knowledge': 1,\n",
    "    'I-Knowledge': 2,\n",
    "    'B-SoftSkills': 3,\n",
    "    'I-SoftSkills': 4,\n",
    "    'B-Tool': 5,\n",
    "    'I-Tool': 6,\n",
    "    'B-ProgrammingLanguage': 7,\n",
    "    'I-ProgrammingLanguage': 8,\n",
    "    'B-Method': 9,\n",
    "    'I-Method': 10,\n",
    "    'B-Technology': 11,\n",
    "    'I-Technology': 12,\n",
    "}\n",
    "ind2labels = {v: k for k, v in labels2ind.items()}"
   ]
  },
  {
   "cell_type": "code",
   "execution_count": 4,
   "metadata": {
    "colab": {
     "base_uri": "https://localhost:8080/"
    },
    "executionInfo": {
     "elapsed": 5,
     "status": "ok",
     "timestamp": 1725962622996,
     "user": {
      "displayName": "Alexander Frolov",
      "userId": "01534766444683263814"
     },
     "user_tz": -180
    },
    "id": "8PJvEV12r5nO",
    "outputId": "e94f4e82-7db1-46ba-f6a5-fbca4de8217a"
   },
   "outputs": [
    {
     "data": {
      "text/plain": [
       "['O',\n",
       " 'B-Knowledge',\n",
       " 'I-Knowledge',\n",
       " 'B-SoftSkills',\n",
       " 'I-SoftSkills',\n",
       " 'B-Tool',\n",
       " 'I-Tool',\n",
       " 'B-ProgrammingLanguage',\n",
       " 'I-ProgrammingLanguage',\n",
       " 'B-Method',\n",
       " 'I-Method',\n",
       " 'B-Technology',\n",
       " 'I-Technology']"
      ]
     },
     "execution_count": 4,
     "metadata": {},
     "output_type": "execute_result"
    }
   ],
   "source": [
    "labels_list = [key for key, value in list(labels2ind.items())]\n",
    "labels_list"
   ]
  },
  {
   "cell_type": "markdown",
   "metadata": {
    "id": "a5XfXNuviAIr"
   },
   "source": [
    "## 1. Загрузка предобработанных данных"
   ]
  },
  {
   "cell_type": "markdown",
   "metadata": {
    "id": "S39-GoOziFI0"
   },
   "source": [
    "Данные были обработаны и объединены в один файл `data_clean.json`. Загрузим этот файл."
   ]
  },
  {
   "cell_type": "code",
   "execution_count": 20,
   "metadata": {
    "colab": {
     "base_uri": "https://localhost:8080/",
     "height": 0
    },
    "executionInfo": {
     "elapsed": 2260,
     "status": "ok",
     "timestamp": 1725962816916,
     "user": {
      "displayName": "Alexander Frolov",
      "userId": "01534766444683263814"
     },
     "user_tz": -180
    },
    "id": "3UU9oT-j4ZG0",
    "outputId": "b6cd6dd8-3f80-4b59-b866-283786a723f5"
   },
   "outputs": [
    {
     "data": {
      "application/vnd.google.colaboratory.intrinsic+json": {
       "summary": "{\n  \"name\": \"df\",\n  \"rows\": 11379,\n  \"fields\": [\n    {\n      \"column\": \"tokens\",\n      \"properties\": {\n        \"dtype\": \"object\",\n        \"semantic_type\": \"\",\n        \"description\": \"\"\n      }\n    },\n    {\n      \"column\": \"labels\",\n      \"properties\": {\n        \"dtype\": \"object\",\n        \"semantic_type\": \"\",\n        \"description\": \"\"\n      }\n    }\n  ]\n}",
       "type": "dataframe",
       "variable_name": "df"
      },
      "text/html": [
       "\n",
       "  <div id=\"df-8238ef9e-8a42-4add-a2fc-d062580c130e\" class=\"colab-df-container\">\n",
       "    <div>\n",
       "<style scoped>\n",
       "    .dataframe tbody tr th:only-of-type {\n",
       "        vertical-align: middle;\n",
       "    }\n",
       "\n",
       "    .dataframe tbody tr th {\n",
       "        vertical-align: top;\n",
       "    }\n",
       "\n",
       "    .dataframe thead th {\n",
       "        text-align: right;\n",
       "    }\n",
       "</style>\n",
       "<table border=\"1\" class=\"dataframe\">\n",
       "  <thead>\n",
       "    <tr style=\"text-align: right;\">\n",
       "      <th></th>\n",
       "      <th>tokens</th>\n",
       "      <th>labels</th>\n",
       "    </tr>\n",
       "  </thead>\n",
       "  <tbody>\n",
       "    <tr>\n",
       "      <th>0</th>\n",
       "      <td>[101144061, тьютор, (, помощник, ), обязанност...</td>\n",
       "      <td>[O, O, O, O, O, O, O, O, O, O, O, O, O, O, O, ...</td>\n",
       "    </tr>\n",
       "    <tr>\n",
       "      <th>1</th>\n",
       "      <td>[102098163, психолог, обязанности, :, организа...</td>\n",
       "      <td>[O, O, O, O, O, O, O, O, O, O, O, O, O, O, O, ...</td>\n",
       "    </tr>\n",
       "    <tr>\n",
       "      <th>2</th>\n",
       "      <td>[101516171, педагог, -, психолог, црвсп, -, ро...</td>\n",
       "      <td>[O, O, O, O, O, O, O, O, O, O, O, O, O, O, O, ...</td>\n",
       "    </tr>\n",
       "  </tbody>\n",
       "</table>\n",
       "</div>\n",
       "    <div class=\"colab-df-buttons\">\n",
       "\n",
       "  <div class=\"colab-df-container\">\n",
       "    <button class=\"colab-df-convert\" onclick=\"convertToInteractive('df-8238ef9e-8a42-4add-a2fc-d062580c130e')\"\n",
       "            title=\"Convert this dataframe to an interactive table.\"\n",
       "            style=\"display:none;\">\n",
       "\n",
       "  <svg xmlns=\"http://www.w3.org/2000/svg\" height=\"24px\" viewBox=\"0 -960 960 960\">\n",
       "    <path d=\"M120-120v-720h720v720H120Zm60-500h600v-160H180v160Zm220 220h160v-160H400v160Zm0 220h160v-160H400v160ZM180-400h160v-160H180v160Zm440 0h160v-160H620v160ZM180-180h160v-160H180v160Zm440 0h160v-160H620v160Z\"/>\n",
       "  </svg>\n",
       "    </button>\n",
       "\n",
       "  <style>\n",
       "    .colab-df-container {\n",
       "      display:flex;\n",
       "      gap: 12px;\n",
       "    }\n",
       "\n",
       "    .colab-df-convert {\n",
       "      background-color: #E8F0FE;\n",
       "      border: none;\n",
       "      border-radius: 50%;\n",
       "      cursor: pointer;\n",
       "      display: none;\n",
       "      fill: #1967D2;\n",
       "      height: 32px;\n",
       "      padding: 0 0 0 0;\n",
       "      width: 32px;\n",
       "    }\n",
       "\n",
       "    .colab-df-convert:hover {\n",
       "      background-color: #E2EBFA;\n",
       "      box-shadow: 0px 1px 2px rgba(60, 64, 67, 0.3), 0px 1px 3px 1px rgba(60, 64, 67, 0.15);\n",
       "      fill: #174EA6;\n",
       "    }\n",
       "\n",
       "    .colab-df-buttons div {\n",
       "      margin-bottom: 4px;\n",
       "    }\n",
       "\n",
       "    [theme=dark] .colab-df-convert {\n",
       "      background-color: #3B4455;\n",
       "      fill: #D2E3FC;\n",
       "    }\n",
       "\n",
       "    [theme=dark] .colab-df-convert:hover {\n",
       "      background-color: #434B5C;\n",
       "      box-shadow: 0px 1px 3px 1px rgba(0, 0, 0, 0.15);\n",
       "      filter: drop-shadow(0px 1px 2px rgba(0, 0, 0, 0.3));\n",
       "      fill: #FFFFFF;\n",
       "    }\n",
       "  </style>\n",
       "\n",
       "    <script>\n",
       "      const buttonEl =\n",
       "        document.querySelector('#df-8238ef9e-8a42-4add-a2fc-d062580c130e button.colab-df-convert');\n",
       "      buttonEl.style.display =\n",
       "        google.colab.kernel.accessAllowed ? 'block' : 'none';\n",
       "\n",
       "      async function convertToInteractive(key) {\n",
       "        const element = document.querySelector('#df-8238ef9e-8a42-4add-a2fc-d062580c130e');\n",
       "        const dataTable =\n",
       "          await google.colab.kernel.invokeFunction('convertToInteractive',\n",
       "                                                    [key], {});\n",
       "        if (!dataTable) return;\n",
       "\n",
       "        const docLinkHtml = 'Like what you see? Visit the ' +\n",
       "          '<a target=\"_blank\" href=https://colab.research.google.com/notebooks/data_table.ipynb>data table notebook</a>'\n",
       "          + ' to learn more about interactive tables.';\n",
       "        element.innerHTML = '';\n",
       "        dataTable['output_type'] = 'display_data';\n",
       "        await google.colab.output.renderOutput(dataTable, element);\n",
       "        const docLink = document.createElement('div');\n",
       "        docLink.innerHTML = docLinkHtml;\n",
       "        element.appendChild(docLink);\n",
       "      }\n",
       "    </script>\n",
       "  </div>\n",
       "\n",
       "\n",
       "<div id=\"df-9b8abe0f-b85b-4217-a862-ee8d28a94fda\">\n",
       "  <button class=\"colab-df-quickchart\" onclick=\"quickchart('df-9b8abe0f-b85b-4217-a862-ee8d28a94fda')\"\n",
       "            title=\"Suggest charts\"\n",
       "            style=\"display:none;\">\n",
       "\n",
       "<svg xmlns=\"http://www.w3.org/2000/svg\" height=\"24px\"viewBox=\"0 0 24 24\"\n",
       "     width=\"24px\">\n",
       "    <g>\n",
       "        <path d=\"M19 3H5c-1.1 0-2 .9-2 2v14c0 1.1.9 2 2 2h14c1.1 0 2-.9 2-2V5c0-1.1-.9-2-2-2zM9 17H7v-7h2v7zm4 0h-2V7h2v10zm4 0h-2v-4h2v4z\"/>\n",
       "    </g>\n",
       "</svg>\n",
       "  </button>\n",
       "\n",
       "<style>\n",
       "  .colab-df-quickchart {\n",
       "      --bg-color: #E8F0FE;\n",
       "      --fill-color: #1967D2;\n",
       "      --hover-bg-color: #E2EBFA;\n",
       "      --hover-fill-color: #174EA6;\n",
       "      --disabled-fill-color: #AAA;\n",
       "      --disabled-bg-color: #DDD;\n",
       "  }\n",
       "\n",
       "  [theme=dark] .colab-df-quickchart {\n",
       "      --bg-color: #3B4455;\n",
       "      --fill-color: #D2E3FC;\n",
       "      --hover-bg-color: #434B5C;\n",
       "      --hover-fill-color: #FFFFFF;\n",
       "      --disabled-bg-color: #3B4455;\n",
       "      --disabled-fill-color: #666;\n",
       "  }\n",
       "\n",
       "  .colab-df-quickchart {\n",
       "    background-color: var(--bg-color);\n",
       "    border: none;\n",
       "    border-radius: 50%;\n",
       "    cursor: pointer;\n",
       "    display: none;\n",
       "    fill: var(--fill-color);\n",
       "    height: 32px;\n",
       "    padding: 0;\n",
       "    width: 32px;\n",
       "  }\n",
       "\n",
       "  .colab-df-quickchart:hover {\n",
       "    background-color: var(--hover-bg-color);\n",
       "    box-shadow: 0 1px 2px rgba(60, 64, 67, 0.3), 0 1px 3px 1px rgba(60, 64, 67, 0.15);\n",
       "    fill: var(--button-hover-fill-color);\n",
       "  }\n",
       "\n",
       "  .colab-df-quickchart-complete:disabled,\n",
       "  .colab-df-quickchart-complete:disabled:hover {\n",
       "    background-color: var(--disabled-bg-color);\n",
       "    fill: var(--disabled-fill-color);\n",
       "    box-shadow: none;\n",
       "  }\n",
       "\n",
       "  .colab-df-spinner {\n",
       "    border: 2px solid var(--fill-color);\n",
       "    border-color: transparent;\n",
       "    border-bottom-color: var(--fill-color);\n",
       "    animation:\n",
       "      spin 1s steps(1) infinite;\n",
       "  }\n",
       "\n",
       "  @keyframes spin {\n",
       "    0% {\n",
       "      border-color: transparent;\n",
       "      border-bottom-color: var(--fill-color);\n",
       "      border-left-color: var(--fill-color);\n",
       "    }\n",
       "    20% {\n",
       "      border-color: transparent;\n",
       "      border-left-color: var(--fill-color);\n",
       "      border-top-color: var(--fill-color);\n",
       "    }\n",
       "    30% {\n",
       "      border-color: transparent;\n",
       "      border-left-color: var(--fill-color);\n",
       "      border-top-color: var(--fill-color);\n",
       "      border-right-color: var(--fill-color);\n",
       "    }\n",
       "    40% {\n",
       "      border-color: transparent;\n",
       "      border-right-color: var(--fill-color);\n",
       "      border-top-color: var(--fill-color);\n",
       "    }\n",
       "    60% {\n",
       "      border-color: transparent;\n",
       "      border-right-color: var(--fill-color);\n",
       "    }\n",
       "    80% {\n",
       "      border-color: transparent;\n",
       "      border-right-color: var(--fill-color);\n",
       "      border-bottom-color: var(--fill-color);\n",
       "    }\n",
       "    90% {\n",
       "      border-color: transparent;\n",
       "      border-bottom-color: var(--fill-color);\n",
       "    }\n",
       "  }\n",
       "</style>\n",
       "\n",
       "  <script>\n",
       "    async function quickchart(key) {\n",
       "      const quickchartButtonEl =\n",
       "        document.querySelector('#' + key + ' button');\n",
       "      quickchartButtonEl.disabled = true;  // To prevent multiple clicks.\n",
       "      quickchartButtonEl.classList.add('colab-df-spinner');\n",
       "      try {\n",
       "        const charts = await google.colab.kernel.invokeFunction(\n",
       "            'suggestCharts', [key], {});\n",
       "      } catch (error) {\n",
       "        console.error('Error during call to suggestCharts:', error);\n",
       "      }\n",
       "      quickchartButtonEl.classList.remove('colab-df-spinner');\n",
       "      quickchartButtonEl.classList.add('colab-df-quickchart-complete');\n",
       "    }\n",
       "    (() => {\n",
       "      let quickchartButtonEl =\n",
       "        document.querySelector('#df-9b8abe0f-b85b-4217-a862-ee8d28a94fda button');\n",
       "      quickchartButtonEl.style.display =\n",
       "        google.colab.kernel.accessAllowed ? 'block' : 'none';\n",
       "    })();\n",
       "  </script>\n",
       "</div>\n",
       "    </div>\n",
       "  </div>\n"
      ],
      "text/plain": [
       "                                              tokens  \\\n",
       "0  [101144061, тьютор, (, помощник, ), обязанност...   \n",
       "1  [102098163, психолог, обязанности, :, организа...   \n",
       "2  [101516171, педагог, -, психолог, црвсп, -, ро...   \n",
       "\n",
       "                                              labels  \n",
       "0  [O, O, O, O, O, O, O, O, O, O, O, O, O, O, O, ...  \n",
       "1  [O, O, O, O, O, O, O, O, O, O, O, O, O, O, O, ...  \n",
       "2  [O, O, O, O, O, O, O, O, O, O, O, O, O, O, O, ...  "
      ]
     },
     "execution_count": 20,
     "metadata": {},
     "output_type": "execute_result"
    }
   ],
   "source": [
    "df = pd.read_json('data_clean.json')\n",
    "df.head(3)"
   ]
  },
  {
   "cell_type": "markdown",
   "metadata": {
    "id": "uy7iKr3fibH-"
   },
   "source": [
    "## 2. Подготовка данных и модели для обучения"
   ]
  },
  {
   "cell_type": "markdown",
   "metadata": {
    "id": "flqicC5cdMUW"
   },
   "source": [
    "#### 2.1. Объединение данных в датасет библиотеки HuggingFace"
   ]
  },
  {
   "cell_type": "code",
   "execution_count": 21,
   "metadata": {
    "executionInfo": {
     "elapsed": 5,
     "status": "ok",
     "timestamp": 1725962816917,
     "user": {
      "displayName": "Alexander Frolov",
      "userId": "01534766444683263814"
     },
     "user_tz": -180
    },
    "id": "9N9GcG7Y4ZET"
   },
   "outputs": [],
   "source": [
    "train, test = train_test_split(df, test_size=0.2)\n",
    "val, test = train_test_split(test, test_size=0.5)\n",
    "\n",
    "df_dict = dict()\n",
    "df_dict['train'] = train\n",
    "df_dict['validate'] = val\n",
    "df_dict['test'] = test"
   ]
  },
  {
   "cell_type": "code",
   "execution_count": 22,
   "metadata": {
    "colab": {
     "base_uri": "https://localhost:8080/"
    },
    "executionInfo": {
     "elapsed": 1593,
     "status": "ok",
     "timestamp": 1725962818506,
     "user": {
      "displayName": "Alexander Frolov",
      "userId": "01534766444683263814"
     },
     "user_tz": -180
    },
    "id": "e63phFqf9LW6",
    "outputId": "8561a7bb-877d-4876-fd99-8d0b83527793"
   },
   "outputs": [
    {
     "data": {
      "text/plain": [
       "DatasetDict({\n",
       "    train: Dataset({\n",
       "        features: ['tokens', 'labels', '__index_level_0__'],\n",
       "        num_rows: 9103\n",
       "    })\n",
       "    validation: Dataset({\n",
       "        features: ['tokens', 'labels', '__index_level_0__'],\n",
       "        num_rows: 1138\n",
       "    })\n",
       "    test: Dataset({\n",
       "        features: ['tokens', 'labels', '__index_level_0__'],\n",
       "        num_rows: 1138\n",
       "    })\n",
       "})"
      ]
     },
     "execution_count": 22,
     "metadata": {},
     "output_type": "execute_result"
    }
   ],
   "source": [
    "dataset = datasets.DatasetDict({\n",
    "    'train': datasets.Dataset.from_pandas(df_dict['train']),\n",
    "    'validation': datasets.Dataset.from_pandas(df_dict['validate']),\n",
    "    'test': datasets.Dataset.from_pandas(df_dict['test'])})\n",
    "\n",
    "dataset"
   ]
  },
  {
   "cell_type": "code",
   "execution_count": 23,
   "metadata": {
    "colab": {
     "base_uri": "https://localhost:8080/"
    },
    "executionInfo": {
     "elapsed": 6,
     "status": "ok",
     "timestamp": 1725962818506,
     "user": {
      "displayName": "Alexander Frolov",
      "userId": "01534766444683263814"
     },
     "user_tz": -180
    },
    "id": "6F4h6lBf_msQ",
    "outputId": "7ddbd171-f159-4362-ac70-dd8dadd0923c"
   },
   "outputs": [
    {
     "name": "stdout",
     "output_type": "stream",
     "text": [
      "[':', 'методы', 'оценки', 'объемов', 'и', 'сроков', 'работ', 'по', 'реализации', 'проектов', 'в', 'продуктивную', 'среду', ';', 'экспертное', 'и', 'профессиональное', 'знание', ':', 'os', 'linux', '(', 'centos', ',', 'debian', '),', 'систем', 'виртуализации', '(', 'esxi', ',', 'hyper', '-', 'v', ',', 'proxmox', '),', 'субд', '(', 'psql', ',', 'mongo', ',', 'riak', '),', 'протоколов', 'передачи', 'данных', '(', 'tcp', ',', 'udp', '),', 'языков', 'программирования', '(', 'python', ',', 'bash', ')', 'для', 'написания', 'скриптов', 'автоматизации', ',', 'систем', 'контейнеризации', 'и', 'управления', 'контейнерами', '(', 'docker', ',', 'docker', '-', 'compose', ');', 'желателен', 'опыт', 'работы', 'с', 'системами', 'и', 'по', ',', 'работающими', 'в', 'закрытых', 'контурах', '.', 'centos', '1', '.', 'gitlab', ',', 'team', 'city', ',', 'ansible', ',', 'bash', '/', 'sh', '2', '.', 'postgresql', ',', 'mongodb', ',', 'oracle', '3', '.', 'hadoop', ',', 'apache', 'spark', ',', 'apache', 'ignite', '4', '.', 'kafka', ',', 'rabbitmq', '5', '.', 'consul', ',', 'zookeeper', '6', '.', 'docker', ',', 'docker', '-', 'swarm', ',', 'nomad', '7', '.', 'esxi', '.', 'sql', ',', 'linux', ',', 'ms', 'sql', ',', 'windows', '7', ',', 'информационные', 'технологии', '.']\n",
      "['O', 'O', 'O', 'O', 'O', 'O', 'O', 'O', 'O', 'O', 'O', 'O', 'O', 'O', 'O', 'O', 'O', 'O', 'O', 'O', 'B-Technology', 'O', 'B-Tool', 'O', 'B-Tool', 'O', 'O', 'O', 'O', 'O', 'O', 'O', 'O', 'O', 'O', 'O', 'O', 'B-Technology', 'O', 'B-Tool', 'O', 'B-Tool', 'O', 'B-Tool', 'O', 'O', 'O', 'O', 'O', 'B-Technology', 'O', 'B-Technology', 'O', 'O', 'O', 'O', 'B-ProgrammingLanguage', 'O', 'B-ProgrammingLanguage', 'O', 'O', 'O', 'O', 'O', 'O', 'O', 'O', 'O', 'O', 'O', 'O', 'B-Tool', 'O', 'B-Tool', 'I-Tool', 'I-Tool', 'O', 'O', 'O', 'O', 'O', 'O', 'O', 'O', 'O', 'O', 'O', 'O', 'O', 'O', 'B-Tool', 'O', 'O', 'B-Tool', 'O', 'B-Tool', 'I-Tool', 'O', 'B-Tool', 'O', 'B-ProgrammingLanguage', 'O', 'B-Tool', 'O', 'O', 'B-Tool', 'O', 'B-Tool', 'O', 'B-Tool', 'O', 'O', 'B-Tool', 'O', 'B-Tool', 'I-Tool', 'O', 'B-Tool', 'I-Tool', 'O', 'O', 'B-Tool', 'O', 'B-Tool', 'O', 'O', 'B-Tool', 'O', 'B-Tool', 'O', 'O', 'B-Tool', 'O', 'B-Tool', 'I-Tool', 'I-Tool', 'O', 'B-Technology', 'O', 'O', 'B-Tool', 'O', 'B-ProgrammingLanguage', 'O', 'B-Technology', 'O', 'B-Tool', 'I-Tool', 'O', 'B-Technology', 'I-Technology', 'O', 'O', 'O', 'O']\n"
     ]
    }
   ],
   "source": [
    "# example\n",
    "print(dataset['train'][0]['tokens'])\n",
    "print(dataset['train'][0]['labels'])"
   ]
  },
  {
   "cell_type": "markdown",
   "metadata": {
    "id": "Sjy2MfOXdUJ5"
   },
   "source": [
    "#### 2.2. Импорт токенайзера"
   ]
  },
  {
   "cell_type": "code",
   "execution_count": 24,
   "metadata": {
    "colab": {
     "base_uri": "https://localhost:8080/",
     "height": 0,
     "referenced_widgets": [
      "2d29e7143e40459e952fd17fba49f48f",
      "21e135a69a2e4282aad6c1bc7f92ed65",
      "cdb339d5fd664f359865b5dbc2d3a2ba",
      "056e18adf61c479b8454994cffe32409",
      "4b479187f6394a02bc03d9d2d01cfa2a",
      "433824946d914cc3942451ea7f27ea6f",
      "aed64773783f44e5b55bab114cf823cd",
      "b9a3272e05d8493aa867441b3c7039e5",
      "0d3ff3bc67c34006a2049aa3d3f45530",
      "3244f4345c10462e82cdfbac322eca53",
      "a8d9d677da784f8c9bb4071e8ba7f5f7",
      "615d0fad355640e3b9158acb8ced1b50",
      "d8ede1bbe70d4a48ae1e3bf4aa4faa1a",
      "9ffea34ad2a64dc993a142c01c720ddf",
      "1818b81a54404e46ade8467af39ec983",
      "6681f207e2e9486aaf39c983acbe799a",
      "0f270d76f46e4dafa2e317ea65e95c1b",
      "3dc135ec3e3d42ebb552a6719aa7758b",
      "a26f11113e394b32874931a3d71b1456",
      "604f0b8ada0c4a0d813384acb061670f",
      "9922d01ba1c6418da48b53eeddf67dd4",
      "37a95136e29440a799ff712891cbfef7",
      "91bfd8eea71144b88a4b365ca83c2e2b",
      "b7b77f7a853a473fab2bef50093ea17a",
      "1a3421eb28af4ea2b3bdff8d3c675b5b",
      "697e6392226d42fe805c7d5b1a0b3105",
      "3f8895f7e6e04e2783a2e9411d53822e",
      "3d2c2dcf45ca4bb0979be81d09f0267e",
      "40e28d81b1b44b2ba1aa05d550c3fede",
      "2676cd1e1c534c619861de1acba05aa3",
      "f1ba8b76c543433ab70b09f63cfeb8e1",
      "9348c51695d645f38c8e448d8fa1b025",
      "e9e042d241fe462cb9292318507e181c",
      "3eeed311ae114576af1615e50fdc7582",
      "e1de4738feb44d8f896a07894bb9a9c8",
      "8268b85a63b0462083485bdc16dfe9d8",
      "ea315334ebba4e20992f62e5117fb85a",
      "0806e0de0dad4a30820360cedea49d14",
      "271c556563e6400aaabf1c0bf8645d3f",
      "a1a79752339a473fa8e0a2c634962717",
      "4dd1784f7c7a45e0b9d8f63ea554a4e8",
      "850ae54ed8354f89a4bfa08b483a9d71",
      "7b2df3bf433449028222ab045d1e815a",
      "87bbe2c100c145719e6865274ce8e45b"
     ]
    },
    "executionInfo": {
     "elapsed": 2749,
     "status": "ok",
     "timestamp": 1725962821250,
     "user": {
      "displayName": "Alexander Frolov",
      "userId": "01534766444683263814"
     },
     "user_tz": -180
    },
    "id": "Z5poBwaZzRND",
    "outputId": "f215c6a6-03bc-47d1-c5b3-1f9d07d266ae"
   },
   "outputs": [
    {
     "name": "stderr",
     "output_type": "stream",
     "text": [
      "/usr/local/lib/python3.10/dist-packages/huggingface_hub/utils/_token.py:89: UserWarning: \n",
      "The secret `HF_TOKEN` does not exist in your Colab secrets.\n",
      "To authenticate with the Hugging Face Hub, create a token in your settings tab (https://huggingface.co/settings/tokens), set it as secret in your Google Colab and restart your session.\n",
      "You will be able to reuse this secret in all of your notebooks.\n",
      "Please note that authentication is recommended but still optional to access public models or datasets.\n",
      "  warnings.warn(\n"
     ]
    },
    {
     "data": {
      "application/vnd.jupyter.widget-view+json": {
       "model_id": "2d29e7143e40459e952fd17fba49f48f",
       "version_major": 2,
       "version_minor": 0
      },
      "text/plain": [
       "tokenizer_config.json:   0%|          | 0.00/236 [00:00<?, ?B/s]"
      ]
     },
     "metadata": {},
     "output_type": "display_data"
    },
    {
     "data": {
      "application/vnd.jupyter.widget-view+json": {
       "model_id": "615d0fad355640e3b9158acb8ced1b50",
       "version_major": 2,
       "version_minor": 0
      },
      "text/plain": [
       "vocab.txt:   0%|          | 0.00/1.65M [00:00<?, ?B/s]"
      ]
     },
     "metadata": {},
     "output_type": "display_data"
    },
    {
     "data": {
      "application/vnd.jupyter.widget-view+json": {
       "model_id": "91bfd8eea71144b88a4b365ca83c2e2b",
       "version_major": 2,
       "version_minor": 0
      },
      "text/plain": [
       "tokenizer.json:   0%|          | 0.00/2.62M [00:00<?, ?B/s]"
      ]
     },
     "metadata": {},
     "output_type": "display_data"
    },
    {
     "data": {
      "application/vnd.jupyter.widget-view+json": {
       "model_id": "3eeed311ae114576af1615e50fdc7582",
       "version_major": 2,
       "version_minor": 0
      },
      "text/plain": [
       "special_tokens_map.json:   0%|          | 0.00/112 [00:00<?, ?B/s]"
      ]
     },
     "metadata": {},
     "output_type": "display_data"
    },
    {
     "name": "stderr",
     "output_type": "stream",
     "text": [
      "/usr/local/lib/python3.10/dist-packages/transformers/tokenization_utils_base.py:1601: FutureWarning: `clean_up_tokenization_spaces` was not set. It will be set to `True` by default. This behavior will be depracted in transformers v4.45, and will be then set to `False` by default. For more details check this issue: https://github.com/huggingface/transformers/issues/31884\n",
      "  warnings.warn(\n"
     ]
    }
   ],
   "source": [
    "# лучший из токенайзеров для русского языка, который я смог найти на HuggingFace hub\n",
    "model_name = 'KoichiYasuoka/bert-base-russian-upos'\n",
    "\n",
    "tokenizer = BertTokenizerFast.from_pretrained(model_name)"
   ]
  },
  {
   "cell_type": "markdown",
   "metadata": {
    "id": "V0fUgUTdit6U"
   },
   "source": [
    "Посмотрим на результат токенизации одного из экземпляров датасета"
   ]
  },
  {
   "cell_type": "code",
   "execution_count": 25,
   "metadata": {
    "colab": {
     "base_uri": "https://localhost:8080/"
    },
    "executionInfo": {
     "elapsed": 1022,
     "status": "ok",
     "timestamp": 1725962822266,
     "user": {
      "displayName": "Alexander Frolov",
      "userId": "01534766444683263814"
     },
     "user_tz": -180
    },
    "id": "28scI1PLAYlc",
    "outputId": "808c3dd6-2fd9-4e02-fc34-f97f5902eeec"
   },
   "outputs": [
    {
     "name": "stdout",
     "output_type": "stream",
     "text": [
      "======================================================\n",
      ":                             :\n",
      "======================================================\n",
      "методы                        методы\n",
      "======================================================\n",
      "оценки                        оценки\n",
      "======================================================\n",
      "объемов                       объемов\n",
      "======================================================\n",
      "и                             и\n",
      "======================================================\n",
      "сроков                        сроков\n",
      "======================================================\n",
      "работ                         работ\n",
      "======================================================\n",
      "по                            по\n",
      "======================================================\n",
      "реализации                    реализации\n",
      "======================================================\n",
      "проектов                      проектов\n",
      "======================================================\n",
      "в                             в\n",
      "======================================================\n",
      "продукт                       продуктивную\n",
      "##ивную\n",
      "======================================================\n",
      "среду                         среду\n",
      "======================================================\n",
      ";                             ;\n",
      "======================================================\n",
      "эксперт                       экспертное\n",
      "##ное\n",
      "======================================================\n",
      "и                             и\n",
      "======================================================\n",
      "профессиональное              профессиональное\n",
      "======================================================\n",
      "знание                        знание\n",
      "======================================================\n",
      ":                             :\n",
      "======================================================\n",
      "os                            os\n",
      "======================================================\n",
      "li                            linux\n",
      "##nu\n",
      "##x\n",
      "======================================================\n",
      "(                             (\n",
      "======================================================\n",
      "cent                          centos\n",
      "##os\n",
      "======================================================\n",
      ",                             ,\n",
      "======================================================\n",
      "de                            debian\n",
      "##bia\n",
      "##n\n",
      "======================================================\n",
      ")                             ),\n",
      ",\n",
      "======================================================\n",
      "систем                        систем\n",
      "======================================================\n",
      "вирту                         виртуализации\n",
      "##ализации\n",
      "======================================================\n",
      "(                             (\n",
      "======================================================\n",
      "es                            esxi\n",
      "##xi\n",
      "======================================================\n",
      ",                             ,\n",
      "======================================================\n",
      "hy                            hyper\n",
      "##per\n",
      "======================================================\n",
      "-                             -\n",
      "======================================================\n",
      "v                             v\n",
      "======================================================\n",
      ",                             ,\n",
      "======================================================\n",
      "pro                           proxmox\n",
      "##x\n",
      "##mo\n",
      "##x\n",
      "======================================================\n",
      ")                             ),\n",
      ",\n",
      "======================================================\n",
      "суб                           субд\n",
      "##д\n",
      "======================================================\n",
      "(                             (\n",
      "======================================================\n",
      "ps                            psql\n",
      "##q\n",
      "##l\n",
      "======================================================\n",
      ",                             ,\n",
      "======================================================\n",
      "mon                           mongo\n",
      "##go\n",
      "======================================================\n",
      ",                             ,\n",
      "======================================================\n",
      "r                             riak\n",
      "##ia\n",
      "##k\n",
      "======================================================\n",
      ")                             ),\n",
      ",\n",
      "======================================================\n",
      "протоколов                    протоколов\n",
      "======================================================\n",
      "передачи                      передачи\n",
      "======================================================\n",
      "данных                        данных\n",
      "======================================================\n",
      "(                             (\n",
      "======================================================\n",
      "t                             tcp\n",
      "##c\n",
      "##p\n",
      "======================================================\n",
      ",                             ,\n",
      "======================================================\n",
      "u                             udp\n",
      "##d\n",
      "##p\n",
      "======================================================\n",
      ")                             ),\n",
      ",\n",
      "======================================================\n",
      "языков                        языков\n",
      "======================================================\n",
      "программирования              программирования\n",
      "======================================================\n",
      "(                             (\n",
      "======================================================\n",
      "p                             python\n",
      "##ython\n",
      "======================================================\n",
      ",                             ,\n",
      "======================================================\n",
      "bas                           bash\n",
      "##h\n",
      "======================================================\n",
      ")                             )\n",
      "======================================================\n",
      "для                           для\n",
      "======================================================\n",
      "написания                     написания\n",
      "======================================================\n",
      "скрип                         скриптов\n",
      "##тов\n",
      "======================================================\n",
      "автоматизации                 автоматизации\n",
      "======================================================\n",
      ",                             ,\n",
      "======================================================\n",
      "систем                        систем\n",
      "======================================================\n",
      "контейнер                     контейнеризации\n",
      "##изации\n",
      "======================================================\n",
      "и                             и\n",
      "======================================================\n",
      "управления                    управления\n",
      "======================================================\n",
      "контейнера                    контейнерами\n",
      "##ми\n",
      "======================================================\n",
      "(                             (\n",
      "======================================================\n",
      "doc                           docker\n",
      "##ker\n",
      "======================================================\n",
      ",                             ,\n",
      "======================================================\n",
      "doc                           docker\n",
      "##ker\n",
      "======================================================\n",
      "-                             -\n",
      "======================================================\n",
      "comp                          compose\n",
      "##ose\n",
      "======================================================\n",
      ")                             );\n",
      ";\n",
      "======================================================\n",
      "жел                           желателен\n",
      "##ателен\n",
      "======================================================\n",
      "опыт                          опыт\n",
      "======================================================\n",
      "работы                        работы\n",
      "======================================================\n",
      "с                             с\n",
      "======================================================\n",
      "системами                     системами\n",
      "======================================================\n",
      "и                             и\n",
      "======================================================\n",
      "по                            по\n",
      "======================================================\n",
      ",                             ,\n",
      "======================================================\n",
      "работающими                   работающими\n",
      "======================================================\n",
      "в                             в\n",
      "======================================================\n",
      "закрытых                      закрытых\n",
      "======================================================\n",
      "контура                       контурах\n",
      "##х\n",
      "======================================================\n",
      ".                             .\n",
      "======================================================\n",
      "cent                          centos\n",
      "##os\n",
      "======================================================\n",
      "1                             1\n",
      "======================================================\n",
      ".                             .\n",
      "======================================================\n",
      "gi                            gitlab\n",
      "##t\n",
      "##lab\n",
      "======================================================\n",
      ",                             ,\n",
      "======================================================\n",
      "team                          team\n",
      "======================================================\n",
      "city                          city\n",
      "======================================================\n",
      ",                             ,\n",
      "======================================================\n",
      "an                            ansible\n",
      "##si\n",
      "##ble\n",
      "======================================================\n",
      ",                             ,\n",
      "======================================================\n",
      "bas                           bash\n",
      "##h\n",
      "======================================================\n",
      "/                             /\n",
      "======================================================\n",
      "sh                            sh\n",
      "======================================================\n",
      "2                             2\n",
      "======================================================\n",
      ".                             .\n",
      "======================================================\n",
      "post                          postgresql\n",
      "##gre\n",
      "##s\n",
      "##q\n",
      "##l\n",
      "======================================================\n",
      ",                             ,\n",
      "======================================================\n",
      "mon                           mongodb\n",
      "##go\n",
      "##d\n",
      "##b\n",
      "======================================================\n",
      ",                             ,\n",
      "======================================================\n",
      "or                            oracle\n",
      "##acle\n",
      "======================================================\n",
      "3                             3\n",
      "======================================================\n",
      ".                             .\n",
      "======================================================\n",
      "had                           hadoop\n",
      "##oop\n",
      "======================================================\n",
      ",                             ,\n",
      "======================================================\n",
      "ap                            apache\n",
      "##ache\n",
      "======================================================\n",
      "sp                            spark\n",
      "##ark\n",
      "======================================================\n",
      ",                             ,\n",
      "======================================================\n",
      "ap                            apache\n",
      "##ache\n",
      "======================================================\n",
      "i                             ignite\n",
      "##gn\n",
      "##ite\n",
      "======================================================\n",
      "4                             4\n",
      "======================================================\n",
      ".                             .\n",
      "======================================================\n",
      "ka                            kafka\n",
      "##f\n",
      "##ka\n",
      "======================================================\n",
      ",                             ,\n",
      "======================================================\n",
      "ra                            rabbitmq\n",
      "##b\n",
      "##bit\n",
      "##m\n",
      "##q\n",
      "======================================================\n",
      "5                             5\n",
      "======================================================\n",
      ".                             .\n",
      "======================================================\n",
      "cons                          consul\n",
      "##ul\n",
      "======================================================\n",
      ",                             ,\n",
      "======================================================\n",
      "z                             zookeeper\n",
      "##ook\n",
      "##ee\n",
      "##per\n",
      "======================================================\n",
      "6                             6\n",
      "======================================================\n",
      ".                             .\n",
      "======================================================\n",
      "doc                           docker\n",
      "##ker\n",
      "======================================================\n",
      ",                             ,\n",
      "======================================================\n",
      "doc                           docker\n",
      "##ker\n",
      "======================================================\n",
      "-                             -\n",
      "======================================================\n",
      "s                             swarm\n",
      "##war\n",
      "##m\n",
      "======================================================\n",
      ",                             ,\n",
      "======================================================\n",
      "nom                           nomad\n",
      "##ad\n",
      "======================================================\n",
      "7                             7\n",
      "======================================================\n",
      ".                             .\n",
      "======================================================\n",
      "es                            esxi\n",
      "##xi\n",
      "======================================================\n",
      ".                             .\n",
      "======================================================\n",
      "s                             sql\n",
      "##q\n",
      "##l\n",
      "======================================================\n",
      ",                             ,\n",
      "======================================================\n",
      "li                            linux\n",
      "##nu\n",
      "##x\n",
      "======================================================\n",
      ",                             ,\n",
      "======================================================\n",
      "m                             ms\n",
      "##s\n",
      "======================================================\n",
      "s                             sql\n",
      "##q\n",
      "##l\n",
      "======================================================\n",
      ",                             ,\n",
      "======================================================\n",
      "wi                            windows\n",
      "##nd\n",
      "##ows\n",
      "======================================================\n",
      "7                             7\n",
      "======================================================\n",
      ",                             ,\n",
      "======================================================\n",
      "информационные                информационные\n",
      "======================================================\n",
      "технологии                    технологии\n",
      "======================================================\n",
      ".                             .\n"
     ]
    }
   ],
   "source": [
    "example_text = dataset['train'][0]['tokens']\n",
    "tokenized_input = tokenizer(example_text, is_split_into_words=True,\n",
    "                            padding=True, truncation=True,\n",
    "                            max_length=512, add_special_tokens=False)\n",
    "\n",
    "tokens = tokenizer.convert_ids_to_tokens(tokenized_input['input_ids'])\n",
    "\n",
    "# comapare our tokens and tokenizer's tokens\n",
    "i = 0\n",
    "for token in tokens:\n",
    "    if i >= len(tokens) or i >= len(example_text):\n",
    "        continue\n",
    "\n",
    "    if example_text[i].startswith(token):\n",
    "        print('======================================================')\n",
    "        space = (30 - len(token)) * ' '\n",
    "        print(f'{token}{space}{example_text[i]}')\n",
    "        i += 1\n",
    "    else:\n",
    "        print(token)\n",
    "    #print(token, '\\t\\t', (example_text[i] if i < len(example_text) else ''))"
   ]
  },
  {
   "cell_type": "markdown",
   "metadata": {
    "id": "ZwglxL3iGIPv"
   },
   "source": [
    "Можно заметить, что tokenizer разбил токены не идеально: многие слова дополнительно доразибваются на более маленькие токены с символами ## (происходит, потому что tokenizer не знает этих слов)."
   ]
  },
  {
   "cell_type": "code",
   "execution_count": 26,
   "metadata": {
    "colab": {
     "base_uri": "https://localhost:8080/"
    },
    "executionInfo": {
     "elapsed": 7,
     "status": "ok",
     "timestamp": 1725962822266,
     "user": {
      "displayName": "Alexander Frolov",
      "userId": "01534766444683263814"
     },
     "user_tz": -180
    },
    "id": "YfJQQ145AYjX",
    "outputId": "28466230-c5b7-462a-9b85-6a7a0160f0be"
   },
   "outputs": [
    {
     "data": {
      "text/plain": [
       "(155, 238)"
      ]
     },
     "execution_count": 26,
     "metadata": {},
     "output_type": "execute_result"
    }
   ],
   "source": [
    "len(dataset['train'][0]['tokens']), len(tokenized_input['input_ids'])"
   ]
  },
  {
   "cell_type": "markdown",
   "metadata": {
    "id": "6IeJqRnUWRIK"
   },
   "source": [
    "Выше четко видна разница в количестве наших токенов и токенов полученных токенайзером."
   ]
  },
  {
   "cell_type": "markdown",
   "metadata": {
    "id": "-2T2V3Aidjh3"
   },
   "source": [
    "#### 2.3. Токенизация датасета"
   ]
  },
  {
   "cell_type": "markdown",
   "metadata": {
    "id": "Qcw3nuQPdrCB"
   },
   "source": [
    "Проведем токнизацию датасета. Для этого определим функцию токнизации, котрая будет работать согласно алгоритму ниже"
   ]
  },
  {
   "cell_type": "markdown",
   "metadata": {
    "id": "Fkeg9-yUYauI"
   },
   "source": [
    "Сам алгоритм:<br>\n",
    "нужно решить проблему разбиения токенайзером уже готовых токенов: будем брать марку токена и распределять ее на все остальные рабитые токены. <br>\n",
    "Например, если токенайзер разбил слово 'Станок' на ['Стан', '##ок'], и слово имело марку \"B-Tool\", то сопоставим обоим полученным словам марку \"B-Tool\"."
   ]
  },
  {
   "cell_type": "code",
   "execution_count": 27,
   "metadata": {
    "executionInfo": {
     "elapsed": 6,
     "status": "ok",
     "timestamp": 1725962822266,
     "user": {
      "displayName": "Alexander Frolov",
      "userId": "01534766444683263814"
     },
     "user_tz": -180
    },
    "id": "VjgvAVKNGdkA"
   },
   "outputs": [],
   "source": [
    "def tokenize_and_align_labels(example):\n",
    "    tokenized_input = tokenizer(example['tokens'], truncation=True, padding=True,\n",
    "                                max_length=512, is_split_into_words=True)\n",
    "                                # max_length = 512 because BERT model can't procces more than 512 tokens\n",
    "    labels = []\n",
    "\n",
    "    for i, label in enumerate(example['labels']):\n",
    "        word_ids = tokenized_input.word_ids(batch_index=i)\n",
    "\n",
    "        previous_word_idx = None\n",
    "\n",
    "        label_ids = []\n",
    "\n",
    "        for word_idx in word_ids:\n",
    "            if word_idx is None:\n",
    "                # igonre word during training\n",
    "                label_ids.append(-100)\n",
    "            elif word_idx != previous_word_idx:\n",
    "                # add new label\n",
    "                label_ids.append(labels2ind[label[word_idx]])\n",
    "            else:\n",
    "                # repeat label\n",
    "                label_ids.append(labels2ind[label[word_idx]])\n",
    "            previous_word_idx = word_idx\n",
    "        labels.append(label_ids)\n",
    "    tokenized_input['labels'] = labels\n",
    "    return tokenized_input"
   ]
  },
  {
   "cell_type": "code",
   "execution_count": 28,
   "metadata": {
    "colab": {
     "base_uri": "https://localhost:8080/"
    },
    "executionInfo": {
     "elapsed": 6,
     "status": "ok",
     "timestamp": 1725962822266,
     "user": {
      "displayName": "Alexander Frolov",
      "userId": "01534766444683263814"
     },
     "user_tz": -180
    },
    "id": "DsibFwpuGdhg",
    "outputId": "daaa5035-d47e-46f1-8dfd-cb23bd40c57a"
   },
   "outputs": [
    {
     "data": {
      "text/plain": [
       "{'input_ids': [[101, 26661, 156, 130, 22310, 33053, 9449, 37789, 33098, 28552, 11022, 158, 130, 14712, 21825, 874, 132, 20859, 20677, 132, 24893, 851, 77508, 13763, 871, 7512, 54908, 10937, 263, 128, 47634, 851, 12058, 33199, 128, 8871, 2630, 75527, 128, 85424, 1662, 851, 44328, 51895, 128, 22321, 871, 7512, 132, 3455, 28267, 17683, 42100, 851, 10887, 1638, 132, 102]], 'token_type_ids': [[0, 0, 0, 0, 0, 0, 0, 0, 0, 0, 0, 0, 0, 0, 0, 0, 0, 0, 0, 0, 0, 0, 0, 0, 0, 0, 0, 0, 0, 0, 0, 0, 0, 0, 0, 0, 0, 0, 0, 0, 0, 0, 0, 0, 0, 0, 0, 0, 0, 0, 0, 0, 0, 0, 0, 0, 0, 0]], 'attention_mask': [[1, 1, 1, 1, 1, 1, 1, 1, 1, 1, 1, 1, 1, 1, 1, 1, 1, 1, 1, 1, 1, 1, 1, 1, 1, 1, 1, 1, 1, 1, 1, 1, 1, 1, 1, 1, 1, 1, 1, 1, 1, 1, 1, 1, 1, 1, 1, 1, 1, 1, 1, 1, 1, 1, 1, 1, 1, 1]], 'labels': [[-100, 0, 0, 0, 9, 10, 10, 10, 10, 10, 10, 0, 0, 0, 5, 5, 0, 9, 10, 0, 0, 0, 0, 0, 5, 5, 6, 6, 6, 0, 0, 0, 0, 0, 0, 0, 0, 0, 0, 0, 0, 0, 0, 0, 0, 0, 11, 11, 0, 0, 0, 0, 5, 0, 5, 5, 0, -100]]}"
      ]
     },
     "execution_count": 28,
     "metadata": {},
     "output_type": "execute_result"
    }
   ],
   "source": [
    "# check example\n",
    "tokenize_and_align_labels(dataset['train'][2:3])"
   ]
  },
  {
   "cell_type": "markdown",
   "metadata": {
    "id": "QlFGNjFTdD3o"
   },
   "source": [
    "Таким образом, к токенизированному выводу мы получили дополнительный ключ \"labels\""
   ]
  },
  {
   "cell_type": "code",
   "execution_count": 29,
   "metadata": {
    "colab": {
     "base_uri": "https://localhost:8080/",
     "height": 0,
     "referenced_widgets": [
      "80766b8f1e29477db4925e2bb00766c8",
      "cd2a2bf96aa74fb5a415a0c40592844e",
      "6f1016fdedbf43499739f8e12d13bbba",
      "05d7c803954c4d6592764aa40d2d0714",
      "8c08c11d4dd2418e9c12bdd4b7f719a4",
      "8b95734066e94c7fac2c068f8c1392db",
      "083126e26ccd418598923d06005f9cd6",
      "9a2282fec8804444a6b815b51a926cd7",
      "2c8f0a5740f247caaedd599f1c2fc0a9",
      "b8e1042e0d3f452c96b1f21b16ddfd46",
      "4eace4de7f9b421093e07ae29c60ff05",
      "6bb9b124208b4ea380df0279c2b80811",
      "e21b86af833d44fd8fdb5a49a17f942c",
      "0740154a790a4a48bebe4963ede7d527",
      "25405637e0714fc980409ca5cf0df309",
      "a95cfb65eeb54f36ac15e2a2660561b6",
      "89e78415932b43e98f5572974d22f36f",
      "b59505f08f4e465280b6e384ff0bee90",
      "a399b29272c64640918d773543ae0e4d",
      "d6e65db0139a47d28409581ba05cbcec",
      "a699d480d1514ec6b7bb202159ece005",
      "3a798bb64f5645fbb4b5aa19b3ea5a64",
      "1ab33d3ca7cc4b709b05b05575eae8a6",
      "4cdc5a57c643468092f2d3ed3774a151",
      "1eacc5abd124432cae9d6fe4378f196f",
      "22cc2dedbc2c470fb69e3c15340b6ba0",
      "a63baed62d204ef4a51ad08980d09b3b",
      "d794bd9d64d0408898bc8c4f36a42ad6",
      "41e6d64e5cec44398546d12726a9d67b",
      "cd0a7df987ce44c89e098b5dbe1c59d7",
      "ec55f727cca44f0ca7805fb01c827667",
      "4081aa3d263a41bf9e1fe5efd3987fd2",
      "c3d567aecf0d4c2bb58bd1ba400245ff"
     ]
    },
    "executionInfo": {
     "elapsed": 43587,
     "status": "ok",
     "timestamp": 1725962865848,
     "user": {
      "displayName": "Alexander Frolov",
      "userId": "01534766444683263814"
     },
     "user_tz": -180
    },
    "id": "OvSMYO2bAPQK",
    "outputId": "963df981-dcc7-4c57-fdc9-ba8a0e40efe7"
   },
   "outputs": [
    {
     "data": {
      "application/vnd.jupyter.widget-view+json": {
       "model_id": "80766b8f1e29477db4925e2bb00766c8",
       "version_major": 2,
       "version_minor": 0
      },
      "text/plain": [
       "Map:   0%|          | 0/9103 [00:00<?, ? examples/s]"
      ]
     },
     "metadata": {},
     "output_type": "display_data"
    },
    {
     "data": {
      "application/vnd.jupyter.widget-view+json": {
       "model_id": "6bb9b124208b4ea380df0279c2b80811",
       "version_major": 2,
       "version_minor": 0
      },
      "text/plain": [
       "Map:   0%|          | 0/1138 [00:00<?, ? examples/s]"
      ]
     },
     "metadata": {},
     "output_type": "display_data"
    },
    {
     "data": {
      "application/vnd.jupyter.widget-view+json": {
       "model_id": "1ab33d3ca7cc4b709b05b05575eae8a6",
       "version_major": 2,
       "version_minor": 0
      },
      "text/plain": [
       "Map:   0%|          | 0/1138 [00:00<?, ? examples/s]"
      ]
     },
     "metadata": {},
     "output_type": "display_data"
    }
   ],
   "source": [
    "tokenized_dataset = dataset.map(tokenize_and_align_labels, batched=True)"
   ]
  },
  {
   "cell_type": "markdown",
   "metadata": {
    "id": "gr_J2pB8d7aD"
   },
   "source": [
    "#### 2.4. Импорт модели и загрузка метрик"
   ]
  },
  {
   "cell_type": "code",
   "execution_count": 30,
   "metadata": {
    "colab": {
     "base_uri": "https://localhost:8080/",
     "height": 174,
     "referenced_widgets": [
      "df6c311eafe5410a827d39ea16f8401c",
      "c5c17fe3e0b840a89bea392dc7d20c8b",
      "a4e7fe6650c44b348e66d80b8eb2dd86",
      "2cb0cd669d24430991c711249d99f272",
      "7b381475357c496ba3a56a424e6514f7",
      "50d6b6551e1b42db99d7ba4386094485",
      "66c580afecb740b9a1190d854186b177",
      "0f25ccd4de0045028b5d7221877beb14",
      "1c214d1173fd4b4d93a35cf7c1398b65",
      "11a2753d240b4e02853bb38136e33516",
      "61788b4adca44edb84dad54ba726a6f2",
      "b682cd8e787e4a219345bfcf60db3633",
      "4babe4744e3246bfa9b07ad4fdfeb08d",
      "677538b440794e34bd33522540a4fa3d",
      "29ad24e71ae745f798e812b9142f8def",
      "f01a5ef87deb4505a7259ccb9e530a90",
      "d32a84284ca54acf85c9bfbcd8d4adb8",
      "4cc5b71c1ad64238a499c39ecaea5a2d",
      "1c3736e0c5894b379b7c84e63d5317c2",
      "1ab32298083c48bf9e89313acac25052",
      "db15eb1d97a74ad8980d6e207819e706",
      "e72e68a8f3924a6b86bcfa3a19476b74"
     ]
    },
    "executionInfo": {
     "elapsed": 9461,
     "status": "ok",
     "timestamp": 1725962875306,
     "user": {
      "displayName": "Alexander Frolov",
      "userId": "01534766444683263814"
     },
     "user_tz": -180
    },
    "id": "tcN_lQTV_Tp8",
    "outputId": "c2f7776c-03b0-4084-a14b-2cb08090c2a0"
   },
   "outputs": [
    {
     "data": {
      "application/vnd.jupyter.widget-view+json": {
       "model_id": "df6c311eafe5410a827d39ea16f8401c",
       "version_major": 2,
       "version_minor": 0
      },
      "text/plain": [
       "config.json:   0%|          | 0.00/13.5k [00:00<?, ?B/s]"
      ]
     },
     "metadata": {},
     "output_type": "display_data"
    },
    {
     "data": {
      "application/vnd.jupyter.widget-view+json": {
       "model_id": "b682cd8e787e4a219345bfcf60db3633",
       "version_major": 2,
       "version_minor": 0
      },
      "text/plain": [
       "pytorch_model.bin:   0%|          | 0.00/709M [00:00<?, ?B/s]"
      ]
     },
     "metadata": {},
     "output_type": "display_data"
    },
    {
     "name": "stderr",
     "output_type": "stream",
     "text": [
      "Some weights of BertForTokenClassification were not initialized from the model checkpoint at KoichiYasuoka/bert-base-russian-upos and are newly initialized because the shapes did not match:\n",
      "- classifier.weight: found shape torch.Size([89, 768]) in the checkpoint and torch.Size([13, 768]) in the model instantiated\n",
      "- classifier.bias: found shape torch.Size([89]) in the checkpoint and torch.Size([13]) in the model instantiated\n",
      "You should probably TRAIN this model on a down-stream task to be able to use it for predictions and inference.\n"
     ]
    }
   ],
   "source": [
    "model = AutoModelForTokenClassification.from_pretrained(model_name, num_labels=13, ignore_mismatched_sizes=True)"
   ]
  },
  {
   "cell_type": "code",
   "execution_count": 31,
   "metadata": {
    "colab": {
     "base_uri": "https://localhost:8080/",
     "height": 178,
     "referenced_widgets": [
      "e1c73303dd244443864124ff42c6c96a",
      "e3aaa4b87c7346a69c38cb68dc89351d",
      "87fc96535bb7464e99a22b2def3daa9b",
      "2437a0ceb2b84e829163c93351dddc55",
      "410bea532a3c42368211584718dced72",
      "5d1e6ed1165a4a44a9befbd932bda72a",
      "96c1c36e589a427b820486ce4e151c67",
      "6d2607800cf1455f8b0996da1e2c5f56",
      "a9e93ed26a0c4784ac09d3b430eca73e",
      "a44e7b9d464e4fec84d5352cc64a7e31",
      "1531ce59d38543ce925f232c39be23e6"
     ]
    },
    "executionInfo": {
     "elapsed": 1537121,
     "status": "ok",
     "timestamp": 1725964412413,
     "user": {
      "displayName": "Alexander Frolov",
      "userId": "01534766444683263814"
     },
     "user_tz": -180
    },
    "id": "JATdJ-yAAVXf",
    "outputId": "690e0837-6e11-415f-a89f-7ffc50ce5bb6"
   },
   "outputs": [
    {
     "name": "stderr",
     "output_type": "stream",
     "text": [
      "<ipython-input-31-8729a7e2f3c1>:1: FutureWarning: load_metric is deprecated and will be removed in the next major version of datasets. Use 'evaluate.load' instead, from the new library 🤗 Evaluate: https://huggingface.co/docs/evaluate\n",
      "  metric = datasets.load_metric('seqeval')\n"
     ]
    },
    {
     "data": {
      "application/vnd.jupyter.widget-view+json": {
       "model_id": "e1c73303dd244443864124ff42c6c96a",
       "version_major": 2,
       "version_minor": 0
      },
      "text/plain": [
       "Downloading builder script:   0%|          | 0.00/2.47k [00:00<?, ?B/s]"
      ]
     },
     "metadata": {},
     "output_type": "display_data"
    },
    {
     "name": "stdout",
     "output_type": "stream",
     "text": [
      "The repository for seqeval contains custom code which must be executed to correctly load the dataset. You can inspect the repository content at https://hf.co/datasets/seqeval.\n",
      "You can avoid this prompt in future by passing the argument `trust_remote_code=True`.\n",
      "\n",
      "Do you wish to run the custom code? [y/N] y\n"
     ]
    }
   ],
   "source": [
    "metric = datasets.load_metric('seqeval')"
   ]
  },
  {
   "cell_type": "code",
   "execution_count": 32,
   "metadata": {
    "colab": {
     "base_uri": "https://localhost:8080/"
    },
    "executionInfo": {
     "elapsed": 7,
     "status": "ok",
     "timestamp": 1725964412415,
     "user": {
      "displayName": "Alexander Frolov",
      "userId": "01534766444683263814"
     },
     "user_tz": -180
    },
    "id": "G8lKmnU4vTDA",
    "outputId": "861e7c3f-98c1-459b-9496-a99aa98ea6e1"
   },
   "outputs": [
    {
     "data": {
      "text/plain": [
       "{'Method': {'precision': 1.0, 'recall': 1.0, 'f1': 1.0, 'number': 2},\n",
       " 'Technology': {'precision': 1.0, 'recall': 1.0, 'f1': 1.0, 'number': 4},\n",
       " 'Tool': {'precision': 1.0, 'recall': 1.0, 'f1': 1.0, 'number': 1},\n",
       " 'overall_precision': 1.0,\n",
       " 'overall_recall': 1.0,\n",
       " 'overall_f1': 1.0,\n",
       " 'overall_accuracy': 1.0}"
      ]
     },
     "execution_count": 32,
     "metadata": {},
     "output_type": "execute_result"
    }
   ],
   "source": [
    "# example\n",
    "metric.compute(predictions=[labels], references=[labels])"
   ]
  },
  {
   "cell_type": "code",
   "execution_count": 33,
   "metadata": {
    "executionInfo": {
     "elapsed": 6,
     "status": "ok",
     "timestamp": 1725964412415,
     "user": {
      "displayName": "Alexander Frolov",
      "userId": "01534766444683263814"
     },
     "user_tz": -180
    },
    "id": "L-1PFmpft21h"
   },
   "outputs": [],
   "source": [
    "def compute_metrics(p):\n",
    "    predictions, labels = p\n",
    "    predictions = np.argmax(predictions, axis=2)\n",
    "\n",
    "    true_predictions = [\n",
    "        [ind2labels[p] for (p, l) in zip(prediction, label) if l != -100]\n",
    "        for prediction, label in zip(predictions, labels)\n",
    "    ]\n",
    "    true_labels = [\n",
    "        [ind2labels[l] for (p, l) in zip(prediction, label) if l != -100]\n",
    "        for prediction, label in zip(predictions, labels)\n",
    "    ]\n",
    "\n",
    "    results = metric.compute(predictions=true_predictions, references=true_labels)\n",
    "    return {\n",
    "        \"precision\": results[\"overall_precision\"],\n",
    "        \"recall\": results[\"overall_recall\"],\n",
    "        \"f1\": results[\"overall_f1\"],\n",
    "        \"accuracy\": results[\"overall_accuracy\"],\n",
    "    }"
   ]
  },
  {
   "cell_type": "markdown",
   "metadata": {
    "id": "NHqdKK7ukLuY"
   },
   "source": [
    "## 3. Дообучение импортированной модели"
   ]
  },
  {
   "cell_type": "code",
   "execution_count": 34,
   "metadata": {
    "executionInfo": {
     "elapsed": 6,
     "status": "ok",
     "timestamp": 1725964412416,
     "user": {
      "displayName": "Alexander Frolov",
      "userId": "01534766444683263814"
     },
     "user_tz": -180
    },
    "id": "dJEnA8mfhR9O"
   },
   "outputs": [],
   "source": [
    "data_collator = DataCollatorForTokenClassification(tokenizer)"
   ]
  },
  {
   "cell_type": "code",
   "execution_count": 35,
   "metadata": {
    "executionInfo": {
     "elapsed": 6,
     "status": "ok",
     "timestamp": 1725964412416,
     "user": {
      "displayName": "Alexander Frolov",
      "userId": "01534766444683263814"
     },
     "user_tz": -180
    },
    "id": "1qvIBrSe_fKL"
   },
   "outputs": [],
   "source": [
    "training_args = TrainingArguments(\n",
    "    output_dir=\"test_NER\",\n",
    "    eval_strategy='epoch',\n",
    "    learning_rate=2e-5,\n",
    "    per_device_train_batch_size=32,\n",
    "    per_device_eval_batch_size=32,\n",
    "    num_train_epochs=5,\n",
    "    weight_decay=0.05,\n",
    "    save_strategy='epoch'\n",
    ")"
   ]
  },
  {
   "cell_type": "code",
   "execution_count": 36,
   "metadata": {
    "executionInfo": {
     "elapsed": 1015,
     "status": "ok",
     "timestamp": 1725964413425,
     "user": {
      "displayName": "Alexander Frolov",
      "userId": "01534766444683263814"
     },
     "user_tz": -180
    },
    "id": "eKRCBgkplTzQ"
   },
   "outputs": [],
   "source": [
    "trainer = Trainer(\n",
    "    model,\n",
    "    training_args,\n",
    "    train_dataset=tokenized_dataset[\"train\"],\n",
    "    eval_dataset=tokenized_dataset[\"validation\"],\n",
    "    data_collator=data_collator,\n",
    "    tokenizer=tokenizer,\n",
    "    compute_metrics=compute_metrics,\n",
    ")"
   ]
  },
  {
   "cell_type": "code",
   "execution_count": 37,
   "metadata": {
    "colab": {
     "base_uri": "https://localhost:8080/",
     "height": 268
    },
    "executionInfo": {
     "elapsed": 4943713,
     "status": "ok",
     "timestamp": 1725969357136,
     "user": {
      "displayName": "Alexander Frolov",
      "userId": "01534766444683263814"
     },
     "user_tz": -180
    },
    "id": "4ug5O0GaleoI",
    "outputId": "8d865da1-66e5-4082-9ee1-1e1e1993fd5e"
   },
   "outputs": [
    {
     "data": {
      "text/html": [
       "\n",
       "    <div>\n",
       "      \n",
       "      <progress value='1425' max='1425' style='width:300px; height:20px; vertical-align: middle;'></progress>\n",
       "      [1425/1425 1:22:17, Epoch 5/5]\n",
       "    </div>\n",
       "    <table border=\"1\" class=\"dataframe\">\n",
       "  <thead>\n",
       " <tr style=\"text-align: left;\">\n",
       "      <th>Epoch</th>\n",
       "      <th>Training Loss</th>\n",
       "      <th>Validation Loss</th>\n",
       "      <th>Precision</th>\n",
       "      <th>Recall</th>\n",
       "      <th>F1</th>\n",
       "      <th>Accuracy</th>\n",
       "    </tr>\n",
       "  </thead>\n",
       "  <tbody>\n",
       "    <tr>\n",
       "      <td>1</td>\n",
       "      <td>No log</td>\n",
       "      <td>0.559686</td>\n",
       "      <td>0.587270</td>\n",
       "      <td>0.533022</td>\n",
       "      <td>0.558832</td>\n",
       "      <td>0.835031</td>\n",
       "    </tr>\n",
       "    <tr>\n",
       "      <td>2</td>\n",
       "      <td>0.649200</td>\n",
       "      <td>0.514697</td>\n",
       "      <td>0.582727</td>\n",
       "      <td>0.584412</td>\n",
       "      <td>0.583568</td>\n",
       "      <td>0.841643</td>\n",
       "    </tr>\n",
       "    <tr>\n",
       "      <td>3</td>\n",
       "      <td>0.649200</td>\n",
       "      <td>0.502450</td>\n",
       "      <td>0.575012</td>\n",
       "      <td>0.599308</td>\n",
       "      <td>0.586908</td>\n",
       "      <td>0.842926</td>\n",
       "    </tr>\n",
       "    <tr>\n",
       "      <td>4</td>\n",
       "      <td>0.495600</td>\n",
       "      <td>0.498069</td>\n",
       "      <td>0.564700</td>\n",
       "      <td>0.618772</td>\n",
       "      <td>0.590501</td>\n",
       "      <td>0.841855</td>\n",
       "    </tr>\n",
       "    <tr>\n",
       "      <td>5</td>\n",
       "      <td>0.495600</td>\n",
       "      <td>0.497309</td>\n",
       "      <td>0.561458</td>\n",
       "      <td>0.621124</td>\n",
       "      <td>0.589786</td>\n",
       "      <td>0.841558</td>\n",
       "    </tr>\n",
       "  </tbody>\n",
       "</table><p>"
      ],
      "text/plain": [
       "<IPython.core.display.HTML object>"
      ]
     },
     "metadata": {},
     "output_type": "display_data"
    },
    {
     "data": {
      "text/plain": [
       "TrainOutput(global_step=1425, training_loss=0.5390753173828124, metrics={'train_runtime': 4942.8949, 'train_samples_per_second': 9.208, 'train_steps_per_second': 0.288, 'total_flos': 1.189410463781376e+16, 'train_loss': 0.5390753173828124, 'epoch': 5.0})"
      ]
     },
     "execution_count": 37,
     "metadata": {},
     "output_type": "execute_result"
    }
   ],
   "source": [
    "trainer.train()"
   ]
  },
  {
   "cell_type": "code",
   "execution_count": 38,
   "metadata": {
    "colab": {
     "base_uri": "https://localhost:8080/"
    },
    "executionInfo": {
     "elapsed": 13992,
     "status": "ok",
     "timestamp": 1725969372339,
     "user": {
      "displayName": "Alexander Frolov",
      "userId": "01534766444683263814"
     },
     "user_tz": -180
    },
    "id": "x8xLTWkeOHBd",
    "outputId": "d515ce8a-fd97-4cbf-d8a1-d39d3914226a"
   },
   "outputs": [
    {
     "data": {
      "text/plain": [
       "('ner_tokenizer/tokenizer_config.json',\n",
       " 'ner_tokenizer/special_tokens_map.json',\n",
       " 'ner_tokenizer/vocab.txt',\n",
       " 'ner_tokenizer/added_tokens.json',\n",
       " 'ner_tokenizer/tokenizer.json')"
      ]
     },
     "execution_count": 38,
     "metadata": {},
     "output_type": "execute_result"
    }
   ],
   "source": [
    "model.save_pretrained('ner_model')\n",
    "tokenizer.save_pretrained('ner_tokenizer')"
   ]
  },
  {
   "cell_type": "markdown",
   "metadata": {
    "id": "wuAyyUVS0iGW"
   },
   "source": [
    "Я тренировал модель на 5-ти эпохах. На полученные значения метрик Recall, Precision, F1 не стоит обращать внимания, т.к. они явно некорректные. Показателем обучения является ошибка тренировки и валиадции (видна выше). Тренировка даже 5 эпопх заняла около 1 часа 25 мин на Google Colab T4 (у меня нет платной подписки, поэтому я не буду ждать дольше). При желании можно будет запустить обучение вновь с большим числом эпох, если имеется подписка на более мощный процессор, или есть желание ждать больше времени."
   ]
  },
  {
   "cell_type": "markdown",
   "metadata": {
    "id": "u5-e_nfOkXNU"
   },
   "source": [
    "## 4. Оценка результатов"
   ]
  },
  {
   "cell_type": "markdown",
   "metadata": {
    "id": "R-afyn70kd4L"
   },
   "source": [
    "Результаты обучения видны в предыдущем пункте. Минимум ошибки валидации после обучения составил 0.5.<br>\n",
    "\n",
    "Небольшую точность также можно объяснить следующими вещами: <br>\n",
    " 1) Был выбран неидеальный токенайзер (однако лучший из мной найденных); <br>\n",
    " 2) Не очень большим размером пакета (32), т.к. GoogleColab T4 не может обрабатывать более большой пакет."
   ]
  },
  {
   "cell_type": "markdown",
   "metadata": {
    "id": "x8ZxJ-rCXKaj"
   },
   "source": [
    "Укажем модели, какие метки она предсказывает:"
   ]
  },
  {
   "cell_type": "code",
   "execution_count": 39,
   "metadata": {
    "executionInfo": {
     "elapsed": 14,
     "status": "ok",
     "timestamp": 1725969372339,
     "user": {
      "displayName": "Alexander Frolov",
      "userId": "01534766444683263814"
     },
     "user_tz": -180
    },
    "id": "ENn7fkOTmUve"
   },
   "outputs": [],
   "source": [
    "config = json.load(open('ner_model/config.json'))\n",
    "\n",
    "config['id2label'] = ind2labels\n",
    "config['label2id'] = labels2ind\n",
    "\n",
    "json.dump(config, open('ner_model/config.json', 'w'))"
   ]
  },
  {
   "cell_type": "markdown",
   "metadata": {
    "id": "3IGymdSqozAs"
   },
   "source": [
    "Загрузим модель и токенайзер:"
   ]
  },
  {
   "cell_type": "code",
   "execution_count": 40,
   "metadata": {
    "executionInfo": {
     "elapsed": 719,
     "status": "ok",
     "timestamp": 1725969373045,
     "user": {
      "displayName": "Alexander Frolov",
      "userId": "01534766444683263814"
     },
     "user_tz": -180
    },
    "id": "UctdGBMBUpw7"
   },
   "outputs": [],
   "source": [
    "# load our model\n",
    "model_fine_tuned = AutoModelForTokenClassification.from_pretrained('ner_model')\n",
    "\n",
    "# load our tokenizer\n",
    "tokenizer_fine_tuned = BertTokenizerFast.from_pretrained('ner_tokenizer')"
   ]
  },
  {
   "cell_type": "markdown",
   "metadata": {
    "id": "KUdvau6gKCQ0"
   },
   "source": [
    "#### 4.1. Вычисление F1 меры для двух доп. файликов"
   ]
  },
  {
   "cell_type": "markdown",
   "metadata": {
    "id": "PcyvysAReVOL"
   },
   "source": [
    "Попробуем написать функцию для высчитывания метрики F1 с использованием нашей модели.<br>\n",
    "Высчитывать метрику будем по стандартной формуле, предварительно получив значения TP, FP, TN, FN.<br>\n",
    "Чтобы иметь возможность сравнить наши собственные токены и мектки с токенами, полученными после HuggingFace токенайзера (с определенными для них метками), потребуются доп. функции."
   ]
  },
  {
   "cell_type": "markdown",
   "metadata": {
    "id": "kze-1k0a95X9"
   },
   "source": [
    "Сохраним данные с доп. файликов в датасеты"
   ]
  },
  {
   "cell_type": "code",
   "execution_count": 41,
   "metadata": {
    "colab": {
     "base_uri": "https://localhost:8080/"
    },
    "executionInfo": {
     "elapsed": 2290,
     "status": "ok",
     "timestamp": 1725969375332,
     "user": {
      "displayName": "Alexander Frolov",
      "userId": "01534766444683263814"
     },
     "user_tz": -180
    },
    "id": "owppWhYr4-RS",
    "outputId": "e86434ef-dbfc-4b36-b1c0-cff5a6598c5a"
   },
   "outputs": [
    {
     "name": "stdout",
     "output_type": "stream",
     "text": [
      "5184\n",
      "5071\n",
      "Index(['id', 'text', 'cats', 'entities', 'Comments', 'kind', 'annot', 'meta'], dtype='object')\n",
      "Index(['id', 'text', 'cats', 'entities', 'Comments', 'kind', 'annot', 'meta'], dtype='object')\n"
     ]
    }
   ],
   "source": [
    "df1 = pd.read_json('all_extended_proc_annot.jsonl', lines=True)\n",
    "df2 = pd.read_json('all_extended_proc_annot_squeezed.jsonl', lines=True)\n",
    "print(df1.shape[0])\n",
    "print(df2.shape[0])\n",
    "print(df1.columns)\n",
    "print(df2.columns)"
   ]
  },
  {
   "cell_type": "markdown",
   "metadata": {
    "id": "5vD1GOeILHlY"
   },
   "source": [
    "Чтобы занового не вызывать функцию text_to_tokens, получим заранее обработанный вариант этих датасетов через срезы из ранее полученного полного очищенного датасета"
   ]
  },
  {
   "cell_type": "code",
   "execution_count": 42,
   "metadata": {
    "colab": {
     "base_uri": "https://localhost:8080/"
    },
    "executionInfo": {
     "elapsed": 9,
     "status": "ok",
     "timestamp": 1725969375332,
     "user": {
      "displayName": "Alexander Frolov",
      "userId": "01534766444683263814"
     },
     "user_tz": -180
    },
    "id": "3jOYlCQJ6sXA",
    "outputId": "63371c73-6abe-44c9-d687-85f7f8073ac4"
   },
   "outputs": [
    {
     "name": "stdout",
     "output_type": "stream",
     "text": [
      "Разработчик Flutter Developer. Санкт-Петербургский\n",
      "['разработчик', 'flutter', 'developer', '.', 'санкт', '-', 'петербургский', 'информационно', '-', 'аналитический']\n",
      "Разработчик Flutter Developer. Чем необходимо буде\n",
      "['разработчик', 'flutter', 'developer', '.', 'чем', 'необходимо', 'будет', 'заниматься', ':', 'разработкой']\n"
     ]
    }
   ],
   "source": [
    "df2_clean = df.tail(df2.shape[0])\n",
    "df1_clean = df.iloc[df.shape[0] - df2.shape[0] - df1.shape[0] : df.shape[0] - df2.shape[0]]\n",
    "\n",
    "df1_clean = df1_clean.reset_index()\n",
    "df2_clean = df2_clean.reset_index()\n",
    "\n",
    "# check synchronization\n",
    "print(df1.loc[0]['text'][:50])\n",
    "print(df1_clean.loc[0]['tokens'][:10])\n",
    "print(df2.loc[0]['text'][:50])\n",
    "print(df2_clean.loc[0]['tokens'][:10])"
   ]
  },
  {
   "cell_type": "markdown",
   "metadata": {
    "id": "thtVii3l-Sv6"
   },
   "source": [
    "Значения совпали, следовтаельно, мы получили токенизированные данные именно для наших файликов"
   ]
  },
  {
   "cell_type": "markdown",
   "metadata": {
    "id": "DWTKOUXOK5Fi"
   },
   "source": [
    "Функция ниже преборазует предсказания модели так, что слова, которые были дополнительно разбиты токенайзером, сливаются в исходные с сохранением метки, которую имело первое слово в разбзиении"
   ]
  },
  {
   "cell_type": "code",
   "execution_count": 43,
   "metadata": {
    "colab": {
     "base_uri": "https://localhost:8080/"
    },
    "executionInfo": {
     "elapsed": 8,
     "status": "ok",
     "timestamp": 1725969375332,
     "user": {
      "displayName": "Alexander Frolov",
      "userId": "01534766444683263814"
     },
     "user_tz": -180
    },
    "id": "X3SBXvGDEahu",
    "outputId": "98fb89b1-d608-44a0-db32-f7fbb9ecd960"
   },
   "outputs": [
    {
     "name": "stdout",
     "output_type": "stream",
     "text": [
      "['Привет', ',', 'я', 'программист', '.', 'Изучаю', 'БД', 'и', 'их', 'структурные']\n",
      "['O', 'O', 'B-Person', 'B-Profession', 'O', 'O', 'B-Tool', 'O', 'O', 'B-Adjective']\n"
     ]
    }
   ],
   "source": [
    "# merge splitted tokens with saving its labels\n",
    "def merge_spitted_tokens(prediction):\n",
    "    tokens = prediction[0]\n",
    "    labels = prediction[1]\n",
    "\n",
    "    new_tokens = []\n",
    "    new_labels = []\n",
    "\n",
    "    current_label = labels[0]\n",
    "    current_token = tokens[0]\n",
    "    for i in range(len(tokens) - 1):\n",
    "        token = tokens[i]\n",
    "        label = labels[i]\n",
    "\n",
    "        if tokens[i + 1].startswith(\"##\"):\n",
    "           current_token += tokens[i + 1][2:]\n",
    "        else:\n",
    "            new_tokens.append(current_token)\n",
    "            new_labels.append(current_label)\n",
    "\n",
    "            current_label = labels[i + 1]\n",
    "            current_token = tokens[i + 1]\n",
    "\n",
    "    if tokens[-1].startswith(\"##\"):\n",
    "        new_tokens.append(current_token)\n",
    "        new_labels.append(current_label)\n",
    "    else:\n",
    "        new_tokens.append(tokens[-1])\n",
    "        new_labels.append(labels[-1])\n",
    "\n",
    "    return [new_tokens, new_labels]\n",
    "\n",
    "# Example\n",
    "prediction = [\n",
    "    [\"Привет\", \",\", \"я\", \"програ\", \"##ммист\", \".\", \"Изучаю\", \"БД\", \"и\", \"их\", \"струк\", \"##тур\", \"##ные\"],\n",
    "    [\"O\", \"O\", \"B-Person\", \"B-Profession\", \"B-Profession\", \"O\", \"O\", \"B-Tool\", \"O\", \"O\", \"B-Adjective\", \"B-Adjective\", \"B-Adjective\"]\n",
    "]\n",
    "\n",
    "new_prediction = merge_spitted_tokens(prediction)\n",
    "print(new_prediction[0])\n",
    "print(new_prediction[1])"
   ]
  },
  {
   "cell_type": "markdown",
   "metadata": {
    "id": "Pfy9V7eWLQAk"
   },
   "source": [
    "Функция ниже также решает проблему токенайзера. Есть ситации, когда в наших токенах есть, например, токен: \"; \". Тогда он будет разбит токенайзером на два отдельных токена \";\" и \" \" без добавления символов \"##\". Такие ситации решает фукнция ниже, возвращая эти токены к исходному с добавлением ему метки \"O\""
   ]
  },
  {
   "cell_type": "code",
   "execution_count": 44,
   "metadata": {
    "executionInfo": {
     "elapsed": 6,
     "status": "ok",
     "timestamp": 1725969375333,
     "user": {
      "displayName": "Alexander Frolov",
      "userId": "01534766444683263814"
     },
     "user_tz": -180
    },
    "id": "ddSFVj-Qf-v2"
   },
   "outputs": [],
   "source": [
    "def sinchronize_prediction_by_tokens(prediction, tokens):\n",
    "    pred_tokens = prediction[0]\n",
    "    pred_labels = prediction[1]\n",
    "    new_tokens = []\n",
    "    new_labels = []\n",
    "\n",
    "    ind_real = ind_pred = 0\n",
    "    while (ind_real < len(tokens)) and (ind_pred < len(pred_tokens)):\n",
    "        real_token = tokens[ind_real]\n",
    "        pred_token = pred_tokens[ind_pred]\n",
    "        pred_label = pred_labels[ind_pred]\n",
    "\n",
    "        if real_token == pred_token:\n",
    "            new_tokens.append(real_token)\n",
    "            new_labels.append(pred_label)\n",
    "            ind_real += 1\n",
    "            ind_pred += 1\n",
    "        else:\n",
    "            new_tokens.append(real_token)\n",
    "            new_labels.append(\"O\") # assume that splitted labels are not even words\n",
    "            ind_real += 1\n",
    "            ind_pred += 1\n",
    "\n",
    "            if ind_real < len(tokens):\n",
    "                while (ind_pred < len(pred_tokens)) and (not tokens[ind_real].startswith(pred_tokens[ind_pred])):\n",
    "                    ind_pred += 1\n",
    "\n",
    "    return [new_tokens, new_labels]"
   ]
  },
  {
   "cell_type": "markdown",
   "metadata": {
    "id": "cu2Zznhe-dva"
   },
   "source": [
    "Функция ниже получает предсказания. Она подает токенайзеру текст пачками так, чтобы не получилось больше 512 токенов (т.к. модель BERT не подходит для более, чем 512 токенов). В итоге вычисляются предсказания для каждой отдельной пачки токенов и в результате они конкатенируются к общему массиву предсказаний. По итогу мы получаем массив предсказаний, где для каждого текста имеется массив его токенов и соответствующий массив меток"
   ]
  },
  {
   "cell_type": "code",
   "execution_count": 45,
   "metadata": {
    "executionInfo": {
     "elapsed": 5,
     "status": "ok",
     "timestamp": 1725969375333,
     "user": {
      "displayName": "Alexander Frolov",
      "userId": "01534766444683263814"
     },
     "user_tz": -180
    },
    "id": "MrRW5uD4eQ3D"
   },
   "outputs": [],
   "source": [
    "def get_predictions(model, tokenzier, df):\n",
    "    preds = [ [[], []] for i in range(df.shape[0]) ]\n",
    "    model_id2label = model.config.id2label\n",
    "\n",
    "    for i in range(df.shape[0]):\n",
    "        start_index = 0\n",
    "        current_prediction_full = [[], []]\n",
    "        df_tokens = df[\"tokens\"][i]\n",
    "\n",
    "        while True:\n",
    "\n",
    "            df_tokens_current = df[\"tokens\"][i][start_index:]\n",
    "            tokenized_input = tokenizer(df_tokens_current, is_split_into_words=True,\n",
    "                                        padding=True, truncation=True, max_length=512,\n",
    "                                        add_special_tokens=False, return_tensors=\"pt\")\n",
    "            model.to('cuda')\n",
    "            with torch.no_grad():\n",
    "                outputs = model(tokenized_input[\"input_ids\"].cuda(), tokenized_input[\"attention_mask\"].cuda())\n",
    "\n",
    "                logits = outputs.logits\n",
    "                predictions = torch.argmax(logits, dim=2).cuda()\n",
    "                #label_inds = np.argmax(outputs[0].to('cpu').numpy(), axis=2)\n",
    "\n",
    "            tokenizer_tokens = tokenizer.convert_ids_to_tokens(tokenized_input['input_ids'][0])\n",
    "            predicted_labels = [model_id2label[prediction.item()] for prediction in predictions[0]]\n",
    "\n",
    "            current_prediction = [tokenizer_tokens, predicted_labels]\n",
    "\n",
    "            current_prediction = merge_spitted_tokens(current_prediction)\n",
    "            current_prediction = sinchronize_prediction_by_tokens(current_prediction, df_tokens_current)\n",
    "\n",
    "            current_prediction_full[0] += current_prediction[0]\n",
    "            current_prediction_full[1] += current_prediction[1]\n",
    "\n",
    "            start_index = len(current_prediction_full[0])\n",
    "            if start_index >= len(df_tokens):\n",
    "                break\n",
    "\n",
    "        # merge results to one prediction\n",
    "        preds[i][0] += current_prediction_full[0]\n",
    "        preds[i][1] += current_prediction_full[1]\n",
    "\n",
    "        if (i + 1) % 100 == 0:\n",
    "            print(f\"{i + 1} / {df.shape[0]}\")\n",
    "\n",
    "    return preds"
   ]
  },
  {
   "cell_type": "code",
   "execution_count": 46,
   "metadata": {
    "colab": {
     "base_uri": "https://localhost:8080/"
    },
    "executionInfo": {
     "elapsed": 329823,
     "status": "ok",
     "timestamp": 1725969705151,
     "user": {
      "displayName": "Alexander Frolov",
      "userId": "01534766444683263814"
     },
     "user_tz": -180
    },
    "id": "rK-uY4p4Eanz",
    "outputId": "00edfe55-feb0-4f94-f6d2-b50247290b5b"
   },
   "outputs": [
    {
     "name": "stdout",
     "output_type": "stream",
     "text": [
      "100 / 5184\n",
      "200 / 5184\n",
      "300 / 5184\n",
      "400 / 5184\n",
      "500 / 5184\n",
      "600 / 5184\n",
      "700 / 5184\n",
      "800 / 5184\n",
      "900 / 5184\n",
      "1000 / 5184\n",
      "1100 / 5184\n",
      "1200 / 5184\n",
      "1300 / 5184\n",
      "1400 / 5184\n",
      "1500 / 5184\n",
      "1600 / 5184\n",
      "1700 / 5184\n",
      "1800 / 5184\n",
      "1900 / 5184\n",
      "2000 / 5184\n",
      "2100 / 5184\n",
      "2200 / 5184\n",
      "2300 / 5184\n",
      "2400 / 5184\n",
      "2500 / 5184\n",
      "2600 / 5184\n",
      "2700 / 5184\n",
      "2800 / 5184\n",
      "2900 / 5184\n",
      "3000 / 5184\n",
      "3100 / 5184\n",
      "3200 / 5184\n",
      "3300 / 5184\n",
      "3400 / 5184\n",
      "3500 / 5184\n",
      "3600 / 5184\n",
      "3700 / 5184\n",
      "3800 / 5184\n",
      "3900 / 5184\n",
      "4000 / 5184\n",
      "4100 / 5184\n",
      "4200 / 5184\n",
      "4300 / 5184\n",
      "4400 / 5184\n",
      "4500 / 5184\n",
      "4600 / 5184\n",
      "4700 / 5184\n",
      "4800 / 5184\n",
      "4900 / 5184\n",
      "5000 / 5184\n",
      "5100 / 5184\n"
     ]
    }
   ],
   "source": [
    "predictions_1 = get_predictions(model_fine_tuned, tokenizer_fine_tuned, df1_clean)"
   ]
  },
  {
   "cell_type": "code",
   "execution_count": 50,
   "metadata": {
    "colab": {
     "base_uri": "https://localhost:8080/"
    },
    "executionInfo": {
     "elapsed": 126164,
     "status": "ok",
     "timestamp": 1725969863990,
     "user": {
      "displayName": "Alexander Frolov",
      "userId": "01534766444683263814"
     },
     "user_tz": -180
    },
    "id": "fMnf_yhWVnQp",
    "outputId": "069a75bb-b5d0-418b-b19c-e453b9f546bc"
   },
   "outputs": [
    {
     "name": "stdout",
     "output_type": "stream",
     "text": [
      "100 / 5071\n",
      "200 / 5071\n",
      "300 / 5071\n",
      "400 / 5071\n",
      "500 / 5071\n",
      "600 / 5071\n",
      "700 / 5071\n",
      "800 / 5071\n",
      "900 / 5071\n",
      "1000 / 5071\n",
      "1100 / 5071\n",
      "1200 / 5071\n",
      "1300 / 5071\n",
      "1400 / 5071\n",
      "1500 / 5071\n",
      "1600 / 5071\n",
      "1700 / 5071\n",
      "1800 / 5071\n",
      "1900 / 5071\n",
      "2000 / 5071\n",
      "2100 / 5071\n",
      "2200 / 5071\n",
      "2300 / 5071\n",
      "2400 / 5071\n",
      "2500 / 5071\n",
      "2600 / 5071\n",
      "2700 / 5071\n",
      "2800 / 5071\n",
      "2900 / 5071\n",
      "3000 / 5071\n",
      "3100 / 5071\n",
      "3200 / 5071\n",
      "3300 / 5071\n",
      "3400 / 5071\n",
      "3500 / 5071\n",
      "3600 / 5071\n",
      "3700 / 5071\n",
      "3800 / 5071\n",
      "3900 / 5071\n",
      "4000 / 5071\n",
      "4100 / 5071\n",
      "4200 / 5071\n",
      "4300 / 5071\n",
      "4400 / 5071\n",
      "4500 / 5071\n",
      "4600 / 5071\n",
      "4700 / 5071\n",
      "4800 / 5071\n",
      "4900 / 5071\n",
      "5000 / 5071\n"
     ]
    }
   ],
   "source": [
    "predictions_2 = get_predictions(model_fine_tuned, tokenizer_fine_tuned, df2_clean)"
   ]
  },
  {
   "cell_type": "markdown",
   "metadata": {
    "id": "cRavmwM9VxJi"
   },
   "source": [
    "Проверим, действительно ли токены в предсказаниях соответствуют токенам в нашем датасете"
   ]
  },
  {
   "cell_type": "code",
   "execution_count": 47,
   "metadata": {
    "executionInfo": {
     "elapsed": 2086,
     "status": "ok",
     "timestamp": 1725969708572,
     "user": {
      "displayName": "Alexander Frolov",
      "userId": "01534766444683263814"
     },
     "user_tz": -180
    },
    "id": "VxqclqH3f-rn"
   },
   "outputs": [],
   "source": [
    "# if there is any print so there are issues in methods above\n",
    "for i in range(len(predictions_1)):\n",
    "    if len(predictions_1[i][0]) != len(df1_clean.loc[i]['tokens']):\n",
    "        print('!!!')\n",
    "        print(i)\n",
    "        break\n",
    "    if len(predictions_1[i][0]) != len(predictions_1[i][1]):\n",
    "        print('!!!!')\n",
    "        print(i)\n",
    "        break\n",
    "    for real_token, pred_token in zip(predictions_1[i][0], df1_clean.loc[i]['tokens']):\n",
    "        if real_token != pred_token:\n",
    "            print('!!!')\n",
    "            print(i)\n",
    "            break"
   ]
  },
  {
   "cell_type": "markdown",
   "metadata": {
    "id": "H9Y0m6yfYNPl"
   },
   "source": [
    "Функция ничего не вывела, а значит все методы обработки выше - правильные"
   ]
  },
  {
   "cell_type": "markdown",
   "metadata": {
    "id": "ubgMQ802YUqB"
   },
   "source": [
    "Функции ниже вычисляют метрики для полученных предсказаний и исходных обработанных данных"
   ]
  },
  {
   "cell_type": "code",
   "execution_count": 48,
   "metadata": {
    "executionInfo": {
     "elapsed": 4,
     "status": "ok",
     "timestamp": 1725969708572,
     "user": {
      "displayName": "Alexander Frolov",
      "userId": "01534766444683263814"
     },
     "user_tz": -180
    },
    "id": "QlG8Xhvmgi-0"
   },
   "outputs": [],
   "source": [
    "def calculate_Recall_Precision_F1(TP, FP, TN, FN):\n",
    "    if TP + FP > 0:\n",
    "        precision = TP / (TP + FP)\n",
    "        recall = TP / (TP + FN)\n",
    "        F1 = 2 * precision * recall / (precision + recall)\n",
    "        return [recall, precision, F1]\n",
    "    return [0, 0, 0]\n",
    "\n",
    "def calculate_metrics_overall(df, predictions, labels_list):\n",
    "    TP = FP = TN = FN = 0\n",
    "\n",
    "    individual_metrics = dict()\n",
    "    for label in labels_list:\n",
    "        individual_metrics[label] = [0, 0] # TP FP\n",
    "\n",
    "    for i in range(len(predictions)):\n",
    "        sample = df.loc[i]\n",
    "        predicted_labels = predictions[i][1]\n",
    "\n",
    "        if len(sample['labels']) != len(predicted_labels):\n",
    "            print(\"Incorrect data processing was discovered!\")\n",
    "            print(f\"{len(sample['labels'])} != {len(predicted_labels)}\")\n",
    "            return -1\n",
    "\n",
    "        for label_real, label_pred in zip(sample['labels'], predicted_labels):\n",
    "            if label_real == label_pred:\n",
    "                if label_real == \"O\":\n",
    "                    TN += 1\n",
    "                else:\n",
    "                    TP += 1\n",
    "                individual_metrics[label_real][0] += 1\n",
    "            else:\n",
    "                if label_real == \"O\":\n",
    "                    FN += 1\n",
    "                else:\n",
    "                    FP += 1\n",
    "                individual_metrics[label_real][1] += 1\n",
    "\n",
    "        if (i + 1) % 1000 == 0:\n",
    "            print(f\"{i + 1} / {df.shape[0]}\")\n",
    "\n",
    "    for label in labels_list:\n",
    "        sample = individual_metrics[label]\n",
    "        if (sample[0] + sample[1]) > 0:\n",
    "            individual_metrics[label] = sample[0] / (sample[0] + sample[1]) # accuracy\n",
    "        else:\n",
    "            print(f\"Class {label} wasn't met\")\n",
    "            individual_metrics[label] = 0\n",
    "\n",
    "    print(TP, FP, TN, FN)\n",
    "    precision = TP / (TP + FP) if TP > 0 else 0\n",
    "    recall = TP / (TP + FN) if TP > 0 else 0\n",
    "    F1 = 2 * precision * recall / (precision + recall) if precision > 0 else 0\n",
    "\n",
    "    return [precision, recall, F1], individual_metrics"
   ]
  },
  {
   "cell_type": "code",
   "execution_count": 49,
   "metadata": {
    "colab": {
     "base_uri": "https://localhost:8080/"
    },
    "executionInfo": {
     "elapsed": 1700,
     "status": "ok",
     "timestamp": 1725969710268,
     "user": {
      "displayName": "Alexander Frolov",
      "userId": "01534766444683263814"
     },
     "user_tz": -180
    },
    "id": "ehPeKlTbSJOr",
    "outputId": "9960dd0d-0e1f-4be9-c217-cadb173778c3"
   },
   "outputs": [
    {
     "name": "stdout",
     "output_type": "stream",
     "text": [
      "1000 / 5184\n",
      "2000 / 5184\n",
      "3000 / 5184\n",
      "4000 / 5184\n",
      "5000 / 5184\n",
      "Class B-Knowledge wasn't met\n",
      "Class I-Knowledge wasn't met\n",
      "30834 222259 2337085 7491\n"
     ]
    },
    {
     "data": {
      "text/plain": [
       "([0.1218287348919172, 0.8045401174168297, 0.21161355853104474],\n",
       " {'O': 0.9968049660151772,\n",
       "  'B-Knowledge': 0,\n",
       "  'I-Knowledge': 0,\n",
       "  'B-SoftSkills': 0.09773598911295311,\n",
       "  'I-SoftSkills': 0.019033605468008353,\n",
       "  'B-Tool': 0.5337399697983596,\n",
       "  'I-Tool': 0.21167647770341103,\n",
       "  'B-ProgrammingLanguage': 0.3559485769487999,\n",
       "  'I-ProgrammingLanguage': 0.0008853474988933156,\n",
       "  'B-Method': 0.00807627593942793,\n",
       "  'I-Method': 0.0065024402253406905,\n",
       "  'B-Technology': 0.03793443210318882,\n",
       "  'I-Technology': 0.0019982871824150727})"
      ]
     },
     "execution_count": 49,
     "metadata": {},
     "output_type": "execute_result"
    }
   ],
   "source": [
    "result1 = calculate_metrics_overall(df1_clean, predictions_1, labels_list)\n",
    "result1"
   ]
  },
  {
   "cell_type": "code",
   "execution_count": 51,
   "metadata": {
    "colab": {
     "base_uri": "https://localhost:8080/"
    },
    "executionInfo": {
     "elapsed": 1310,
     "status": "ok",
     "timestamp": 1725969865298,
     "user": {
      "displayName": "Alexander Frolov",
      "userId": "01534766444683263814"
     },
     "user_tz": -180
    },
    "id": "qj6tpC1T1dGH",
    "outputId": "23f776d4-f885-4b5f-f24b-a66011acc8db"
   },
   "outputs": [
    {
     "name": "stdout",
     "output_type": "stream",
     "text": [
      "1000 / 5071\n",
      "2000 / 5071\n",
      "3000 / 5071\n",
      "4000 / 5071\n",
      "5000 / 5071\n",
      "Class B-Knowledge wasn't met\n",
      "Class I-Knowledge wasn't met\n",
      "36661 218249 627372 3233\n"
     ]
    },
    {
     "data": {
      "text/plain": [
       "([0.1438193872347103, 0.918960244648318, 0.2487144000759827],\n",
       " {'O': 0.994873177345565,\n",
       "  'B-Knowledge': 0,\n",
       "  'I-Knowledge': 0,\n",
       "  'B-SoftSkills': 0.13429106808244848,\n",
       "  'I-SoftSkills': 0.03837417234546421,\n",
       "  'B-Tool': 0.5726345828007491,\n",
       "  'I-Tool': 0.23626717908016207,\n",
       "  'B-ProgrammingLanguage': 0.48421679571173315,\n",
       "  'I-ProgrammingLanguage': 0.0070859167404783,\n",
       "  'B-Method': 0.018032159264931086,\n",
       "  'I-Method': 0.020738195986425907,\n",
       "  'B-Technology': 0.058702885009799005,\n",
       "  'I-Technology': 0.0032455824017309774})"
      ]
     },
     "execution_count": 51,
     "metadata": {},
     "output_type": "execute_result"
    }
   ],
   "source": [
    "result2 = calculate_metrics_overall(df2_clean, predictions_2, labels_list)\n",
    "result2"
   ]
  },
  {
   "cell_type": "markdown",
   "metadata": {
    "id": "hjntLFmC0hTP"
   },
   "source": [
    "Таким образом, для первого файлика F1 = 0.2116, а для второго - 0.2487."
   ]
  },
  {
   "cell_type": "markdown",
   "metadata": {},
   "source": [
    "Однако заметно, что модель очень плохо распознает `I-` классы. Наверное, стоит подумать о другом подходе к обучению"
   ]
  },
  {
   "cell_type": "markdown",
   "metadata": {
    "id": "SGcFTaqXJ0Co"
   },
   "source": [
    "#### 4.2. Проверка модели на реальных текстах"
   ]
  },
  {
   "cell_type": "markdown",
   "metadata": {
    "id": "ZRfcf12tdiiX"
   },
   "source": [
    "Тестировать модель я буду с использованием метода pipeline, т.к. я точно знаю, что мои текста после токенайзера не будут содержать более, чем 512 токенов. В этом случае использование метода pipeline - самый простой способ"
   ]
  },
  {
   "cell_type": "markdown",
   "metadata": {
    "id": "p7Od_IRVX3UF"
   },
   "source": [
    "Попробуем для теста подать на вход модели один из тренировочных текстов. Из-за оссобенностей модели трансформера он будет рассматриваться как новый."
   ]
  },
  {
   "cell_type": "code",
   "execution_count": 52,
   "metadata": {
    "colab": {
     "base_uri": "https://localhost:8080/"
    },
    "executionInfo": {
     "elapsed": 279,
     "status": "ok",
     "timestamp": 1725969923981,
     "user": {
      "displayName": "Alexander Frolov",
      "userId": "01534766444683263814"
     },
     "user_tz": -180
    },
    "id": "8507zu8q-80m",
    "outputId": "c9a2b0a6-0a79-4f59-9082-93fda33ff85c"
   },
   "outputs": [
    {
     "name": "stderr",
     "output_type": "stream",
     "text": [
      "Hardware accelerator e.g. GPU is available in the environment, but no `device` argument is passed to the `Pipeline` object. Model will be on CPU.\n"
     ]
    }
   ],
   "source": [
    "recognizer = pipeline(\"ner\", model=model_fine_tuned, tokenizer=tokenizer_fine_tuned)"
   ]
  },
  {
   "cell_type": "code",
   "execution_count": 53,
   "metadata": {
    "colab": {
     "base_uri": "https://localhost:8080/"
    },
    "executionInfo": {
     "elapsed": 281,
     "status": "ok",
     "timestamp": 1725969925530,
     "user": {
      "displayName": "Alexander Frolov",
      "userId": "01534766444683263814"
     },
     "user_tz": -180
    },
    "id": "WCz20EpMU4fG",
    "outputId": "0d5f928e-913c-4009-cb71-c06e7e40d731"
   },
   "outputs": [
    {
     "name": "stderr",
     "output_type": "stream",
     "text": [
      "Asking to truncate to max_length but no maximum length is provided and the model has no predefined maximum length. Default to no truncation.\n"
     ]
    },
    {
     "name": "stdout",
     "output_type": "stream",
     "text": [
      "I-Knowledge преподавания 0.4974931\n",
      "I-Knowledge английского 0.5063019\n",
      "I-Knowledge языка 0.5535979\n",
      "B-Tool Word 0.6044043\n",
      "B-Tool Excel 0.5858517\n",
      "B-Tool Power 0.69531226\n",
      "I-Tool Point 0.6889092\n",
      "B-SoftSkills Развит 0.53862053\n",
      "B-SoftSkills ##ые 0.49957955\n",
      "B-SoftSkills коммуника 0.6755258\n",
      "B-SoftSkills ##тив 0.8492422\n",
      "B-SoftSkills ##ные 0.8340413\n",
      "I-SoftSkills навыки 0.7392947\n",
      "B-SoftSkills трудолюб 0.8257472\n",
      "B-SoftSkills ##ие 0.8529555\n",
      "B-Knowledge Английский 0.45878327\n",
      "I-Knowledge язык 0.5053182\n",
      "B-Knowledge Организация 0.4955746\n",
      "I-Knowledge учебного 0.526317\n",
      "I-Knowledge процесса 0.522805\n",
      "B-Knowledge Научная 0.4811884\n",
      "I-Knowledge деятельность 0.52109134\n",
      "B-Knowledge ##ционное 0.51979804\n",
      "I-Knowledge обучение 0.5785401\n"
     ]
    }
   ],
   "source": [
    "# test the model\n",
    "\n",
    "example = \"102651095\\nДоцент кафедры иностранных языков\\nУважаемые соискатели!\\n \\nНа общеуниверситетскую кафедру иностранных языков требуется доцент.\\n \\n \\n \\nОбязанности:\\n \\n \\nПроведение всех форм занятий с обучающимися кафедры иностранных языков;\\n \\nРуководство курсовыми и выпускными квалификационными работами обучающихся; руководство педагогической и научной практикой;\\n \\nРазработка учебных планов и методических материалов (РПД, программ практик) для обеспечения учебного процесса по преподаваемым дисциплинам;\\n \\nОценка эффективность обучения предмету обучающихся;\\n \\nУчастие в научных мероприятиях кафедры;\\n \\nУчастие в научной и воспитательной работе с обучающимися.\\n \\n \\nТребования:\\n \\n \\nВысшее образование;\\n \\nНаличие ученой степени кандидата наук\\n;\\n \\nНаличие обязательных курсов повышения квалификации;\\n \\nСтаж научно-педагогической работы не менее 3 лет;\\n \\nЗнание методики преподавания английского языка;\\n \\nПодготовка и публикация научных статей в рецензируемых изданиях ВАК и\\/или международных изданиях, регулярное участие в научных конференциях;\\n \\nУмение работать с компьютерными программами: Word, Excel, Power Point;\\n \\nРазвитые коммуникативные навыки, трудолюбие.\\n \\n \\nУсловия:\\n \\n \\nРабота в одном из ведущих педагогических университетов России (\\nТОП-100 RAEX\\n);\\n \\nОформление в соответствии с ТК РФ;\\n \\nЗаработная плата состоит из основной части + доплаты в рамках эффективного контракта;\\n \\nГрафик работы в соответствии с расписанием занятий.\\n \\nАнглийский язык,Организация учебного процесса,Научная деятельность,Дистанционное обучение\\n\"\n",
    "\n",
    "results = recognizer(example)\n",
    "\n",
    "for result in results:\n",
    "    print(result['entity'], result['word'], result['score'])"
   ]
  },
  {
   "cell_type": "markdown",
   "metadata": {
    "id": "_Mz4vssJpq3d"
   },
   "source": [
    "Стоит отметить, что результат весьма впечатляющий. Попробуем подать небольшой текст"
   ]
  },
  {
   "cell_type": "code",
   "execution_count": 54,
   "metadata": {
    "colab": {
     "base_uri": "https://localhost:8080/"
    },
    "executionInfo": {
     "elapsed": 294,
     "status": "ok",
     "timestamp": 1725969943379,
     "user": {
      "displayName": "Alexander Frolov",
      "userId": "01534766444683263814"
     },
     "user_tz": -180
    },
    "id": "2vyxdiv0phXV",
    "outputId": "059329b4-8f67-4c8a-c29f-a75d27967821"
   },
   "outputs": [
    {
     "name": "stdout",
     "output_type": "stream",
     "text": [
      "I-SoftSkills команде 0.5808319\n",
      "B-ProgrammingLanguage C 0.88274884\n",
      "I-ProgrammingLanguage + 0.96050084\n",
      "I-ProgrammingLanguage + 0.96728146\n",
      "B-SoftSkills английским 0.52719045\n",
      "I-SoftSkills языком 0.51900136\n",
      "I-SoftSkills вид 0.6054899\n"
     ]
    }
   ],
   "source": [
    "# test the model\n",
    "\n",
    "example = \"Мы - развивающаяся IT-компания. Ищем ответственного человека, способного работать в команде, учавствовать в разработке приложений на языке C++. Требования: -уверенное владение английским языком (C2); -разработка и поддержание готовых проектов; -хороший внешний вид. Оплата: 500 тыс. рублей\"\n",
    "\n",
    "results = recognizer(example)\n",
    "\n",
    "for result in results:\n",
    "    print(result['entity'], result['word'], result['score'])"
   ]
  },
  {
   "cell_type": "markdown",
   "metadata": {
    "id": "7tUdpTecrD8b"
   },
   "source": [
    "Результат, к сожалению, не очень хороший. Однако круто, что модель смогла хоть как-то отработать с маленьким текстов, учитывая, что тренировка проводилась только на больших текстах"
   ]
  },
  {
   "cell_type": "markdown",
   "metadata": {
    "id": "eFAwFXIerIyS"
   },
   "source": [
    "Попробую подать на вход более большой текст"
   ]
  },
  {
   "cell_type": "code",
   "execution_count": 55,
   "metadata": {
    "colab": {
     "base_uri": "https://localhost:8080/"
    },
    "executionInfo": {
     "elapsed": 278,
     "status": "ok",
     "timestamp": 1725969947574,
     "user": {
      "displayName": "Alexander Frolov",
      "userId": "01534766444683263814"
     },
     "user_tz": -180
    },
    "id": "DF5JKqokqdzc",
    "outputId": "4e660fba-795c-4419-af55-372cb1851a01"
   },
   "outputs": [
    {
     "name": "stdout",
     "output_type": "stream",
     "text": [
      "B-ProgrammingLanguage С 0.7995157\n",
      "B-ProgrammingLanguage C 0.8962386\n",
      "I-ProgrammingLanguage + 0.92040056\n",
      "I-ProgrammingLanguage + 0.94713116\n",
      "I-ProgrammingLanguage , 0.91484946\n",
      "B-ProgrammingLanguage C 0.893112\n",
      "I-ProgrammingLanguage # 0.9040786\n",
      "B-ProgrammingLanguage Java 0.6895581\n",
      "B-Method структуры 0.72628856\n",
      "I-Method данных 0.6073363\n",
      "B-Method алгоритмы 0.6506865\n",
      "B-ProgrammingLanguage C 0.8920682\n",
      "B-ProgrammingLanguage C 0.9068745\n",
      "I-ProgrammingLanguage + 0.93033403\n",
      "I-ProgrammingLanguage + 0.95131713\n",
      "I-ProgrammingLanguage . 0.6537125\n",
      "B-SoftSkills Технический 0.6083414\n",
      "I-SoftSkills английский 0.67377084\n",
      "B-ProgrammingLanguage C 0.93546665\n",
      "I-ProgrammingLanguage # 0.9146142\n",
      "I-Technology NET 0.34864986\n",
      "B-Technology Win 0.61565197\n",
      "B-Technology ##32 0.70128167\n",
      "I-Technology API 0.37187937\n",
      "B-Technology COM 0.67728555\n",
      "B-Technology . 0.2696967\n",
      "I-Technology NET 0.3350018\n",
      "B-Method test 0.40669551\n",
      "I-Technology - 0.35351527\n",
      "I-Method dr 0.321776\n",
      "I-Method ##iven 0.35528922\n",
      "I-Method de 0.38181624\n",
      "I-Method ##velop 0.36974028\n",
      "I-Method ##ment 0.35957825\n",
      "B-Technology open 0.6600231\n",
      "I-Technology source 0.529521\n",
      "B-ProgrammingLanguage C 0.87969965\n",
      "B-ProgrammingLanguage C 0.8838499\n",
      "I-ProgrammingLanguage + 0.91273034\n",
      "I-ProgrammingLanguage + 0.9330129\n",
      "I-ProgrammingLanguage . 0.6421454\n",
      "B-Method многоп 0.53250986\n",
      "B-Method ##оточ 0.5356794\n",
      "B-Method ##ность 0.5600149\n",
      "B-Method оптимизация 0.67113894\n",
      "B-Method эффективное 0.54070306\n",
      "I-Method управление 0.5343624\n",
      "I-Method памятью 0.5604728\n",
      "B-Method реплика 0.5781679\n",
      "B-Method ##ция 0.58352\n",
      "I-Method данных 0.5472577\n"
     ]
    }
   ],
   "source": [
    "# test the model\n",
    "\n",
    "# hh.ru\n",
    "example = \"Наша компания является независимым разработчиком программного обеспечения в области систем управления версиями (version control) и у нас есть вакансия Junior Software Engineer. Данная вакансия идеальна для недавних выпускников и студентов профильных специальностей. Мы не требуем многолетний опыт работы, готовы помогать осваивать навыки системного программирования и предлагаем высокую заработную плату и комфортные условия работы. Отличный вариант для талантливых и увлеченных.\\n\\nНаши требования:\\n\\nПродвинутое владение хотя бы одним современным языком общего назначения (С/C++, C# или Java).\\nФундаментальные знания в области программирования (структуры данных, алгоритмы и т.п.).\\nОбщее знакомство с языком C/C++.\\nТехнический английский.\\nБудет плюсом:\\n\\nПрофильное образование.\\nЗнание C# и платформы .NET.\\nПонимание платформы Windows (Win32 API, COM, .NET).\\nОпыт использования test-driven development.\\nОпыт участия в open source проектах.\\nРаботая в нашей компании, вы получите возможность участвовать в разработке высоконагруженного серверного программного обеспечения на языке C/C++. Это действительно интересная и сложная работа: многопоточность, оптимизация, эффективное управление памятью, репликация данных.\\n\\nОфис компании в Санкт-Петербурге работает с 2010 года (5 минут от Василеостровской и Спортивной). Оформление в полном соответствии с ТК РФ, ДМС, оплачиваемые больничные без справок, эргономичные рабочие места и всё остальное на уровне лучших софтверных компаний Санкт-Петербурга. В том числе для студентов есть возможность совмещать работу и учебу.\\n\\nМы являемся аккредитованной IT-компанией.\"\n",
    "\n",
    "results = recognizer(example)\n",
    "\n",
    "for result in results:\n",
    "    print(result['entity'], result['word'], result['score'])"
   ]
  },
  {
   "cell_type": "markdown",
   "metadata": {
    "id": "X6EOKAaqrMWc"
   },
   "source": [
    "Тут уже результаты интересные, я считаю это круто! Сильно бросается в глаза, что все токены языка программирования помечаются лишь тегом \"B-\". Это правильно, т.к. при обработке языки по типу C++ воспринимались как единое слово."
   ]
  },
  {
   "cell_type": "markdown",
   "metadata": {
    "id": "_f4ltWuELxSs"
   },
   "source": [
    "#### 4.3. Заключение"
   ]
  },
  {
   "cell_type": "markdown",
   "metadata": {
    "id": "W4aLCy-u46Tw"
   },
   "source": [
    "Заключение.<br>\n",
    "Результат меня очень впечатлил, я рассчитывал, что модель не сможет хорошо работать на произвольных текстах. Это мой первый опыт работы с Hugging Face, так что, возможно, я не учел некоторые возможности библиотеки и дополнительные варианты улучшения обучаемости модели. <br>\n",
    "Наивысший результат F1 меры для доп. файликов составил примерно 0.25. Объяснить результат можно следующим: <br>\n",
    "1) Небольшой размер пакета при обучении (32); <br>\n",
    "2) Текста, у которых число токенов больше 512, подавались для текста модели пачками по 512 токенов.; <br>\n",
    "3) Небольшое число эпох. Каждая эпоха занимала около 15 минут на Goolge Colab T4. <br>\n",
    "4) Наличие больших текстов, из-за чего, вероятно, модели требуется гораздо больше примеров, чтобы выучить все закономерности"
   ]
  },
  {
   "cell_type": "markdown",
   "metadata": {
    "id": "nd-sduPK1I0g"
   },
   "source": [
    "Возможно, модель могла бы улучшить свои результаты, если бы я использовал другую архитектуру или текста подавались небольшими осмысленными абзацами"
   ]
  },
  {
   "cell_type": "markdown",
   "metadata": {
    "id": "TPuFBa9GW8KC"
   },
   "source": [
    "## 5. Код для использования этой модели"
   ]
  },
  {
   "cell_type": "markdown",
   "metadata": {
    "id": "07flyGCmXJGQ"
   },
   "source": [
    "Если модель была загружена к вам на компьютер и вы хотите использовать ее в дальнейшем, то вот код для этих целей"
   ]
  },
  {
   "cell_type": "markdown",
   "metadata": {
    "id": "km3QBFpKZZZa"
   },
   "source": [
    "Импорт модели и токенайзера:"
   ]
  },
  {
   "cell_type": "code",
   "execution_count": 56,
   "metadata": {
    "colab": {
     "base_uri": "https://localhost:8080/"
    },
    "executionInfo": {
     "elapsed": 772,
     "status": "ok",
     "timestamp": 1725970108328,
     "user": {
      "displayName": "Alexander Frolov",
      "userId": "01534766444683263814"
     },
     "user_tz": -180
    },
    "id": "NISILaedXAzg",
    "outputId": "6fc76527-abdb-4eb6-ab59-f8fef0254fe3"
   },
   "outputs": [
    {
     "name": "stderr",
     "output_type": "stream",
     "text": [
      "/usr/local/lib/python3.10/dist-packages/transformers/tokenization_utils_base.py:1601: FutureWarning: `clean_up_tokenization_spaces` was not set. It will be set to `True` by default. This behavior will be depracted in transformers v4.45, and will be then set to `False` by default. For more details check this issue: https://github.com/huggingface/transformers/issues/31884\n",
      "  warnings.warn(\n"
     ]
    }
   ],
   "source": [
    "path_to_model = 'ner_model'\n",
    "\n",
    "# load our model\n",
    "model = AutoModelForTokenClassification.from_pretrained(path_to_model)\n",
    "\n",
    "# load our tokenizer\n",
    "tokenizer_name = 'KoichiYasuoka/bert-base-russian-upos'\n",
    "tokenizer = BertTokenizerFast.from_pretrained(tokenizer_name)"
   ]
  },
  {
   "cell_type": "markdown",
   "metadata": {
    "id": "qFXm95upZb94"
   },
   "source": [
    "Дублирую все необходимые функции:"
   ]
  },
  {
   "cell_type": "code",
   "execution_count": 57,
   "metadata": {
    "executionInfo": {
     "elapsed": 2,
     "status": "ok",
     "timestamp": 1725970108328,
     "user": {
      "displayName": "Alexander Frolov",
      "userId": "01534766444683263814"
     },
     "user_tz": -180
    },
    "id": "tE2Tv7IHXcSf"
   },
   "outputs": [],
   "source": [
    "def text_to_tokens(text):\n",
    "    pre_tokenizer = Whitespace()\n",
    "    return [sample[0] for sample in pre_tokenizer.pre_tokenize_str(text)]\n",
    "\n",
    "# =====================================================================\n",
    "# =====================================================================\n",
    "\n",
    "def merge_spitted_tokens(prediction):\n",
    "    tokens = prediction[0]\n",
    "    labels = prediction[1]\n",
    "\n",
    "    new_tokens = []\n",
    "    new_labels = []\n",
    "\n",
    "    current_label = labels[0]\n",
    "    current_token = tokens[0]\n",
    "    for i in range(len(tokens) - 1):\n",
    "        token = tokens[i]\n",
    "        label = labels[i]\n",
    "\n",
    "        if tokens[i + 1].startswith(\"##\"):\n",
    "           current_token += tokens[i + 1][2:]\n",
    "        else:\n",
    "            new_tokens.append(current_token)\n",
    "            new_labels.append(current_label)\n",
    "\n",
    "            current_label = labels[i + 1]\n",
    "            current_token = tokens[i + 1]\n",
    "\n",
    "    if tokens[-1].startswith(\"##\"):\n",
    "        new_tokens.append(current_token)\n",
    "        new_labels.append(current_label)\n",
    "    else:\n",
    "        new_tokens.append(tokens[-1])\n",
    "        new_labels.append(labels[-1])\n",
    "\n",
    "    return [new_tokens, new_labels]\n",
    "\n",
    "# =====================================================================\n",
    "# =====================================================================\n",
    "\n",
    "def sinchronize_prediction_by_tokens(prediction, tokens):\n",
    "    pred_tokens = prediction[0]\n",
    "    pred_labels = prediction[1]\n",
    "    new_tokens = []\n",
    "    new_labels = []\n",
    "\n",
    "    ind_real = ind_pred = 0\n",
    "    while (ind_real < len(tokens)) and (ind_pred < len(pred_tokens)):\n",
    "        real_token = tokens[ind_real]\n",
    "        pred_token = pred_tokens[ind_pred]\n",
    "        pred_label = pred_labels[ind_pred]\n",
    "\n",
    "        if real_token == pred_token:\n",
    "            new_tokens.append(real_token)\n",
    "            new_labels.append(pred_label)\n",
    "            ind_real += 1\n",
    "            ind_pred += 1\n",
    "        else:\n",
    "            new_tokens.append(real_token)\n",
    "            new_labels.append(\"O\") # assume that splitted labels are not even words\n",
    "            ind_real += 1\n",
    "            ind_pred += 1\n",
    "\n",
    "            if ind_real < len(tokens):\n",
    "                while (ind_pred < len(pred_tokens)) and (not tokens[ind_real].startswith(pred_tokens[ind_pred])):\n",
    "                    ind_pred += 1\n",
    "\n",
    "    return [new_tokens, new_labels]\n",
    "\n",
    "# =====================================================================\n",
    "# =====================================================================\n",
    "\n",
    "def get_predictions(model, tokenzier, df):\n",
    "    preds = [ [[], []] for i in range(df.shape[0]) ]\n",
    "    model_id2label = model.config.id2label\n",
    "\n",
    "    for i in range(df.shape[0]):\n",
    "        start_index = 0\n",
    "        current_prediction_full = [[], []]\n",
    "        df_tokens = df[\"tokens\"][i]\n",
    "\n",
    "        while True:\n",
    "\n",
    "            df_tokens_current = df[\"tokens\"][i][start_index:]\n",
    "            tokenized_input = tokenizer(df_tokens_current, is_split_into_words=True,\n",
    "                                        padding=True, truncation=True, max_length=512,\n",
    "                                        add_special_tokens=False, return_tensors=\"pt\")\n",
    "            model.to('cuda')\n",
    "            with torch.no_grad():\n",
    "                outputs = model(tokenized_input[\"input_ids\"].cuda(), tokenized_input[\"attention_mask\"].cuda())\n",
    "\n",
    "                logits = outputs.logits\n",
    "                predictions = torch.argmax(logits, dim=2).cuda()\n",
    "                #label_inds = np.argmax(outputs[0].to('cpu').numpy(), axis=2)\n",
    "\n",
    "            tokenizer_tokens = tokenizer.convert_ids_to_tokens(tokenized_input['input_ids'][0])\n",
    "            predicted_labels = [model_id2label[prediction.item()] for prediction in predictions[0]]\n",
    "\n",
    "            current_prediction = [tokenizer_tokens, predicted_labels]\n",
    "\n",
    "            current_prediction = merge_spitted_tokens(current_prediction)\n",
    "            current_prediction = sinchronize_prediction_by_tokens(current_prediction, df_tokens_current)\n",
    "\n",
    "            current_prediction_full[0] += current_prediction[0]\n",
    "            current_prediction_full[1] += current_prediction[1]\n",
    "\n",
    "            start_index = len(current_prediction_full[0])\n",
    "            if start_index >= len(df_tokens):\n",
    "                break\n",
    "\n",
    "        # merge results to one prediction\n",
    "        preds[i][0] += current_prediction_full[0]\n",
    "        preds[i][1] += current_prediction_full[1]\n",
    "\n",
    "        if (i + 1) % 100 == 0:\n",
    "            print(f\"{i + 1} / {df.shape[0]}\")\n",
    "\n",
    "    return preds"
   ]
  },
  {
   "cell_type": "code",
   "execution_count": 58,
   "metadata": {
    "executionInfo": {
     "elapsed": 296,
     "status": "ok",
     "timestamp": 1725970108990,
     "user": {
      "displayName": "Alexander Frolov",
      "userId": "01534766444683263814"
     },
     "user_tz": -180
    },
    "id": "EFNb6lj4Z8BI"
   },
   "outputs": [],
   "source": [
    "example_text = \"Требуется программист-стажер на работу в крупной компании. От вас - ответственность + коммуникабельность. Вы лучший!\"\n",
    "\n",
    "tokens = text_to_tokens(example_text)\n",
    "\n",
    "input = pd.DataFrame({\n",
    "    'tokens': [tokens]\n",
    "})\n",
    "\n",
    "predictions = get_predictions(model, tokenizer, input)"
   ]
  },
  {
   "cell_type": "code",
   "execution_count": 59,
   "metadata": {
    "colab": {
     "base_uri": "https://localhost:8080/"
    },
    "executionInfo": {
     "elapsed": 3,
     "status": "ok",
     "timestamp": 1725970108990,
     "user": {
      "displayName": "Alexander Frolov",
      "userId": "01534766444683263814"
     },
     "user_tz": -180
    },
    "id": "nKZUYTp_a17C",
    "outputId": "5fdd125f-9fd8-423f-cf11-26d395d04989"
   },
   "outputs": [
    {
     "name": "stdout",
     "output_type": "stream",
     "text": [
      "(1, 2, 20)\n",
      "\n",
      "Требуется O\n",
      "программист O\n",
      "- O\n",
      "стажер O\n",
      "на O\n",
      "работу O\n",
      "в O\n",
      "крупной O\n",
      "компании O\n",
      ". O\n",
      "От O\n",
      "вас O\n",
      "- O\n",
      "ответственность B-SoftSkills\n",
      "+ O\n",
      "коммуникабельность B-SoftSkills\n",
      ". O\n",
      "Вы O\n",
      "лучший O\n",
      "! O\n"
     ]
    }
   ],
   "source": [
    "print(np.array(predictions).shape)\n",
    "print()\n",
    "\n",
    "for i in range(len(predictions[0][0])):\n",
    "    print(predictions[0][0][i], predictions[0][1][i])"
   ]
  },
  {
   "cell_type": "markdown",
   "metadata": {
    "id": "s2bbSr-RbaFh"
   },
   "source": [
    "Полученные результаты можно дополнительно обработать, чтобы получить наиболее желаемый вид!"
   ]
  }
 ],
 "metadata": {
  "accelerator": "GPU",
  "colab": {
   "collapsed_sections": [
    "lWWXYa5-_LXk",
    "0lW9HXyI_37H",
    "JTEOYgSE__x_",
    "0c-rJYXlAMpE",
    "a5XfXNuviAIr",
    "uy7iKr3fibH-",
    "flqicC5cdMUW",
    "Sjy2MfOXdUJ5",
    "-2T2V3Aidjh3",
    "NHqdKK7ukLuY",
    "u5-e_nfOkXNU",
    "KUdvau6gKCQ0",
    "SGcFTaqXJ0Co",
    "_f4ltWuELxSs",
    "TPuFBa9GW8KC"
   ],
   "gpuType": "T4",
   "provenance": []
  },
  "kernelspec": {
   "display_name": "Python 3 (ipykernel)",
   "language": "python",
   "name": "python3"
  },
  "language_info": {
   "codemirror_mode": {
    "name": "ipython",
    "version": 3
   },
   "file_extension": ".py",
   "mimetype": "text/x-python",
   "name": "python",
   "nbconvert_exporter": "python",
   "pygments_lexer": "ipython3",
   "version": "3.10.1"
  },
  "widgets": {
   "application/vnd.jupyter.widget-state+json": {
    "056e18adf61c479b8454994cffe32409": {
     "model_module": "@jupyter-widgets/controls",
     "model_module_version": "1.5.0",
     "model_name": "HTMLModel",
     "state": {
      "_dom_classes": [],
      "_model_module": "@jupyter-widgets/controls",
      "_model_module_version": "1.5.0",
      "_model_name": "HTMLModel",
      "_view_count": null,
      "_view_module": "@jupyter-widgets/controls",
      "_view_module_version": "1.5.0",
      "_view_name": "HTMLView",
      "description": "",
      "description_tooltip": null,
      "layout": "IPY_MODEL_3244f4345c10462e82cdfbac322eca53",
      "placeholder": "​",
      "style": "IPY_MODEL_a8d9d677da784f8c9bb4071e8ba7f5f7",
      "value": " 236/236 [00:00&lt;00:00, 8.83kB/s]"
     }
    },
    "05d7c803954c4d6592764aa40d2d0714": {
     "model_module": "@jupyter-widgets/controls",
     "model_module_version": "1.5.0",
     "model_name": "HTMLModel",
     "state": {
      "_dom_classes": [],
      "_model_module": "@jupyter-widgets/controls",
      "_model_module_version": "1.5.0",
      "_model_name": "HTMLModel",
      "_view_count": null,
      "_view_module": "@jupyter-widgets/controls",
      "_view_module_version": "1.5.0",
      "_view_name": "HTMLView",
      "description": "",
      "description_tooltip": null,
      "layout": "IPY_MODEL_b8e1042e0d3f452c96b1f21b16ddfd46",
      "placeholder": "​",
      "style": "IPY_MODEL_4eace4de7f9b421093e07ae29c60ff05",
      "value": " 9103/9103 [00:35&lt;00:00, 263.43 examples/s]"
     }
    },
    "0740154a790a4a48bebe4963ede7d527": {
     "model_module": "@jupyter-widgets/controls",
     "model_module_version": "1.5.0",
     "model_name": "FloatProgressModel",
     "state": {
      "_dom_classes": [],
      "_model_module": "@jupyter-widgets/controls",
      "_model_module_version": "1.5.0",
      "_model_name": "FloatProgressModel",
      "_view_count": null,
      "_view_module": "@jupyter-widgets/controls",
      "_view_module_version": "1.5.0",
      "_view_name": "ProgressView",
      "bar_style": "success",
      "description": "",
      "description_tooltip": null,
      "layout": "IPY_MODEL_a399b29272c64640918d773543ae0e4d",
      "max": 1138,
      "min": 0,
      "orientation": "horizontal",
      "style": "IPY_MODEL_d6e65db0139a47d28409581ba05cbcec",
      "value": 1138
     }
    },
    "0806e0de0dad4a30820360cedea49d14": {
     "model_module": "@jupyter-widgets/base",
     "model_module_version": "1.2.0",
     "model_name": "LayoutModel",
     "state": {
      "_model_module": "@jupyter-widgets/base",
      "_model_module_version": "1.2.0",
      "_model_name": "LayoutModel",
      "_view_count": null,
      "_view_module": "@jupyter-widgets/base",
      "_view_module_version": "1.2.0",
      "_view_name": "LayoutView",
      "align_content": null,
      "align_items": null,
      "align_self": null,
      "border": null,
      "bottom": null,
      "display": null,
      "flex": null,
      "flex_flow": null,
      "grid_area": null,
      "grid_auto_columns": null,
      "grid_auto_flow": null,
      "grid_auto_rows": null,
      "grid_column": null,
      "grid_gap": null,
      "grid_row": null,
      "grid_template_areas": null,
      "grid_template_columns": null,
      "grid_template_rows": null,
      "height": null,
      "justify_content": null,
      "justify_items": null,
      "left": null,
      "margin": null,
      "max_height": null,
      "max_width": null,
      "min_height": null,
      "min_width": null,
      "object_fit": null,
      "object_position": null,
      "order": null,
      "overflow": null,
      "overflow_x": null,
      "overflow_y": null,
      "padding": null,
      "right": null,
      "top": null,
      "visibility": null,
      "width": null
     }
    },
    "083126e26ccd418598923d06005f9cd6": {
     "model_module": "@jupyter-widgets/controls",
     "model_module_version": "1.5.0",
     "model_name": "DescriptionStyleModel",
     "state": {
      "_model_module": "@jupyter-widgets/controls",
      "_model_module_version": "1.5.0",
      "_model_name": "DescriptionStyleModel",
      "_view_count": null,
      "_view_module": "@jupyter-widgets/base",
      "_view_module_version": "1.2.0",
      "_view_name": "StyleView",
      "description_width": ""
     }
    },
    "0d3ff3bc67c34006a2049aa3d3f45530": {
     "model_module": "@jupyter-widgets/controls",
     "model_module_version": "1.5.0",
     "model_name": "ProgressStyleModel",
     "state": {
      "_model_module": "@jupyter-widgets/controls",
      "_model_module_version": "1.5.0",
      "_model_name": "ProgressStyleModel",
      "_view_count": null,
      "_view_module": "@jupyter-widgets/base",
      "_view_module_version": "1.2.0",
      "_view_name": "StyleView",
      "bar_color": null,
      "description_width": ""
     }
    },
    "0f25ccd4de0045028b5d7221877beb14": {
     "model_module": "@jupyter-widgets/base",
     "model_module_version": "1.2.0",
     "model_name": "LayoutModel",
     "state": {
      "_model_module": "@jupyter-widgets/base",
      "_model_module_version": "1.2.0",
      "_model_name": "LayoutModel",
      "_view_count": null,
      "_view_module": "@jupyter-widgets/base",
      "_view_module_version": "1.2.0",
      "_view_name": "LayoutView",
      "align_content": null,
      "align_items": null,
      "align_self": null,
      "border": null,
      "bottom": null,
      "display": null,
      "flex": null,
      "flex_flow": null,
      "grid_area": null,
      "grid_auto_columns": null,
      "grid_auto_flow": null,
      "grid_auto_rows": null,
      "grid_column": null,
      "grid_gap": null,
      "grid_row": null,
      "grid_template_areas": null,
      "grid_template_columns": null,
      "grid_template_rows": null,
      "height": null,
      "justify_content": null,
      "justify_items": null,
      "left": null,
      "margin": null,
      "max_height": null,
      "max_width": null,
      "min_height": null,
      "min_width": null,
      "object_fit": null,
      "object_position": null,
      "order": null,
      "overflow": null,
      "overflow_x": null,
      "overflow_y": null,
      "padding": null,
      "right": null,
      "top": null,
      "visibility": null,
      "width": null
     }
    },
    "0f270d76f46e4dafa2e317ea65e95c1b": {
     "model_module": "@jupyter-widgets/base",
     "model_module_version": "1.2.0",
     "model_name": "LayoutModel",
     "state": {
      "_model_module": "@jupyter-widgets/base",
      "_model_module_version": "1.2.0",
      "_model_name": "LayoutModel",
      "_view_count": null,
      "_view_module": "@jupyter-widgets/base",
      "_view_module_version": "1.2.0",
      "_view_name": "LayoutView",
      "align_content": null,
      "align_items": null,
      "align_self": null,
      "border": null,
      "bottom": null,
      "display": null,
      "flex": null,
      "flex_flow": null,
      "grid_area": null,
      "grid_auto_columns": null,
      "grid_auto_flow": null,
      "grid_auto_rows": null,
      "grid_column": null,
      "grid_gap": null,
      "grid_row": null,
      "grid_template_areas": null,
      "grid_template_columns": null,
      "grid_template_rows": null,
      "height": null,
      "justify_content": null,
      "justify_items": null,
      "left": null,
      "margin": null,
      "max_height": null,
      "max_width": null,
      "min_height": null,
      "min_width": null,
      "object_fit": null,
      "object_position": null,
      "order": null,
      "overflow": null,
      "overflow_x": null,
      "overflow_y": null,
      "padding": null,
      "right": null,
      "top": null,
      "visibility": null,
      "width": null
     }
    },
    "11a2753d240b4e02853bb38136e33516": {
     "model_module": "@jupyter-widgets/base",
     "model_module_version": "1.2.0",
     "model_name": "LayoutModel",
     "state": {
      "_model_module": "@jupyter-widgets/base",
      "_model_module_version": "1.2.0",
      "_model_name": "LayoutModel",
      "_view_count": null,
      "_view_module": "@jupyter-widgets/base",
      "_view_module_version": "1.2.0",
      "_view_name": "LayoutView",
      "align_content": null,
      "align_items": null,
      "align_self": null,
      "border": null,
      "bottom": null,
      "display": null,
      "flex": null,
      "flex_flow": null,
      "grid_area": null,
      "grid_auto_columns": null,
      "grid_auto_flow": null,
      "grid_auto_rows": null,
      "grid_column": null,
      "grid_gap": null,
      "grid_row": null,
      "grid_template_areas": null,
      "grid_template_columns": null,
      "grid_template_rows": null,
      "height": null,
      "justify_content": null,
      "justify_items": null,
      "left": null,
      "margin": null,
      "max_height": null,
      "max_width": null,
      "min_height": null,
      "min_width": null,
      "object_fit": null,
      "object_position": null,
      "order": null,
      "overflow": null,
      "overflow_x": null,
      "overflow_y": null,
      "padding": null,
      "right": null,
      "top": null,
      "visibility": null,
      "width": null
     }
    },
    "1531ce59d38543ce925f232c39be23e6": {
     "model_module": "@jupyter-widgets/controls",
     "model_module_version": "1.5.0",
     "model_name": "DescriptionStyleModel",
     "state": {
      "_model_module": "@jupyter-widgets/controls",
      "_model_module_version": "1.5.0",
      "_model_name": "DescriptionStyleModel",
      "_view_count": null,
      "_view_module": "@jupyter-widgets/base",
      "_view_module_version": "1.2.0",
      "_view_name": "StyleView",
      "description_width": ""
     }
    },
    "1818b81a54404e46ade8467af39ec983": {
     "model_module": "@jupyter-widgets/controls",
     "model_module_version": "1.5.0",
     "model_name": "HTMLModel",
     "state": {
      "_dom_classes": [],
      "_model_module": "@jupyter-widgets/controls",
      "_model_module_version": "1.5.0",
      "_model_name": "HTMLModel",
      "_view_count": null,
      "_view_module": "@jupyter-widgets/controls",
      "_view_module_version": "1.5.0",
      "_view_name": "HTMLView",
      "description": "",
      "description_tooltip": null,
      "layout": "IPY_MODEL_9922d01ba1c6418da48b53eeddf67dd4",
      "placeholder": "​",
      "style": "IPY_MODEL_37a95136e29440a799ff712891cbfef7",
      "value": " 1.65M/1.65M [00:00&lt;00:00, 5.22MB/s]"
     }
    },
    "1a3421eb28af4ea2b3bdff8d3c675b5b": {
     "model_module": "@jupyter-widgets/controls",
     "model_module_version": "1.5.0",
     "model_name": "FloatProgressModel",
     "state": {
      "_dom_classes": [],
      "_model_module": "@jupyter-widgets/controls",
      "_model_module_version": "1.5.0",
      "_model_name": "FloatProgressModel",
      "_view_count": null,
      "_view_module": "@jupyter-widgets/controls",
      "_view_module_version": "1.5.0",
      "_view_name": "ProgressView",
      "bar_style": "success",
      "description": "",
      "description_tooltip": null,
      "layout": "IPY_MODEL_2676cd1e1c534c619861de1acba05aa3",
      "max": 2616039,
      "min": 0,
      "orientation": "horizontal",
      "style": "IPY_MODEL_f1ba8b76c543433ab70b09f63cfeb8e1",
      "value": 2616039
     }
    },
    "1ab32298083c48bf9e89313acac25052": {
     "model_module": "@jupyter-widgets/controls",
     "model_module_version": "1.5.0",
     "model_name": "ProgressStyleModel",
     "state": {
      "_model_module": "@jupyter-widgets/controls",
      "_model_module_version": "1.5.0",
      "_model_name": "ProgressStyleModel",
      "_view_count": null,
      "_view_module": "@jupyter-widgets/base",
      "_view_module_version": "1.2.0",
      "_view_name": "StyleView",
      "bar_color": null,
      "description_width": ""
     }
    },
    "1ab33d3ca7cc4b709b05b05575eae8a6": {
     "model_module": "@jupyter-widgets/controls",
     "model_module_version": "1.5.0",
     "model_name": "HBoxModel",
     "state": {
      "_dom_classes": [],
      "_model_module": "@jupyter-widgets/controls",
      "_model_module_version": "1.5.0",
      "_model_name": "HBoxModel",
      "_view_count": null,
      "_view_module": "@jupyter-widgets/controls",
      "_view_module_version": "1.5.0",
      "_view_name": "HBoxView",
      "box_style": "",
      "children": [
       "IPY_MODEL_4cdc5a57c643468092f2d3ed3774a151",
       "IPY_MODEL_1eacc5abd124432cae9d6fe4378f196f",
       "IPY_MODEL_22cc2dedbc2c470fb69e3c15340b6ba0"
      ],
      "layout": "IPY_MODEL_a63baed62d204ef4a51ad08980d09b3b"
     }
    },
    "1c214d1173fd4b4d93a35cf7c1398b65": {
     "model_module": "@jupyter-widgets/controls",
     "model_module_version": "1.5.0",
     "model_name": "ProgressStyleModel",
     "state": {
      "_model_module": "@jupyter-widgets/controls",
      "_model_module_version": "1.5.0",
      "_model_name": "ProgressStyleModel",
      "_view_count": null,
      "_view_module": "@jupyter-widgets/base",
      "_view_module_version": "1.2.0",
      "_view_name": "StyleView",
      "bar_color": null,
      "description_width": ""
     }
    },
    "1c3736e0c5894b379b7c84e63d5317c2": {
     "model_module": "@jupyter-widgets/base",
     "model_module_version": "1.2.0",
     "model_name": "LayoutModel",
     "state": {
      "_model_module": "@jupyter-widgets/base",
      "_model_module_version": "1.2.0",
      "_model_name": "LayoutModel",
      "_view_count": null,
      "_view_module": "@jupyter-widgets/base",
      "_view_module_version": "1.2.0",
      "_view_name": "LayoutView",
      "align_content": null,
      "align_items": null,
      "align_self": null,
      "border": null,
      "bottom": null,
      "display": null,
      "flex": null,
      "flex_flow": null,
      "grid_area": null,
      "grid_auto_columns": null,
      "grid_auto_flow": null,
      "grid_auto_rows": null,
      "grid_column": null,
      "grid_gap": null,
      "grid_row": null,
      "grid_template_areas": null,
      "grid_template_columns": null,
      "grid_template_rows": null,
      "height": null,
      "justify_content": null,
      "justify_items": null,
      "left": null,
      "margin": null,
      "max_height": null,
      "max_width": null,
      "min_height": null,
      "min_width": null,
      "object_fit": null,
      "object_position": null,
      "order": null,
      "overflow": null,
      "overflow_x": null,
      "overflow_y": null,
      "padding": null,
      "right": null,
      "top": null,
      "visibility": null,
      "width": null
     }
    },
    "1eacc5abd124432cae9d6fe4378f196f": {
     "model_module": "@jupyter-widgets/controls",
     "model_module_version": "1.5.0",
     "model_name": "FloatProgressModel",
     "state": {
      "_dom_classes": [],
      "_model_module": "@jupyter-widgets/controls",
      "_model_module_version": "1.5.0",
      "_model_name": "FloatProgressModel",
      "_view_count": null,
      "_view_module": "@jupyter-widgets/controls",
      "_view_module_version": "1.5.0",
      "_view_name": "ProgressView",
      "bar_style": "success",
      "description": "",
      "description_tooltip": null,
      "layout": "IPY_MODEL_cd0a7df987ce44c89e098b5dbe1c59d7",
      "max": 1138,
      "min": 0,
      "orientation": "horizontal",
      "style": "IPY_MODEL_ec55f727cca44f0ca7805fb01c827667",
      "value": 1138
     }
    },
    "21e135a69a2e4282aad6c1bc7f92ed65": {
     "model_module": "@jupyter-widgets/controls",
     "model_module_version": "1.5.0",
     "model_name": "HTMLModel",
     "state": {
      "_dom_classes": [],
      "_model_module": "@jupyter-widgets/controls",
      "_model_module_version": "1.5.0",
      "_model_name": "HTMLModel",
      "_view_count": null,
      "_view_module": "@jupyter-widgets/controls",
      "_view_module_version": "1.5.0",
      "_view_name": "HTMLView",
      "description": "",
      "description_tooltip": null,
      "layout": "IPY_MODEL_433824946d914cc3942451ea7f27ea6f",
      "placeholder": "​",
      "style": "IPY_MODEL_aed64773783f44e5b55bab114cf823cd",
      "value": "tokenizer_config.json: 100%"
     }
    },
    "22cc2dedbc2c470fb69e3c15340b6ba0": {
     "model_module": "@jupyter-widgets/controls",
     "model_module_version": "1.5.0",
     "model_name": "HTMLModel",
     "state": {
      "_dom_classes": [],
      "_model_module": "@jupyter-widgets/controls",
      "_model_module_version": "1.5.0",
      "_model_name": "HTMLModel",
      "_view_count": null,
      "_view_module": "@jupyter-widgets/controls",
      "_view_module_version": "1.5.0",
      "_view_name": "HTMLView",
      "description": "",
      "description_tooltip": null,
      "layout": "IPY_MODEL_4081aa3d263a41bf9e1fe5efd3987fd2",
      "placeholder": "​",
      "style": "IPY_MODEL_c3d567aecf0d4c2bb58bd1ba400245ff",
      "value": " 1138/1138 [00:04&lt;00:00, 237.73 examples/s]"
     }
    },
    "2437a0ceb2b84e829163c93351dddc55": {
     "model_module": "@jupyter-widgets/controls",
     "model_module_version": "1.5.0",
     "model_name": "HTMLModel",
     "state": {
      "_dom_classes": [],
      "_model_module": "@jupyter-widgets/controls",
      "_model_module_version": "1.5.0",
      "_model_name": "HTMLModel",
      "_view_count": null,
      "_view_module": "@jupyter-widgets/controls",
      "_view_module_version": "1.5.0",
      "_view_name": "HTMLView",
      "description": "",
      "description_tooltip": null,
      "layout": "IPY_MODEL_a44e7b9d464e4fec84d5352cc64a7e31",
      "placeholder": "​",
      "style": "IPY_MODEL_1531ce59d38543ce925f232c39be23e6",
      "value": " 6.33k/? [00:00&lt;00:00, 127kB/s]"
     }
    },
    "25405637e0714fc980409ca5cf0df309": {
     "model_module": "@jupyter-widgets/controls",
     "model_module_version": "1.5.0",
     "model_name": "HTMLModel",
     "state": {
      "_dom_classes": [],
      "_model_module": "@jupyter-widgets/controls",
      "_model_module_version": "1.5.0",
      "_model_name": "HTMLModel",
      "_view_count": null,
      "_view_module": "@jupyter-widgets/controls",
      "_view_module_version": "1.5.0",
      "_view_name": "HTMLView",
      "description": "",
      "description_tooltip": null,
      "layout": "IPY_MODEL_a699d480d1514ec6b7bb202159ece005",
      "placeholder": "​",
      "style": "IPY_MODEL_3a798bb64f5645fbb4b5aa19b3ea5a64",
      "value": " 1138/1138 [00:03&lt;00:00, 366.26 examples/s]"
     }
    },
    "2676cd1e1c534c619861de1acba05aa3": {
     "model_module": "@jupyter-widgets/base",
     "model_module_version": "1.2.0",
     "model_name": "LayoutModel",
     "state": {
      "_model_module": "@jupyter-widgets/base",
      "_model_module_version": "1.2.0",
      "_model_name": "LayoutModel",
      "_view_count": null,
      "_view_module": "@jupyter-widgets/base",
      "_view_module_version": "1.2.0",
      "_view_name": "LayoutView",
      "align_content": null,
      "align_items": null,
      "align_self": null,
      "border": null,
      "bottom": null,
      "display": null,
      "flex": null,
      "flex_flow": null,
      "grid_area": null,
      "grid_auto_columns": null,
      "grid_auto_flow": null,
      "grid_auto_rows": null,
      "grid_column": null,
      "grid_gap": null,
      "grid_row": null,
      "grid_template_areas": null,
      "grid_template_columns": null,
      "grid_template_rows": null,
      "height": null,
      "justify_content": null,
      "justify_items": null,
      "left": null,
      "margin": null,
      "max_height": null,
      "max_width": null,
      "min_height": null,
      "min_width": null,
      "object_fit": null,
      "object_position": null,
      "order": null,
      "overflow": null,
      "overflow_x": null,
      "overflow_y": null,
      "padding": null,
      "right": null,
      "top": null,
      "visibility": null,
      "width": null
     }
    },
    "271c556563e6400aaabf1c0bf8645d3f": {
     "model_module": "@jupyter-widgets/base",
     "model_module_version": "1.2.0",
     "model_name": "LayoutModel",
     "state": {
      "_model_module": "@jupyter-widgets/base",
      "_model_module_version": "1.2.0",
      "_model_name": "LayoutModel",
      "_view_count": null,
      "_view_module": "@jupyter-widgets/base",
      "_view_module_version": "1.2.0",
      "_view_name": "LayoutView",
      "align_content": null,
      "align_items": null,
      "align_self": null,
      "border": null,
      "bottom": null,
      "display": null,
      "flex": null,
      "flex_flow": null,
      "grid_area": null,
      "grid_auto_columns": null,
      "grid_auto_flow": null,
      "grid_auto_rows": null,
      "grid_column": null,
      "grid_gap": null,
      "grid_row": null,
      "grid_template_areas": null,
      "grid_template_columns": null,
      "grid_template_rows": null,
      "height": null,
      "justify_content": null,
      "justify_items": null,
      "left": null,
      "margin": null,
      "max_height": null,
      "max_width": null,
      "min_height": null,
      "min_width": null,
      "object_fit": null,
      "object_position": null,
      "order": null,
      "overflow": null,
      "overflow_x": null,
      "overflow_y": null,
      "padding": null,
      "right": null,
      "top": null,
      "visibility": null,
      "width": null
     }
    },
    "29ad24e71ae745f798e812b9142f8def": {
     "model_module": "@jupyter-widgets/controls",
     "model_module_version": "1.5.0",
     "model_name": "HTMLModel",
     "state": {
      "_dom_classes": [],
      "_model_module": "@jupyter-widgets/controls",
      "_model_module_version": "1.5.0",
      "_model_name": "HTMLModel",
      "_view_count": null,
      "_view_module": "@jupyter-widgets/controls",
      "_view_module_version": "1.5.0",
      "_view_name": "HTMLView",
      "description": "",
      "description_tooltip": null,
      "layout": "IPY_MODEL_db15eb1d97a74ad8980d6e207819e706",
      "placeholder": "​",
      "style": "IPY_MODEL_e72e68a8f3924a6b86bcfa3a19476b74",
      "value": " 709M/709M [00:05&lt;00:00, 171MB/s]"
     }
    },
    "2c8f0a5740f247caaedd599f1c2fc0a9": {
     "model_module": "@jupyter-widgets/controls",
     "model_module_version": "1.5.0",
     "model_name": "ProgressStyleModel",
     "state": {
      "_model_module": "@jupyter-widgets/controls",
      "_model_module_version": "1.5.0",
      "_model_name": "ProgressStyleModel",
      "_view_count": null,
      "_view_module": "@jupyter-widgets/base",
      "_view_module_version": "1.2.0",
      "_view_name": "StyleView",
      "bar_color": null,
      "description_width": ""
     }
    },
    "2cb0cd669d24430991c711249d99f272": {
     "model_module": "@jupyter-widgets/controls",
     "model_module_version": "1.5.0",
     "model_name": "HTMLModel",
     "state": {
      "_dom_classes": [],
      "_model_module": "@jupyter-widgets/controls",
      "_model_module_version": "1.5.0",
      "_model_name": "HTMLModel",
      "_view_count": null,
      "_view_module": "@jupyter-widgets/controls",
      "_view_module_version": "1.5.0",
      "_view_name": "HTMLView",
      "description": "",
      "description_tooltip": null,
      "layout": "IPY_MODEL_11a2753d240b4e02853bb38136e33516",
      "placeholder": "​",
      "style": "IPY_MODEL_61788b4adca44edb84dad54ba726a6f2",
      "value": " 13.5k/13.5k [00:00&lt;00:00, 173kB/s]"
     }
    },
    "2d29e7143e40459e952fd17fba49f48f": {
     "model_module": "@jupyter-widgets/controls",
     "model_module_version": "1.5.0",
     "model_name": "HBoxModel",
     "state": {
      "_dom_classes": [],
      "_model_module": "@jupyter-widgets/controls",
      "_model_module_version": "1.5.0",
      "_model_name": "HBoxModel",
      "_view_count": null,
      "_view_module": "@jupyter-widgets/controls",
      "_view_module_version": "1.5.0",
      "_view_name": "HBoxView",
      "box_style": "",
      "children": [
       "IPY_MODEL_21e135a69a2e4282aad6c1bc7f92ed65",
       "IPY_MODEL_cdb339d5fd664f359865b5dbc2d3a2ba",
       "IPY_MODEL_056e18adf61c479b8454994cffe32409"
      ],
      "layout": "IPY_MODEL_4b479187f6394a02bc03d9d2d01cfa2a"
     }
    },
    "3244f4345c10462e82cdfbac322eca53": {
     "model_module": "@jupyter-widgets/base",
     "model_module_version": "1.2.0",
     "model_name": "LayoutModel",
     "state": {
      "_model_module": "@jupyter-widgets/base",
      "_model_module_version": "1.2.0",
      "_model_name": "LayoutModel",
      "_view_count": null,
      "_view_module": "@jupyter-widgets/base",
      "_view_module_version": "1.2.0",
      "_view_name": "LayoutView",
      "align_content": null,
      "align_items": null,
      "align_self": null,
      "border": null,
      "bottom": null,
      "display": null,
      "flex": null,
      "flex_flow": null,
      "grid_area": null,
      "grid_auto_columns": null,
      "grid_auto_flow": null,
      "grid_auto_rows": null,
      "grid_column": null,
      "grid_gap": null,
      "grid_row": null,
      "grid_template_areas": null,
      "grid_template_columns": null,
      "grid_template_rows": null,
      "height": null,
      "justify_content": null,
      "justify_items": null,
      "left": null,
      "margin": null,
      "max_height": null,
      "max_width": null,
      "min_height": null,
      "min_width": null,
      "object_fit": null,
      "object_position": null,
      "order": null,
      "overflow": null,
      "overflow_x": null,
      "overflow_y": null,
      "padding": null,
      "right": null,
      "top": null,
      "visibility": null,
      "width": null
     }
    },
    "37a95136e29440a799ff712891cbfef7": {
     "model_module": "@jupyter-widgets/controls",
     "model_module_version": "1.5.0",
     "model_name": "DescriptionStyleModel",
     "state": {
      "_model_module": "@jupyter-widgets/controls",
      "_model_module_version": "1.5.0",
      "_model_name": "DescriptionStyleModel",
      "_view_count": null,
      "_view_module": "@jupyter-widgets/base",
      "_view_module_version": "1.2.0",
      "_view_name": "StyleView",
      "description_width": ""
     }
    },
    "3a798bb64f5645fbb4b5aa19b3ea5a64": {
     "model_module": "@jupyter-widgets/controls",
     "model_module_version": "1.5.0",
     "model_name": "DescriptionStyleModel",
     "state": {
      "_model_module": "@jupyter-widgets/controls",
      "_model_module_version": "1.5.0",
      "_model_name": "DescriptionStyleModel",
      "_view_count": null,
      "_view_module": "@jupyter-widgets/base",
      "_view_module_version": "1.2.0",
      "_view_name": "StyleView",
      "description_width": ""
     }
    },
    "3d2c2dcf45ca4bb0979be81d09f0267e": {
     "model_module": "@jupyter-widgets/base",
     "model_module_version": "1.2.0",
     "model_name": "LayoutModel",
     "state": {
      "_model_module": "@jupyter-widgets/base",
      "_model_module_version": "1.2.0",
      "_model_name": "LayoutModel",
      "_view_count": null,
      "_view_module": "@jupyter-widgets/base",
      "_view_module_version": "1.2.0",
      "_view_name": "LayoutView",
      "align_content": null,
      "align_items": null,
      "align_self": null,
      "border": null,
      "bottom": null,
      "display": null,
      "flex": null,
      "flex_flow": null,
      "grid_area": null,
      "grid_auto_columns": null,
      "grid_auto_flow": null,
      "grid_auto_rows": null,
      "grid_column": null,
      "grid_gap": null,
      "grid_row": null,
      "grid_template_areas": null,
      "grid_template_columns": null,
      "grid_template_rows": null,
      "height": null,
      "justify_content": null,
      "justify_items": null,
      "left": null,
      "margin": null,
      "max_height": null,
      "max_width": null,
      "min_height": null,
      "min_width": null,
      "object_fit": null,
      "object_position": null,
      "order": null,
      "overflow": null,
      "overflow_x": null,
      "overflow_y": null,
      "padding": null,
      "right": null,
      "top": null,
      "visibility": null,
      "width": null
     }
    },
    "3dc135ec3e3d42ebb552a6719aa7758b": {
     "model_module": "@jupyter-widgets/controls",
     "model_module_version": "1.5.0",
     "model_name": "DescriptionStyleModel",
     "state": {
      "_model_module": "@jupyter-widgets/controls",
      "_model_module_version": "1.5.0",
      "_model_name": "DescriptionStyleModel",
      "_view_count": null,
      "_view_module": "@jupyter-widgets/base",
      "_view_module_version": "1.2.0",
      "_view_name": "StyleView",
      "description_width": ""
     }
    },
    "3eeed311ae114576af1615e50fdc7582": {
     "model_module": "@jupyter-widgets/controls",
     "model_module_version": "1.5.0",
     "model_name": "HBoxModel",
     "state": {
      "_dom_classes": [],
      "_model_module": "@jupyter-widgets/controls",
      "_model_module_version": "1.5.0",
      "_model_name": "HBoxModel",
      "_view_count": null,
      "_view_module": "@jupyter-widgets/controls",
      "_view_module_version": "1.5.0",
      "_view_name": "HBoxView",
      "box_style": "",
      "children": [
       "IPY_MODEL_e1de4738feb44d8f896a07894bb9a9c8",
       "IPY_MODEL_8268b85a63b0462083485bdc16dfe9d8",
       "IPY_MODEL_ea315334ebba4e20992f62e5117fb85a"
      ],
      "layout": "IPY_MODEL_0806e0de0dad4a30820360cedea49d14"
     }
    },
    "3f8895f7e6e04e2783a2e9411d53822e": {
     "model_module": "@jupyter-widgets/base",
     "model_module_version": "1.2.0",
     "model_name": "LayoutModel",
     "state": {
      "_model_module": "@jupyter-widgets/base",
      "_model_module_version": "1.2.0",
      "_model_name": "LayoutModel",
      "_view_count": null,
      "_view_module": "@jupyter-widgets/base",
      "_view_module_version": "1.2.0",
      "_view_name": "LayoutView",
      "align_content": null,
      "align_items": null,
      "align_self": null,
      "border": null,
      "bottom": null,
      "display": null,
      "flex": null,
      "flex_flow": null,
      "grid_area": null,
      "grid_auto_columns": null,
      "grid_auto_flow": null,
      "grid_auto_rows": null,
      "grid_column": null,
      "grid_gap": null,
      "grid_row": null,
      "grid_template_areas": null,
      "grid_template_columns": null,
      "grid_template_rows": null,
      "height": null,
      "justify_content": null,
      "justify_items": null,
      "left": null,
      "margin": null,
      "max_height": null,
      "max_width": null,
      "min_height": null,
      "min_width": null,
      "object_fit": null,
      "object_position": null,
      "order": null,
      "overflow": null,
      "overflow_x": null,
      "overflow_y": null,
      "padding": null,
      "right": null,
      "top": null,
      "visibility": null,
      "width": null
     }
    },
    "4081aa3d263a41bf9e1fe5efd3987fd2": {
     "model_module": "@jupyter-widgets/base",
     "model_module_version": "1.2.0",
     "model_name": "LayoutModel",
     "state": {
      "_model_module": "@jupyter-widgets/base",
      "_model_module_version": "1.2.0",
      "_model_name": "LayoutModel",
      "_view_count": null,
      "_view_module": "@jupyter-widgets/base",
      "_view_module_version": "1.2.0",
      "_view_name": "LayoutView",
      "align_content": null,
      "align_items": null,
      "align_self": null,
      "border": null,
      "bottom": null,
      "display": null,
      "flex": null,
      "flex_flow": null,
      "grid_area": null,
      "grid_auto_columns": null,
      "grid_auto_flow": null,
      "grid_auto_rows": null,
      "grid_column": null,
      "grid_gap": null,
      "grid_row": null,
      "grid_template_areas": null,
      "grid_template_columns": null,
      "grid_template_rows": null,
      "height": null,
      "justify_content": null,
      "justify_items": null,
      "left": null,
      "margin": null,
      "max_height": null,
      "max_width": null,
      "min_height": null,
      "min_width": null,
      "object_fit": null,
      "object_position": null,
      "order": null,
      "overflow": null,
      "overflow_x": null,
      "overflow_y": null,
      "padding": null,
      "right": null,
      "top": null,
      "visibility": null,
      "width": null
     }
    },
    "40e28d81b1b44b2ba1aa05d550c3fede": {
     "model_module": "@jupyter-widgets/controls",
     "model_module_version": "1.5.0",
     "model_name": "DescriptionStyleModel",
     "state": {
      "_model_module": "@jupyter-widgets/controls",
      "_model_module_version": "1.5.0",
      "_model_name": "DescriptionStyleModel",
      "_view_count": null,
      "_view_module": "@jupyter-widgets/base",
      "_view_module_version": "1.2.0",
      "_view_name": "StyleView",
      "description_width": ""
     }
    },
    "410bea532a3c42368211584718dced72": {
     "model_module": "@jupyter-widgets/base",
     "model_module_version": "1.2.0",
     "model_name": "LayoutModel",
     "state": {
      "_model_module": "@jupyter-widgets/base",
      "_model_module_version": "1.2.0",
      "_model_name": "LayoutModel",
      "_view_count": null,
      "_view_module": "@jupyter-widgets/base",
      "_view_module_version": "1.2.0",
      "_view_name": "LayoutView",
      "align_content": null,
      "align_items": null,
      "align_self": null,
      "border": null,
      "bottom": null,
      "display": null,
      "flex": null,
      "flex_flow": null,
      "grid_area": null,
      "grid_auto_columns": null,
      "grid_auto_flow": null,
      "grid_auto_rows": null,
      "grid_column": null,
      "grid_gap": null,
      "grid_row": null,
      "grid_template_areas": null,
      "grid_template_columns": null,
      "grid_template_rows": null,
      "height": null,
      "justify_content": null,
      "justify_items": null,
      "left": null,
      "margin": null,
      "max_height": null,
      "max_width": null,
      "min_height": null,
      "min_width": null,
      "object_fit": null,
      "object_position": null,
      "order": null,
      "overflow": null,
      "overflow_x": null,
      "overflow_y": null,
      "padding": null,
      "right": null,
      "top": null,
      "visibility": null,
      "width": null
     }
    },
    "41e6d64e5cec44398546d12726a9d67b": {
     "model_module": "@jupyter-widgets/controls",
     "model_module_version": "1.5.0",
     "model_name": "DescriptionStyleModel",
     "state": {
      "_model_module": "@jupyter-widgets/controls",
      "_model_module_version": "1.5.0",
      "_model_name": "DescriptionStyleModel",
      "_view_count": null,
      "_view_module": "@jupyter-widgets/base",
      "_view_module_version": "1.2.0",
      "_view_name": "StyleView",
      "description_width": ""
     }
    },
    "433824946d914cc3942451ea7f27ea6f": {
     "model_module": "@jupyter-widgets/base",
     "model_module_version": "1.2.0",
     "model_name": "LayoutModel",
     "state": {
      "_model_module": "@jupyter-widgets/base",
      "_model_module_version": "1.2.0",
      "_model_name": "LayoutModel",
      "_view_count": null,
      "_view_module": "@jupyter-widgets/base",
      "_view_module_version": "1.2.0",
      "_view_name": "LayoutView",
      "align_content": null,
      "align_items": null,
      "align_self": null,
      "border": null,
      "bottom": null,
      "display": null,
      "flex": null,
      "flex_flow": null,
      "grid_area": null,
      "grid_auto_columns": null,
      "grid_auto_flow": null,
      "grid_auto_rows": null,
      "grid_column": null,
      "grid_gap": null,
      "grid_row": null,
      "grid_template_areas": null,
      "grid_template_columns": null,
      "grid_template_rows": null,
      "height": null,
      "justify_content": null,
      "justify_items": null,
      "left": null,
      "margin": null,
      "max_height": null,
      "max_width": null,
      "min_height": null,
      "min_width": null,
      "object_fit": null,
      "object_position": null,
      "order": null,
      "overflow": null,
      "overflow_x": null,
      "overflow_y": null,
      "padding": null,
      "right": null,
      "top": null,
      "visibility": null,
      "width": null
     }
    },
    "4b479187f6394a02bc03d9d2d01cfa2a": {
     "model_module": "@jupyter-widgets/base",
     "model_module_version": "1.2.0",
     "model_name": "LayoutModel",
     "state": {
      "_model_module": "@jupyter-widgets/base",
      "_model_module_version": "1.2.0",
      "_model_name": "LayoutModel",
      "_view_count": null,
      "_view_module": "@jupyter-widgets/base",
      "_view_module_version": "1.2.0",
      "_view_name": "LayoutView",
      "align_content": null,
      "align_items": null,
      "align_self": null,
      "border": null,
      "bottom": null,
      "display": null,
      "flex": null,
      "flex_flow": null,
      "grid_area": null,
      "grid_auto_columns": null,
      "grid_auto_flow": null,
      "grid_auto_rows": null,
      "grid_column": null,
      "grid_gap": null,
      "grid_row": null,
      "grid_template_areas": null,
      "grid_template_columns": null,
      "grid_template_rows": null,
      "height": null,
      "justify_content": null,
      "justify_items": null,
      "left": null,
      "margin": null,
      "max_height": null,
      "max_width": null,
      "min_height": null,
      "min_width": null,
      "object_fit": null,
      "object_position": null,
      "order": null,
      "overflow": null,
      "overflow_x": null,
      "overflow_y": null,
      "padding": null,
      "right": null,
      "top": null,
      "visibility": null,
      "width": null
     }
    },
    "4babe4744e3246bfa9b07ad4fdfeb08d": {
     "model_module": "@jupyter-widgets/controls",
     "model_module_version": "1.5.0",
     "model_name": "HTMLModel",
     "state": {
      "_dom_classes": [],
      "_model_module": "@jupyter-widgets/controls",
      "_model_module_version": "1.5.0",
      "_model_name": "HTMLModel",
      "_view_count": null,
      "_view_module": "@jupyter-widgets/controls",
      "_view_module_version": "1.5.0",
      "_view_name": "HTMLView",
      "description": "",
      "description_tooltip": null,
      "layout": "IPY_MODEL_d32a84284ca54acf85c9bfbcd8d4adb8",
      "placeholder": "​",
      "style": "IPY_MODEL_4cc5b71c1ad64238a499c39ecaea5a2d",
      "value": "pytorch_model.bin: 100%"
     }
    },
    "4cc5b71c1ad64238a499c39ecaea5a2d": {
     "model_module": "@jupyter-widgets/controls",
     "model_module_version": "1.5.0",
     "model_name": "DescriptionStyleModel",
     "state": {
      "_model_module": "@jupyter-widgets/controls",
      "_model_module_version": "1.5.0",
      "_model_name": "DescriptionStyleModel",
      "_view_count": null,
      "_view_module": "@jupyter-widgets/base",
      "_view_module_version": "1.2.0",
      "_view_name": "StyleView",
      "description_width": ""
     }
    },
    "4cdc5a57c643468092f2d3ed3774a151": {
     "model_module": "@jupyter-widgets/controls",
     "model_module_version": "1.5.0",
     "model_name": "HTMLModel",
     "state": {
      "_dom_classes": [],
      "_model_module": "@jupyter-widgets/controls",
      "_model_module_version": "1.5.0",
      "_model_name": "HTMLModel",
      "_view_count": null,
      "_view_module": "@jupyter-widgets/controls",
      "_view_module_version": "1.5.0",
      "_view_name": "HTMLView",
      "description": "",
      "description_tooltip": null,
      "layout": "IPY_MODEL_d794bd9d64d0408898bc8c4f36a42ad6",
      "placeholder": "​",
      "style": "IPY_MODEL_41e6d64e5cec44398546d12726a9d67b",
      "value": "Map: 100%"
     }
    },
    "4dd1784f7c7a45e0b9d8f63ea554a4e8": {
     "model_module": "@jupyter-widgets/base",
     "model_module_version": "1.2.0",
     "model_name": "LayoutModel",
     "state": {
      "_model_module": "@jupyter-widgets/base",
      "_model_module_version": "1.2.0",
      "_model_name": "LayoutModel",
      "_view_count": null,
      "_view_module": "@jupyter-widgets/base",
      "_view_module_version": "1.2.0",
      "_view_name": "LayoutView",
      "align_content": null,
      "align_items": null,
      "align_self": null,
      "border": null,
      "bottom": null,
      "display": null,
      "flex": null,
      "flex_flow": null,
      "grid_area": null,
      "grid_auto_columns": null,
      "grid_auto_flow": null,
      "grid_auto_rows": null,
      "grid_column": null,
      "grid_gap": null,
      "grid_row": null,
      "grid_template_areas": null,
      "grid_template_columns": null,
      "grid_template_rows": null,
      "height": null,
      "justify_content": null,
      "justify_items": null,
      "left": null,
      "margin": null,
      "max_height": null,
      "max_width": null,
      "min_height": null,
      "min_width": null,
      "object_fit": null,
      "object_position": null,
      "order": null,
      "overflow": null,
      "overflow_x": null,
      "overflow_y": null,
      "padding": null,
      "right": null,
      "top": null,
      "visibility": null,
      "width": null
     }
    },
    "4eace4de7f9b421093e07ae29c60ff05": {
     "model_module": "@jupyter-widgets/controls",
     "model_module_version": "1.5.0",
     "model_name": "DescriptionStyleModel",
     "state": {
      "_model_module": "@jupyter-widgets/controls",
      "_model_module_version": "1.5.0",
      "_model_name": "DescriptionStyleModel",
      "_view_count": null,
      "_view_module": "@jupyter-widgets/base",
      "_view_module_version": "1.2.0",
      "_view_name": "StyleView",
      "description_width": ""
     }
    },
    "50d6b6551e1b42db99d7ba4386094485": {
     "model_module": "@jupyter-widgets/base",
     "model_module_version": "1.2.0",
     "model_name": "LayoutModel",
     "state": {
      "_model_module": "@jupyter-widgets/base",
      "_model_module_version": "1.2.0",
      "_model_name": "LayoutModel",
      "_view_count": null,
      "_view_module": "@jupyter-widgets/base",
      "_view_module_version": "1.2.0",
      "_view_name": "LayoutView",
      "align_content": null,
      "align_items": null,
      "align_self": null,
      "border": null,
      "bottom": null,
      "display": null,
      "flex": null,
      "flex_flow": null,
      "grid_area": null,
      "grid_auto_columns": null,
      "grid_auto_flow": null,
      "grid_auto_rows": null,
      "grid_column": null,
      "grid_gap": null,
      "grid_row": null,
      "grid_template_areas": null,
      "grid_template_columns": null,
      "grid_template_rows": null,
      "height": null,
      "justify_content": null,
      "justify_items": null,
      "left": null,
      "margin": null,
      "max_height": null,
      "max_width": null,
      "min_height": null,
      "min_width": null,
      "object_fit": null,
      "object_position": null,
      "order": null,
      "overflow": null,
      "overflow_x": null,
      "overflow_y": null,
      "padding": null,
      "right": null,
      "top": null,
      "visibility": null,
      "width": null
     }
    },
    "5d1e6ed1165a4a44a9befbd932bda72a": {
     "model_module": "@jupyter-widgets/base",
     "model_module_version": "1.2.0",
     "model_name": "LayoutModel",
     "state": {
      "_model_module": "@jupyter-widgets/base",
      "_model_module_version": "1.2.0",
      "_model_name": "LayoutModel",
      "_view_count": null,
      "_view_module": "@jupyter-widgets/base",
      "_view_module_version": "1.2.0",
      "_view_name": "LayoutView",
      "align_content": null,
      "align_items": null,
      "align_self": null,
      "border": null,
      "bottom": null,
      "display": null,
      "flex": null,
      "flex_flow": null,
      "grid_area": null,
      "grid_auto_columns": null,
      "grid_auto_flow": null,
      "grid_auto_rows": null,
      "grid_column": null,
      "grid_gap": null,
      "grid_row": null,
      "grid_template_areas": null,
      "grid_template_columns": null,
      "grid_template_rows": null,
      "height": null,
      "justify_content": null,
      "justify_items": null,
      "left": null,
      "margin": null,
      "max_height": null,
      "max_width": null,
      "min_height": null,
      "min_width": null,
      "object_fit": null,
      "object_position": null,
      "order": null,
      "overflow": null,
      "overflow_x": null,
      "overflow_y": null,
      "padding": null,
      "right": null,
      "top": null,
      "visibility": null,
      "width": null
     }
    },
    "604f0b8ada0c4a0d813384acb061670f": {
     "model_module": "@jupyter-widgets/controls",
     "model_module_version": "1.5.0",
     "model_name": "ProgressStyleModel",
     "state": {
      "_model_module": "@jupyter-widgets/controls",
      "_model_module_version": "1.5.0",
      "_model_name": "ProgressStyleModel",
      "_view_count": null,
      "_view_module": "@jupyter-widgets/base",
      "_view_module_version": "1.2.0",
      "_view_name": "StyleView",
      "bar_color": null,
      "description_width": ""
     }
    },
    "615d0fad355640e3b9158acb8ced1b50": {
     "model_module": "@jupyter-widgets/controls",
     "model_module_version": "1.5.0",
     "model_name": "HBoxModel",
     "state": {
      "_dom_classes": [],
      "_model_module": "@jupyter-widgets/controls",
      "_model_module_version": "1.5.0",
      "_model_name": "HBoxModel",
      "_view_count": null,
      "_view_module": "@jupyter-widgets/controls",
      "_view_module_version": "1.5.0",
      "_view_name": "HBoxView",
      "box_style": "",
      "children": [
       "IPY_MODEL_d8ede1bbe70d4a48ae1e3bf4aa4faa1a",
       "IPY_MODEL_9ffea34ad2a64dc993a142c01c720ddf",
       "IPY_MODEL_1818b81a54404e46ade8467af39ec983"
      ],
      "layout": "IPY_MODEL_6681f207e2e9486aaf39c983acbe799a"
     }
    },
    "61788b4adca44edb84dad54ba726a6f2": {
     "model_module": "@jupyter-widgets/controls",
     "model_module_version": "1.5.0",
     "model_name": "DescriptionStyleModel",
     "state": {
      "_model_module": "@jupyter-widgets/controls",
      "_model_module_version": "1.5.0",
      "_model_name": "DescriptionStyleModel",
      "_view_count": null,
      "_view_module": "@jupyter-widgets/base",
      "_view_module_version": "1.2.0",
      "_view_name": "StyleView",
      "description_width": ""
     }
    },
    "6681f207e2e9486aaf39c983acbe799a": {
     "model_module": "@jupyter-widgets/base",
     "model_module_version": "1.2.0",
     "model_name": "LayoutModel",
     "state": {
      "_model_module": "@jupyter-widgets/base",
      "_model_module_version": "1.2.0",
      "_model_name": "LayoutModel",
      "_view_count": null,
      "_view_module": "@jupyter-widgets/base",
      "_view_module_version": "1.2.0",
      "_view_name": "LayoutView",
      "align_content": null,
      "align_items": null,
      "align_self": null,
      "border": null,
      "bottom": null,
      "display": null,
      "flex": null,
      "flex_flow": null,
      "grid_area": null,
      "grid_auto_columns": null,
      "grid_auto_flow": null,
      "grid_auto_rows": null,
      "grid_column": null,
      "grid_gap": null,
      "grid_row": null,
      "grid_template_areas": null,
      "grid_template_columns": null,
      "grid_template_rows": null,
      "height": null,
      "justify_content": null,
      "justify_items": null,
      "left": null,
      "margin": null,
      "max_height": null,
      "max_width": null,
      "min_height": null,
      "min_width": null,
      "object_fit": null,
      "object_position": null,
      "order": null,
      "overflow": null,
      "overflow_x": null,
      "overflow_y": null,
      "padding": null,
      "right": null,
      "top": null,
      "visibility": null,
      "width": null
     }
    },
    "66c580afecb740b9a1190d854186b177": {
     "model_module": "@jupyter-widgets/controls",
     "model_module_version": "1.5.0",
     "model_name": "DescriptionStyleModel",
     "state": {
      "_model_module": "@jupyter-widgets/controls",
      "_model_module_version": "1.5.0",
      "_model_name": "DescriptionStyleModel",
      "_view_count": null,
      "_view_module": "@jupyter-widgets/base",
      "_view_module_version": "1.2.0",
      "_view_name": "StyleView",
      "description_width": ""
     }
    },
    "677538b440794e34bd33522540a4fa3d": {
     "model_module": "@jupyter-widgets/controls",
     "model_module_version": "1.5.0",
     "model_name": "FloatProgressModel",
     "state": {
      "_dom_classes": [],
      "_model_module": "@jupyter-widgets/controls",
      "_model_module_version": "1.5.0",
      "_model_name": "FloatProgressModel",
      "_view_count": null,
      "_view_module": "@jupyter-widgets/controls",
      "_view_module_version": "1.5.0",
      "_view_name": "ProgressView",
      "bar_style": "success",
      "description": "",
      "description_tooltip": null,
      "layout": "IPY_MODEL_1c3736e0c5894b379b7c84e63d5317c2",
      "max": 709408561,
      "min": 0,
      "orientation": "horizontal",
      "style": "IPY_MODEL_1ab32298083c48bf9e89313acac25052",
      "value": 709408561
     }
    },
    "697e6392226d42fe805c7d5b1a0b3105": {
     "model_module": "@jupyter-widgets/controls",
     "model_module_version": "1.5.0",
     "model_name": "HTMLModel",
     "state": {
      "_dom_classes": [],
      "_model_module": "@jupyter-widgets/controls",
      "_model_module_version": "1.5.0",
      "_model_name": "HTMLModel",
      "_view_count": null,
      "_view_module": "@jupyter-widgets/controls",
      "_view_module_version": "1.5.0",
      "_view_name": "HTMLView",
      "description": "",
      "description_tooltip": null,
      "layout": "IPY_MODEL_9348c51695d645f38c8e448d8fa1b025",
      "placeholder": "​",
      "style": "IPY_MODEL_e9e042d241fe462cb9292318507e181c",
      "value": " 2.62M/2.62M [00:00&lt;00:00, 25.2MB/s]"
     }
    },
    "6bb9b124208b4ea380df0279c2b80811": {
     "model_module": "@jupyter-widgets/controls",
     "model_module_version": "1.5.0",
     "model_name": "HBoxModel",
     "state": {
      "_dom_classes": [],
      "_model_module": "@jupyter-widgets/controls",
      "_model_module_version": "1.5.0",
      "_model_name": "HBoxModel",
      "_view_count": null,
      "_view_module": "@jupyter-widgets/controls",
      "_view_module_version": "1.5.0",
      "_view_name": "HBoxView",
      "box_style": "",
      "children": [
       "IPY_MODEL_e21b86af833d44fd8fdb5a49a17f942c",
       "IPY_MODEL_0740154a790a4a48bebe4963ede7d527",
       "IPY_MODEL_25405637e0714fc980409ca5cf0df309"
      ],
      "layout": "IPY_MODEL_a95cfb65eeb54f36ac15e2a2660561b6"
     }
    },
    "6d2607800cf1455f8b0996da1e2c5f56": {
     "model_module": "@jupyter-widgets/base",
     "model_module_version": "1.2.0",
     "model_name": "LayoutModel",
     "state": {
      "_model_module": "@jupyter-widgets/base",
      "_model_module_version": "1.2.0",
      "_model_name": "LayoutModel",
      "_view_count": null,
      "_view_module": "@jupyter-widgets/base",
      "_view_module_version": "1.2.0",
      "_view_name": "LayoutView",
      "align_content": null,
      "align_items": null,
      "align_self": null,
      "border": null,
      "bottom": null,
      "display": null,
      "flex": null,
      "flex_flow": null,
      "grid_area": null,
      "grid_auto_columns": null,
      "grid_auto_flow": null,
      "grid_auto_rows": null,
      "grid_column": null,
      "grid_gap": null,
      "grid_row": null,
      "grid_template_areas": null,
      "grid_template_columns": null,
      "grid_template_rows": null,
      "height": null,
      "justify_content": null,
      "justify_items": null,
      "left": null,
      "margin": null,
      "max_height": null,
      "max_width": null,
      "min_height": null,
      "min_width": null,
      "object_fit": null,
      "object_position": null,
      "order": null,
      "overflow": null,
      "overflow_x": null,
      "overflow_y": null,
      "padding": null,
      "right": null,
      "top": null,
      "visibility": null,
      "width": null
     }
    },
    "6f1016fdedbf43499739f8e12d13bbba": {
     "model_module": "@jupyter-widgets/controls",
     "model_module_version": "1.5.0",
     "model_name": "FloatProgressModel",
     "state": {
      "_dom_classes": [],
      "_model_module": "@jupyter-widgets/controls",
      "_model_module_version": "1.5.0",
      "_model_name": "FloatProgressModel",
      "_view_count": null,
      "_view_module": "@jupyter-widgets/controls",
      "_view_module_version": "1.5.0",
      "_view_name": "ProgressView",
      "bar_style": "success",
      "description": "",
      "description_tooltip": null,
      "layout": "IPY_MODEL_9a2282fec8804444a6b815b51a926cd7",
      "max": 9103,
      "min": 0,
      "orientation": "horizontal",
      "style": "IPY_MODEL_2c8f0a5740f247caaedd599f1c2fc0a9",
      "value": 9103
     }
    },
    "7b2df3bf433449028222ab045d1e815a": {
     "model_module": "@jupyter-widgets/base",
     "model_module_version": "1.2.0",
     "model_name": "LayoutModel",
     "state": {
      "_model_module": "@jupyter-widgets/base",
      "_model_module_version": "1.2.0",
      "_model_name": "LayoutModel",
      "_view_count": null,
      "_view_module": "@jupyter-widgets/base",
      "_view_module_version": "1.2.0",
      "_view_name": "LayoutView",
      "align_content": null,
      "align_items": null,
      "align_self": null,
      "border": null,
      "bottom": null,
      "display": null,
      "flex": null,
      "flex_flow": null,
      "grid_area": null,
      "grid_auto_columns": null,
      "grid_auto_flow": null,
      "grid_auto_rows": null,
      "grid_column": null,
      "grid_gap": null,
      "grid_row": null,
      "grid_template_areas": null,
      "grid_template_columns": null,
      "grid_template_rows": null,
      "height": null,
      "justify_content": null,
      "justify_items": null,
      "left": null,
      "margin": null,
      "max_height": null,
      "max_width": null,
      "min_height": null,
      "min_width": null,
      "object_fit": null,
      "object_position": null,
      "order": null,
      "overflow": null,
      "overflow_x": null,
      "overflow_y": null,
      "padding": null,
      "right": null,
      "top": null,
      "visibility": null,
      "width": null
     }
    },
    "7b381475357c496ba3a56a424e6514f7": {
     "model_module": "@jupyter-widgets/base",
     "model_module_version": "1.2.0",
     "model_name": "LayoutModel",
     "state": {
      "_model_module": "@jupyter-widgets/base",
      "_model_module_version": "1.2.0",
      "_model_name": "LayoutModel",
      "_view_count": null,
      "_view_module": "@jupyter-widgets/base",
      "_view_module_version": "1.2.0",
      "_view_name": "LayoutView",
      "align_content": null,
      "align_items": null,
      "align_self": null,
      "border": null,
      "bottom": null,
      "display": null,
      "flex": null,
      "flex_flow": null,
      "grid_area": null,
      "grid_auto_columns": null,
      "grid_auto_flow": null,
      "grid_auto_rows": null,
      "grid_column": null,
      "grid_gap": null,
      "grid_row": null,
      "grid_template_areas": null,
      "grid_template_columns": null,
      "grid_template_rows": null,
      "height": null,
      "justify_content": null,
      "justify_items": null,
      "left": null,
      "margin": null,
      "max_height": null,
      "max_width": null,
      "min_height": null,
      "min_width": null,
      "object_fit": null,
      "object_position": null,
      "order": null,
      "overflow": null,
      "overflow_x": null,
      "overflow_y": null,
      "padding": null,
      "right": null,
      "top": null,
      "visibility": null,
      "width": null
     }
    },
    "80766b8f1e29477db4925e2bb00766c8": {
     "model_module": "@jupyter-widgets/controls",
     "model_module_version": "1.5.0",
     "model_name": "HBoxModel",
     "state": {
      "_dom_classes": [],
      "_model_module": "@jupyter-widgets/controls",
      "_model_module_version": "1.5.0",
      "_model_name": "HBoxModel",
      "_view_count": null,
      "_view_module": "@jupyter-widgets/controls",
      "_view_module_version": "1.5.0",
      "_view_name": "HBoxView",
      "box_style": "",
      "children": [
       "IPY_MODEL_cd2a2bf96aa74fb5a415a0c40592844e",
       "IPY_MODEL_6f1016fdedbf43499739f8e12d13bbba",
       "IPY_MODEL_05d7c803954c4d6592764aa40d2d0714"
      ],
      "layout": "IPY_MODEL_8c08c11d4dd2418e9c12bdd4b7f719a4"
     }
    },
    "8268b85a63b0462083485bdc16dfe9d8": {
     "model_module": "@jupyter-widgets/controls",
     "model_module_version": "1.5.0",
     "model_name": "FloatProgressModel",
     "state": {
      "_dom_classes": [],
      "_model_module": "@jupyter-widgets/controls",
      "_model_module_version": "1.5.0",
      "_model_name": "FloatProgressModel",
      "_view_count": null,
      "_view_module": "@jupyter-widgets/controls",
      "_view_module_version": "1.5.0",
      "_view_name": "ProgressView",
      "bar_style": "success",
      "description": "",
      "description_tooltip": null,
      "layout": "IPY_MODEL_4dd1784f7c7a45e0b9d8f63ea554a4e8",
      "max": 112,
      "min": 0,
      "orientation": "horizontal",
      "style": "IPY_MODEL_850ae54ed8354f89a4bfa08b483a9d71",
      "value": 112
     }
    },
    "850ae54ed8354f89a4bfa08b483a9d71": {
     "model_module": "@jupyter-widgets/controls",
     "model_module_version": "1.5.0",
     "model_name": "ProgressStyleModel",
     "state": {
      "_model_module": "@jupyter-widgets/controls",
      "_model_module_version": "1.5.0",
      "_model_name": "ProgressStyleModel",
      "_view_count": null,
      "_view_module": "@jupyter-widgets/base",
      "_view_module_version": "1.2.0",
      "_view_name": "StyleView",
      "bar_color": null,
      "description_width": ""
     }
    },
    "87bbe2c100c145719e6865274ce8e45b": {
     "model_module": "@jupyter-widgets/controls",
     "model_module_version": "1.5.0",
     "model_name": "DescriptionStyleModel",
     "state": {
      "_model_module": "@jupyter-widgets/controls",
      "_model_module_version": "1.5.0",
      "_model_name": "DescriptionStyleModel",
      "_view_count": null,
      "_view_module": "@jupyter-widgets/base",
      "_view_module_version": "1.2.0",
      "_view_name": "StyleView",
      "description_width": ""
     }
    },
    "87fc96535bb7464e99a22b2def3daa9b": {
     "model_module": "@jupyter-widgets/controls",
     "model_module_version": "1.5.0",
     "model_name": "FloatProgressModel",
     "state": {
      "_dom_classes": [],
      "_model_module": "@jupyter-widgets/controls",
      "_model_module_version": "1.5.0",
      "_model_name": "FloatProgressModel",
      "_view_count": null,
      "_view_module": "@jupyter-widgets/controls",
      "_view_module_version": "1.5.0",
      "_view_name": "ProgressView",
      "bar_style": "success",
      "description": "",
      "description_tooltip": null,
      "layout": "IPY_MODEL_6d2607800cf1455f8b0996da1e2c5f56",
      "max": 2471,
      "min": 0,
      "orientation": "horizontal",
      "style": "IPY_MODEL_a9e93ed26a0c4784ac09d3b430eca73e",
      "value": 2471
     }
    },
    "89e78415932b43e98f5572974d22f36f": {
     "model_module": "@jupyter-widgets/base",
     "model_module_version": "1.2.0",
     "model_name": "LayoutModel",
     "state": {
      "_model_module": "@jupyter-widgets/base",
      "_model_module_version": "1.2.0",
      "_model_name": "LayoutModel",
      "_view_count": null,
      "_view_module": "@jupyter-widgets/base",
      "_view_module_version": "1.2.0",
      "_view_name": "LayoutView",
      "align_content": null,
      "align_items": null,
      "align_self": null,
      "border": null,
      "bottom": null,
      "display": null,
      "flex": null,
      "flex_flow": null,
      "grid_area": null,
      "grid_auto_columns": null,
      "grid_auto_flow": null,
      "grid_auto_rows": null,
      "grid_column": null,
      "grid_gap": null,
      "grid_row": null,
      "grid_template_areas": null,
      "grid_template_columns": null,
      "grid_template_rows": null,
      "height": null,
      "justify_content": null,
      "justify_items": null,
      "left": null,
      "margin": null,
      "max_height": null,
      "max_width": null,
      "min_height": null,
      "min_width": null,
      "object_fit": null,
      "object_position": null,
      "order": null,
      "overflow": null,
      "overflow_x": null,
      "overflow_y": null,
      "padding": null,
      "right": null,
      "top": null,
      "visibility": null,
      "width": null
     }
    },
    "8b95734066e94c7fac2c068f8c1392db": {
     "model_module": "@jupyter-widgets/base",
     "model_module_version": "1.2.0",
     "model_name": "LayoutModel",
     "state": {
      "_model_module": "@jupyter-widgets/base",
      "_model_module_version": "1.2.0",
      "_model_name": "LayoutModel",
      "_view_count": null,
      "_view_module": "@jupyter-widgets/base",
      "_view_module_version": "1.2.0",
      "_view_name": "LayoutView",
      "align_content": null,
      "align_items": null,
      "align_self": null,
      "border": null,
      "bottom": null,
      "display": null,
      "flex": null,
      "flex_flow": null,
      "grid_area": null,
      "grid_auto_columns": null,
      "grid_auto_flow": null,
      "grid_auto_rows": null,
      "grid_column": null,
      "grid_gap": null,
      "grid_row": null,
      "grid_template_areas": null,
      "grid_template_columns": null,
      "grid_template_rows": null,
      "height": null,
      "justify_content": null,
      "justify_items": null,
      "left": null,
      "margin": null,
      "max_height": null,
      "max_width": null,
      "min_height": null,
      "min_width": null,
      "object_fit": null,
      "object_position": null,
      "order": null,
      "overflow": null,
      "overflow_x": null,
      "overflow_y": null,
      "padding": null,
      "right": null,
      "top": null,
      "visibility": null,
      "width": null
     }
    },
    "8c08c11d4dd2418e9c12bdd4b7f719a4": {
     "model_module": "@jupyter-widgets/base",
     "model_module_version": "1.2.0",
     "model_name": "LayoutModel",
     "state": {
      "_model_module": "@jupyter-widgets/base",
      "_model_module_version": "1.2.0",
      "_model_name": "LayoutModel",
      "_view_count": null,
      "_view_module": "@jupyter-widgets/base",
      "_view_module_version": "1.2.0",
      "_view_name": "LayoutView",
      "align_content": null,
      "align_items": null,
      "align_self": null,
      "border": null,
      "bottom": null,
      "display": null,
      "flex": null,
      "flex_flow": null,
      "grid_area": null,
      "grid_auto_columns": null,
      "grid_auto_flow": null,
      "grid_auto_rows": null,
      "grid_column": null,
      "grid_gap": null,
      "grid_row": null,
      "grid_template_areas": null,
      "grid_template_columns": null,
      "grid_template_rows": null,
      "height": null,
      "justify_content": null,
      "justify_items": null,
      "left": null,
      "margin": null,
      "max_height": null,
      "max_width": null,
      "min_height": null,
      "min_width": null,
      "object_fit": null,
      "object_position": null,
      "order": null,
      "overflow": null,
      "overflow_x": null,
      "overflow_y": null,
      "padding": null,
      "right": null,
      "top": null,
      "visibility": null,
      "width": null
     }
    },
    "91bfd8eea71144b88a4b365ca83c2e2b": {
     "model_module": "@jupyter-widgets/controls",
     "model_module_version": "1.5.0",
     "model_name": "HBoxModel",
     "state": {
      "_dom_classes": [],
      "_model_module": "@jupyter-widgets/controls",
      "_model_module_version": "1.5.0",
      "_model_name": "HBoxModel",
      "_view_count": null,
      "_view_module": "@jupyter-widgets/controls",
      "_view_module_version": "1.5.0",
      "_view_name": "HBoxView",
      "box_style": "",
      "children": [
       "IPY_MODEL_b7b77f7a853a473fab2bef50093ea17a",
       "IPY_MODEL_1a3421eb28af4ea2b3bdff8d3c675b5b",
       "IPY_MODEL_697e6392226d42fe805c7d5b1a0b3105"
      ],
      "layout": "IPY_MODEL_3f8895f7e6e04e2783a2e9411d53822e"
     }
    },
    "9348c51695d645f38c8e448d8fa1b025": {
     "model_module": "@jupyter-widgets/base",
     "model_module_version": "1.2.0",
     "model_name": "LayoutModel",
     "state": {
      "_model_module": "@jupyter-widgets/base",
      "_model_module_version": "1.2.0",
      "_model_name": "LayoutModel",
      "_view_count": null,
      "_view_module": "@jupyter-widgets/base",
      "_view_module_version": "1.2.0",
      "_view_name": "LayoutView",
      "align_content": null,
      "align_items": null,
      "align_self": null,
      "border": null,
      "bottom": null,
      "display": null,
      "flex": null,
      "flex_flow": null,
      "grid_area": null,
      "grid_auto_columns": null,
      "grid_auto_flow": null,
      "grid_auto_rows": null,
      "grid_column": null,
      "grid_gap": null,
      "grid_row": null,
      "grid_template_areas": null,
      "grid_template_columns": null,
      "grid_template_rows": null,
      "height": null,
      "justify_content": null,
      "justify_items": null,
      "left": null,
      "margin": null,
      "max_height": null,
      "max_width": null,
      "min_height": null,
      "min_width": null,
      "object_fit": null,
      "object_position": null,
      "order": null,
      "overflow": null,
      "overflow_x": null,
      "overflow_y": null,
      "padding": null,
      "right": null,
      "top": null,
      "visibility": null,
      "width": null
     }
    },
    "96c1c36e589a427b820486ce4e151c67": {
     "model_module": "@jupyter-widgets/controls",
     "model_module_version": "1.5.0",
     "model_name": "DescriptionStyleModel",
     "state": {
      "_model_module": "@jupyter-widgets/controls",
      "_model_module_version": "1.5.0",
      "_model_name": "DescriptionStyleModel",
      "_view_count": null,
      "_view_module": "@jupyter-widgets/base",
      "_view_module_version": "1.2.0",
      "_view_name": "StyleView",
      "description_width": ""
     }
    },
    "9922d01ba1c6418da48b53eeddf67dd4": {
     "model_module": "@jupyter-widgets/base",
     "model_module_version": "1.2.0",
     "model_name": "LayoutModel",
     "state": {
      "_model_module": "@jupyter-widgets/base",
      "_model_module_version": "1.2.0",
      "_model_name": "LayoutModel",
      "_view_count": null,
      "_view_module": "@jupyter-widgets/base",
      "_view_module_version": "1.2.0",
      "_view_name": "LayoutView",
      "align_content": null,
      "align_items": null,
      "align_self": null,
      "border": null,
      "bottom": null,
      "display": null,
      "flex": null,
      "flex_flow": null,
      "grid_area": null,
      "grid_auto_columns": null,
      "grid_auto_flow": null,
      "grid_auto_rows": null,
      "grid_column": null,
      "grid_gap": null,
      "grid_row": null,
      "grid_template_areas": null,
      "grid_template_columns": null,
      "grid_template_rows": null,
      "height": null,
      "justify_content": null,
      "justify_items": null,
      "left": null,
      "margin": null,
      "max_height": null,
      "max_width": null,
      "min_height": null,
      "min_width": null,
      "object_fit": null,
      "object_position": null,
      "order": null,
      "overflow": null,
      "overflow_x": null,
      "overflow_y": null,
      "padding": null,
      "right": null,
      "top": null,
      "visibility": null,
      "width": null
     }
    },
    "9a2282fec8804444a6b815b51a926cd7": {
     "model_module": "@jupyter-widgets/base",
     "model_module_version": "1.2.0",
     "model_name": "LayoutModel",
     "state": {
      "_model_module": "@jupyter-widgets/base",
      "_model_module_version": "1.2.0",
      "_model_name": "LayoutModel",
      "_view_count": null,
      "_view_module": "@jupyter-widgets/base",
      "_view_module_version": "1.2.0",
      "_view_name": "LayoutView",
      "align_content": null,
      "align_items": null,
      "align_self": null,
      "border": null,
      "bottom": null,
      "display": null,
      "flex": null,
      "flex_flow": null,
      "grid_area": null,
      "grid_auto_columns": null,
      "grid_auto_flow": null,
      "grid_auto_rows": null,
      "grid_column": null,
      "grid_gap": null,
      "grid_row": null,
      "grid_template_areas": null,
      "grid_template_columns": null,
      "grid_template_rows": null,
      "height": null,
      "justify_content": null,
      "justify_items": null,
      "left": null,
      "margin": null,
      "max_height": null,
      "max_width": null,
      "min_height": null,
      "min_width": null,
      "object_fit": null,
      "object_position": null,
      "order": null,
      "overflow": null,
      "overflow_x": null,
      "overflow_y": null,
      "padding": null,
      "right": null,
      "top": null,
      "visibility": null,
      "width": null
     }
    },
    "9ffea34ad2a64dc993a142c01c720ddf": {
     "model_module": "@jupyter-widgets/controls",
     "model_module_version": "1.5.0",
     "model_name": "FloatProgressModel",
     "state": {
      "_dom_classes": [],
      "_model_module": "@jupyter-widgets/controls",
      "_model_module_version": "1.5.0",
      "_model_name": "FloatProgressModel",
      "_view_count": null,
      "_view_module": "@jupyter-widgets/controls",
      "_view_module_version": "1.5.0",
      "_view_name": "ProgressView",
      "bar_style": "success",
      "description": "",
      "description_tooltip": null,
      "layout": "IPY_MODEL_a26f11113e394b32874931a3d71b1456",
      "max": 1649718,
      "min": 0,
      "orientation": "horizontal",
      "style": "IPY_MODEL_604f0b8ada0c4a0d813384acb061670f",
      "value": 1649718
     }
    },
    "a1a79752339a473fa8e0a2c634962717": {
     "model_module": "@jupyter-widgets/controls",
     "model_module_version": "1.5.0",
     "model_name": "DescriptionStyleModel",
     "state": {
      "_model_module": "@jupyter-widgets/controls",
      "_model_module_version": "1.5.0",
      "_model_name": "DescriptionStyleModel",
      "_view_count": null,
      "_view_module": "@jupyter-widgets/base",
      "_view_module_version": "1.2.0",
      "_view_name": "StyleView",
      "description_width": ""
     }
    },
    "a26f11113e394b32874931a3d71b1456": {
     "model_module": "@jupyter-widgets/base",
     "model_module_version": "1.2.0",
     "model_name": "LayoutModel",
     "state": {
      "_model_module": "@jupyter-widgets/base",
      "_model_module_version": "1.2.0",
      "_model_name": "LayoutModel",
      "_view_count": null,
      "_view_module": "@jupyter-widgets/base",
      "_view_module_version": "1.2.0",
      "_view_name": "LayoutView",
      "align_content": null,
      "align_items": null,
      "align_self": null,
      "border": null,
      "bottom": null,
      "display": null,
      "flex": null,
      "flex_flow": null,
      "grid_area": null,
      "grid_auto_columns": null,
      "grid_auto_flow": null,
      "grid_auto_rows": null,
      "grid_column": null,
      "grid_gap": null,
      "grid_row": null,
      "grid_template_areas": null,
      "grid_template_columns": null,
      "grid_template_rows": null,
      "height": null,
      "justify_content": null,
      "justify_items": null,
      "left": null,
      "margin": null,
      "max_height": null,
      "max_width": null,
      "min_height": null,
      "min_width": null,
      "object_fit": null,
      "object_position": null,
      "order": null,
      "overflow": null,
      "overflow_x": null,
      "overflow_y": null,
      "padding": null,
      "right": null,
      "top": null,
      "visibility": null,
      "width": null
     }
    },
    "a399b29272c64640918d773543ae0e4d": {
     "model_module": "@jupyter-widgets/base",
     "model_module_version": "1.2.0",
     "model_name": "LayoutModel",
     "state": {
      "_model_module": "@jupyter-widgets/base",
      "_model_module_version": "1.2.0",
      "_model_name": "LayoutModel",
      "_view_count": null,
      "_view_module": "@jupyter-widgets/base",
      "_view_module_version": "1.2.0",
      "_view_name": "LayoutView",
      "align_content": null,
      "align_items": null,
      "align_self": null,
      "border": null,
      "bottom": null,
      "display": null,
      "flex": null,
      "flex_flow": null,
      "grid_area": null,
      "grid_auto_columns": null,
      "grid_auto_flow": null,
      "grid_auto_rows": null,
      "grid_column": null,
      "grid_gap": null,
      "grid_row": null,
      "grid_template_areas": null,
      "grid_template_columns": null,
      "grid_template_rows": null,
      "height": null,
      "justify_content": null,
      "justify_items": null,
      "left": null,
      "margin": null,
      "max_height": null,
      "max_width": null,
      "min_height": null,
      "min_width": null,
      "object_fit": null,
      "object_position": null,
      "order": null,
      "overflow": null,
      "overflow_x": null,
      "overflow_y": null,
      "padding": null,
      "right": null,
      "top": null,
      "visibility": null,
      "width": null
     }
    },
    "a44e7b9d464e4fec84d5352cc64a7e31": {
     "model_module": "@jupyter-widgets/base",
     "model_module_version": "1.2.0",
     "model_name": "LayoutModel",
     "state": {
      "_model_module": "@jupyter-widgets/base",
      "_model_module_version": "1.2.0",
      "_model_name": "LayoutModel",
      "_view_count": null,
      "_view_module": "@jupyter-widgets/base",
      "_view_module_version": "1.2.0",
      "_view_name": "LayoutView",
      "align_content": null,
      "align_items": null,
      "align_self": null,
      "border": null,
      "bottom": null,
      "display": null,
      "flex": null,
      "flex_flow": null,
      "grid_area": null,
      "grid_auto_columns": null,
      "grid_auto_flow": null,
      "grid_auto_rows": null,
      "grid_column": null,
      "grid_gap": null,
      "grid_row": null,
      "grid_template_areas": null,
      "grid_template_columns": null,
      "grid_template_rows": null,
      "height": null,
      "justify_content": null,
      "justify_items": null,
      "left": null,
      "margin": null,
      "max_height": null,
      "max_width": null,
      "min_height": null,
      "min_width": null,
      "object_fit": null,
      "object_position": null,
      "order": null,
      "overflow": null,
      "overflow_x": null,
      "overflow_y": null,
      "padding": null,
      "right": null,
      "top": null,
      "visibility": null,
      "width": null
     }
    },
    "a4e7fe6650c44b348e66d80b8eb2dd86": {
     "model_module": "@jupyter-widgets/controls",
     "model_module_version": "1.5.0",
     "model_name": "FloatProgressModel",
     "state": {
      "_dom_classes": [],
      "_model_module": "@jupyter-widgets/controls",
      "_model_module_version": "1.5.0",
      "_model_name": "FloatProgressModel",
      "_view_count": null,
      "_view_module": "@jupyter-widgets/controls",
      "_view_module_version": "1.5.0",
      "_view_name": "ProgressView",
      "bar_style": "success",
      "description": "",
      "description_tooltip": null,
      "layout": "IPY_MODEL_0f25ccd4de0045028b5d7221877beb14",
      "max": 13488,
      "min": 0,
      "orientation": "horizontal",
      "style": "IPY_MODEL_1c214d1173fd4b4d93a35cf7c1398b65",
      "value": 13488
     }
    },
    "a63baed62d204ef4a51ad08980d09b3b": {
     "model_module": "@jupyter-widgets/base",
     "model_module_version": "1.2.0",
     "model_name": "LayoutModel",
     "state": {
      "_model_module": "@jupyter-widgets/base",
      "_model_module_version": "1.2.0",
      "_model_name": "LayoutModel",
      "_view_count": null,
      "_view_module": "@jupyter-widgets/base",
      "_view_module_version": "1.2.0",
      "_view_name": "LayoutView",
      "align_content": null,
      "align_items": null,
      "align_self": null,
      "border": null,
      "bottom": null,
      "display": null,
      "flex": null,
      "flex_flow": null,
      "grid_area": null,
      "grid_auto_columns": null,
      "grid_auto_flow": null,
      "grid_auto_rows": null,
      "grid_column": null,
      "grid_gap": null,
      "grid_row": null,
      "grid_template_areas": null,
      "grid_template_columns": null,
      "grid_template_rows": null,
      "height": null,
      "justify_content": null,
      "justify_items": null,
      "left": null,
      "margin": null,
      "max_height": null,
      "max_width": null,
      "min_height": null,
      "min_width": null,
      "object_fit": null,
      "object_position": null,
      "order": null,
      "overflow": null,
      "overflow_x": null,
      "overflow_y": null,
      "padding": null,
      "right": null,
      "top": null,
      "visibility": null,
      "width": null
     }
    },
    "a699d480d1514ec6b7bb202159ece005": {
     "model_module": "@jupyter-widgets/base",
     "model_module_version": "1.2.0",
     "model_name": "LayoutModel",
     "state": {
      "_model_module": "@jupyter-widgets/base",
      "_model_module_version": "1.2.0",
      "_model_name": "LayoutModel",
      "_view_count": null,
      "_view_module": "@jupyter-widgets/base",
      "_view_module_version": "1.2.0",
      "_view_name": "LayoutView",
      "align_content": null,
      "align_items": null,
      "align_self": null,
      "border": null,
      "bottom": null,
      "display": null,
      "flex": null,
      "flex_flow": null,
      "grid_area": null,
      "grid_auto_columns": null,
      "grid_auto_flow": null,
      "grid_auto_rows": null,
      "grid_column": null,
      "grid_gap": null,
      "grid_row": null,
      "grid_template_areas": null,
      "grid_template_columns": null,
      "grid_template_rows": null,
      "height": null,
      "justify_content": null,
      "justify_items": null,
      "left": null,
      "margin": null,
      "max_height": null,
      "max_width": null,
      "min_height": null,
      "min_width": null,
      "object_fit": null,
      "object_position": null,
      "order": null,
      "overflow": null,
      "overflow_x": null,
      "overflow_y": null,
      "padding": null,
      "right": null,
      "top": null,
      "visibility": null,
      "width": null
     }
    },
    "a8d9d677da784f8c9bb4071e8ba7f5f7": {
     "model_module": "@jupyter-widgets/controls",
     "model_module_version": "1.5.0",
     "model_name": "DescriptionStyleModel",
     "state": {
      "_model_module": "@jupyter-widgets/controls",
      "_model_module_version": "1.5.0",
      "_model_name": "DescriptionStyleModel",
      "_view_count": null,
      "_view_module": "@jupyter-widgets/base",
      "_view_module_version": "1.2.0",
      "_view_name": "StyleView",
      "description_width": ""
     }
    },
    "a95cfb65eeb54f36ac15e2a2660561b6": {
     "model_module": "@jupyter-widgets/base",
     "model_module_version": "1.2.0",
     "model_name": "LayoutModel",
     "state": {
      "_model_module": "@jupyter-widgets/base",
      "_model_module_version": "1.2.0",
      "_model_name": "LayoutModel",
      "_view_count": null,
      "_view_module": "@jupyter-widgets/base",
      "_view_module_version": "1.2.0",
      "_view_name": "LayoutView",
      "align_content": null,
      "align_items": null,
      "align_self": null,
      "border": null,
      "bottom": null,
      "display": null,
      "flex": null,
      "flex_flow": null,
      "grid_area": null,
      "grid_auto_columns": null,
      "grid_auto_flow": null,
      "grid_auto_rows": null,
      "grid_column": null,
      "grid_gap": null,
      "grid_row": null,
      "grid_template_areas": null,
      "grid_template_columns": null,
      "grid_template_rows": null,
      "height": null,
      "justify_content": null,
      "justify_items": null,
      "left": null,
      "margin": null,
      "max_height": null,
      "max_width": null,
      "min_height": null,
      "min_width": null,
      "object_fit": null,
      "object_position": null,
      "order": null,
      "overflow": null,
      "overflow_x": null,
      "overflow_y": null,
      "padding": null,
      "right": null,
      "top": null,
      "visibility": null,
      "width": null
     }
    },
    "a9e93ed26a0c4784ac09d3b430eca73e": {
     "model_module": "@jupyter-widgets/controls",
     "model_module_version": "1.5.0",
     "model_name": "ProgressStyleModel",
     "state": {
      "_model_module": "@jupyter-widgets/controls",
      "_model_module_version": "1.5.0",
      "_model_name": "ProgressStyleModel",
      "_view_count": null,
      "_view_module": "@jupyter-widgets/base",
      "_view_module_version": "1.2.0",
      "_view_name": "StyleView",
      "bar_color": null,
      "description_width": ""
     }
    },
    "aed64773783f44e5b55bab114cf823cd": {
     "model_module": "@jupyter-widgets/controls",
     "model_module_version": "1.5.0",
     "model_name": "DescriptionStyleModel",
     "state": {
      "_model_module": "@jupyter-widgets/controls",
      "_model_module_version": "1.5.0",
      "_model_name": "DescriptionStyleModel",
      "_view_count": null,
      "_view_module": "@jupyter-widgets/base",
      "_view_module_version": "1.2.0",
      "_view_name": "StyleView",
      "description_width": ""
     }
    },
    "b59505f08f4e465280b6e384ff0bee90": {
     "model_module": "@jupyter-widgets/controls",
     "model_module_version": "1.5.0",
     "model_name": "DescriptionStyleModel",
     "state": {
      "_model_module": "@jupyter-widgets/controls",
      "_model_module_version": "1.5.0",
      "_model_name": "DescriptionStyleModel",
      "_view_count": null,
      "_view_module": "@jupyter-widgets/base",
      "_view_module_version": "1.2.0",
      "_view_name": "StyleView",
      "description_width": ""
     }
    },
    "b682cd8e787e4a219345bfcf60db3633": {
     "model_module": "@jupyter-widgets/controls",
     "model_module_version": "1.5.0",
     "model_name": "HBoxModel",
     "state": {
      "_dom_classes": [],
      "_model_module": "@jupyter-widgets/controls",
      "_model_module_version": "1.5.0",
      "_model_name": "HBoxModel",
      "_view_count": null,
      "_view_module": "@jupyter-widgets/controls",
      "_view_module_version": "1.5.0",
      "_view_name": "HBoxView",
      "box_style": "",
      "children": [
       "IPY_MODEL_4babe4744e3246bfa9b07ad4fdfeb08d",
       "IPY_MODEL_677538b440794e34bd33522540a4fa3d",
       "IPY_MODEL_29ad24e71ae745f798e812b9142f8def"
      ],
      "layout": "IPY_MODEL_f01a5ef87deb4505a7259ccb9e530a90"
     }
    },
    "b7b77f7a853a473fab2bef50093ea17a": {
     "model_module": "@jupyter-widgets/controls",
     "model_module_version": "1.5.0",
     "model_name": "HTMLModel",
     "state": {
      "_dom_classes": [],
      "_model_module": "@jupyter-widgets/controls",
      "_model_module_version": "1.5.0",
      "_model_name": "HTMLModel",
      "_view_count": null,
      "_view_module": "@jupyter-widgets/controls",
      "_view_module_version": "1.5.0",
      "_view_name": "HTMLView",
      "description": "",
      "description_tooltip": null,
      "layout": "IPY_MODEL_3d2c2dcf45ca4bb0979be81d09f0267e",
      "placeholder": "​",
      "style": "IPY_MODEL_40e28d81b1b44b2ba1aa05d550c3fede",
      "value": "tokenizer.json: 100%"
     }
    },
    "b8e1042e0d3f452c96b1f21b16ddfd46": {
     "model_module": "@jupyter-widgets/base",
     "model_module_version": "1.2.0",
     "model_name": "LayoutModel",
     "state": {
      "_model_module": "@jupyter-widgets/base",
      "_model_module_version": "1.2.0",
      "_model_name": "LayoutModel",
      "_view_count": null,
      "_view_module": "@jupyter-widgets/base",
      "_view_module_version": "1.2.0",
      "_view_name": "LayoutView",
      "align_content": null,
      "align_items": null,
      "align_self": null,
      "border": null,
      "bottom": null,
      "display": null,
      "flex": null,
      "flex_flow": null,
      "grid_area": null,
      "grid_auto_columns": null,
      "grid_auto_flow": null,
      "grid_auto_rows": null,
      "grid_column": null,
      "grid_gap": null,
      "grid_row": null,
      "grid_template_areas": null,
      "grid_template_columns": null,
      "grid_template_rows": null,
      "height": null,
      "justify_content": null,
      "justify_items": null,
      "left": null,
      "margin": null,
      "max_height": null,
      "max_width": null,
      "min_height": null,
      "min_width": null,
      "object_fit": null,
      "object_position": null,
      "order": null,
      "overflow": null,
      "overflow_x": null,
      "overflow_y": null,
      "padding": null,
      "right": null,
      "top": null,
      "visibility": null,
      "width": null
     }
    },
    "b9a3272e05d8493aa867441b3c7039e5": {
     "model_module": "@jupyter-widgets/base",
     "model_module_version": "1.2.0",
     "model_name": "LayoutModel",
     "state": {
      "_model_module": "@jupyter-widgets/base",
      "_model_module_version": "1.2.0",
      "_model_name": "LayoutModel",
      "_view_count": null,
      "_view_module": "@jupyter-widgets/base",
      "_view_module_version": "1.2.0",
      "_view_name": "LayoutView",
      "align_content": null,
      "align_items": null,
      "align_self": null,
      "border": null,
      "bottom": null,
      "display": null,
      "flex": null,
      "flex_flow": null,
      "grid_area": null,
      "grid_auto_columns": null,
      "grid_auto_flow": null,
      "grid_auto_rows": null,
      "grid_column": null,
      "grid_gap": null,
      "grid_row": null,
      "grid_template_areas": null,
      "grid_template_columns": null,
      "grid_template_rows": null,
      "height": null,
      "justify_content": null,
      "justify_items": null,
      "left": null,
      "margin": null,
      "max_height": null,
      "max_width": null,
      "min_height": null,
      "min_width": null,
      "object_fit": null,
      "object_position": null,
      "order": null,
      "overflow": null,
      "overflow_x": null,
      "overflow_y": null,
      "padding": null,
      "right": null,
      "top": null,
      "visibility": null,
      "width": null
     }
    },
    "c3d567aecf0d4c2bb58bd1ba400245ff": {
     "model_module": "@jupyter-widgets/controls",
     "model_module_version": "1.5.0",
     "model_name": "DescriptionStyleModel",
     "state": {
      "_model_module": "@jupyter-widgets/controls",
      "_model_module_version": "1.5.0",
      "_model_name": "DescriptionStyleModel",
      "_view_count": null,
      "_view_module": "@jupyter-widgets/base",
      "_view_module_version": "1.2.0",
      "_view_name": "StyleView",
      "description_width": ""
     }
    },
    "c5c17fe3e0b840a89bea392dc7d20c8b": {
     "model_module": "@jupyter-widgets/controls",
     "model_module_version": "1.5.0",
     "model_name": "HTMLModel",
     "state": {
      "_dom_classes": [],
      "_model_module": "@jupyter-widgets/controls",
      "_model_module_version": "1.5.0",
      "_model_name": "HTMLModel",
      "_view_count": null,
      "_view_module": "@jupyter-widgets/controls",
      "_view_module_version": "1.5.0",
      "_view_name": "HTMLView",
      "description": "",
      "description_tooltip": null,
      "layout": "IPY_MODEL_50d6b6551e1b42db99d7ba4386094485",
      "placeholder": "​",
      "style": "IPY_MODEL_66c580afecb740b9a1190d854186b177",
      "value": "config.json: 100%"
     }
    },
    "cd0a7df987ce44c89e098b5dbe1c59d7": {
     "model_module": "@jupyter-widgets/base",
     "model_module_version": "1.2.0",
     "model_name": "LayoutModel",
     "state": {
      "_model_module": "@jupyter-widgets/base",
      "_model_module_version": "1.2.0",
      "_model_name": "LayoutModel",
      "_view_count": null,
      "_view_module": "@jupyter-widgets/base",
      "_view_module_version": "1.2.0",
      "_view_name": "LayoutView",
      "align_content": null,
      "align_items": null,
      "align_self": null,
      "border": null,
      "bottom": null,
      "display": null,
      "flex": null,
      "flex_flow": null,
      "grid_area": null,
      "grid_auto_columns": null,
      "grid_auto_flow": null,
      "grid_auto_rows": null,
      "grid_column": null,
      "grid_gap": null,
      "grid_row": null,
      "grid_template_areas": null,
      "grid_template_columns": null,
      "grid_template_rows": null,
      "height": null,
      "justify_content": null,
      "justify_items": null,
      "left": null,
      "margin": null,
      "max_height": null,
      "max_width": null,
      "min_height": null,
      "min_width": null,
      "object_fit": null,
      "object_position": null,
      "order": null,
      "overflow": null,
      "overflow_x": null,
      "overflow_y": null,
      "padding": null,
      "right": null,
      "top": null,
      "visibility": null,
      "width": null
     }
    },
    "cd2a2bf96aa74fb5a415a0c40592844e": {
     "model_module": "@jupyter-widgets/controls",
     "model_module_version": "1.5.0",
     "model_name": "HTMLModel",
     "state": {
      "_dom_classes": [],
      "_model_module": "@jupyter-widgets/controls",
      "_model_module_version": "1.5.0",
      "_model_name": "HTMLModel",
      "_view_count": null,
      "_view_module": "@jupyter-widgets/controls",
      "_view_module_version": "1.5.0",
      "_view_name": "HTMLView",
      "description": "",
      "description_tooltip": null,
      "layout": "IPY_MODEL_8b95734066e94c7fac2c068f8c1392db",
      "placeholder": "​",
      "style": "IPY_MODEL_083126e26ccd418598923d06005f9cd6",
      "value": "Map: 100%"
     }
    },
    "cdb339d5fd664f359865b5dbc2d3a2ba": {
     "model_module": "@jupyter-widgets/controls",
     "model_module_version": "1.5.0",
     "model_name": "FloatProgressModel",
     "state": {
      "_dom_classes": [],
      "_model_module": "@jupyter-widgets/controls",
      "_model_module_version": "1.5.0",
      "_model_name": "FloatProgressModel",
      "_view_count": null,
      "_view_module": "@jupyter-widgets/controls",
      "_view_module_version": "1.5.0",
      "_view_name": "ProgressView",
      "bar_style": "success",
      "description": "",
      "description_tooltip": null,
      "layout": "IPY_MODEL_b9a3272e05d8493aa867441b3c7039e5",
      "max": 236,
      "min": 0,
      "orientation": "horizontal",
      "style": "IPY_MODEL_0d3ff3bc67c34006a2049aa3d3f45530",
      "value": 236
     }
    },
    "d32a84284ca54acf85c9bfbcd8d4adb8": {
     "model_module": "@jupyter-widgets/base",
     "model_module_version": "1.2.0",
     "model_name": "LayoutModel",
     "state": {
      "_model_module": "@jupyter-widgets/base",
      "_model_module_version": "1.2.0",
      "_model_name": "LayoutModel",
      "_view_count": null,
      "_view_module": "@jupyter-widgets/base",
      "_view_module_version": "1.2.0",
      "_view_name": "LayoutView",
      "align_content": null,
      "align_items": null,
      "align_self": null,
      "border": null,
      "bottom": null,
      "display": null,
      "flex": null,
      "flex_flow": null,
      "grid_area": null,
      "grid_auto_columns": null,
      "grid_auto_flow": null,
      "grid_auto_rows": null,
      "grid_column": null,
      "grid_gap": null,
      "grid_row": null,
      "grid_template_areas": null,
      "grid_template_columns": null,
      "grid_template_rows": null,
      "height": null,
      "justify_content": null,
      "justify_items": null,
      "left": null,
      "margin": null,
      "max_height": null,
      "max_width": null,
      "min_height": null,
      "min_width": null,
      "object_fit": null,
      "object_position": null,
      "order": null,
      "overflow": null,
      "overflow_x": null,
      "overflow_y": null,
      "padding": null,
      "right": null,
      "top": null,
      "visibility": null,
      "width": null
     }
    },
    "d6e65db0139a47d28409581ba05cbcec": {
     "model_module": "@jupyter-widgets/controls",
     "model_module_version": "1.5.0",
     "model_name": "ProgressStyleModel",
     "state": {
      "_model_module": "@jupyter-widgets/controls",
      "_model_module_version": "1.5.0",
      "_model_name": "ProgressStyleModel",
      "_view_count": null,
      "_view_module": "@jupyter-widgets/base",
      "_view_module_version": "1.2.0",
      "_view_name": "StyleView",
      "bar_color": null,
      "description_width": ""
     }
    },
    "d794bd9d64d0408898bc8c4f36a42ad6": {
     "model_module": "@jupyter-widgets/base",
     "model_module_version": "1.2.0",
     "model_name": "LayoutModel",
     "state": {
      "_model_module": "@jupyter-widgets/base",
      "_model_module_version": "1.2.0",
      "_model_name": "LayoutModel",
      "_view_count": null,
      "_view_module": "@jupyter-widgets/base",
      "_view_module_version": "1.2.0",
      "_view_name": "LayoutView",
      "align_content": null,
      "align_items": null,
      "align_self": null,
      "border": null,
      "bottom": null,
      "display": null,
      "flex": null,
      "flex_flow": null,
      "grid_area": null,
      "grid_auto_columns": null,
      "grid_auto_flow": null,
      "grid_auto_rows": null,
      "grid_column": null,
      "grid_gap": null,
      "grid_row": null,
      "grid_template_areas": null,
      "grid_template_columns": null,
      "grid_template_rows": null,
      "height": null,
      "justify_content": null,
      "justify_items": null,
      "left": null,
      "margin": null,
      "max_height": null,
      "max_width": null,
      "min_height": null,
      "min_width": null,
      "object_fit": null,
      "object_position": null,
      "order": null,
      "overflow": null,
      "overflow_x": null,
      "overflow_y": null,
      "padding": null,
      "right": null,
      "top": null,
      "visibility": null,
      "width": null
     }
    },
    "d8ede1bbe70d4a48ae1e3bf4aa4faa1a": {
     "model_module": "@jupyter-widgets/controls",
     "model_module_version": "1.5.0",
     "model_name": "HTMLModel",
     "state": {
      "_dom_classes": [],
      "_model_module": "@jupyter-widgets/controls",
      "_model_module_version": "1.5.0",
      "_model_name": "HTMLModel",
      "_view_count": null,
      "_view_module": "@jupyter-widgets/controls",
      "_view_module_version": "1.5.0",
      "_view_name": "HTMLView",
      "description": "",
      "description_tooltip": null,
      "layout": "IPY_MODEL_0f270d76f46e4dafa2e317ea65e95c1b",
      "placeholder": "​",
      "style": "IPY_MODEL_3dc135ec3e3d42ebb552a6719aa7758b",
      "value": "vocab.txt: 100%"
     }
    },
    "db15eb1d97a74ad8980d6e207819e706": {
     "model_module": "@jupyter-widgets/base",
     "model_module_version": "1.2.0",
     "model_name": "LayoutModel",
     "state": {
      "_model_module": "@jupyter-widgets/base",
      "_model_module_version": "1.2.0",
      "_model_name": "LayoutModel",
      "_view_count": null,
      "_view_module": "@jupyter-widgets/base",
      "_view_module_version": "1.2.0",
      "_view_name": "LayoutView",
      "align_content": null,
      "align_items": null,
      "align_self": null,
      "border": null,
      "bottom": null,
      "display": null,
      "flex": null,
      "flex_flow": null,
      "grid_area": null,
      "grid_auto_columns": null,
      "grid_auto_flow": null,
      "grid_auto_rows": null,
      "grid_column": null,
      "grid_gap": null,
      "grid_row": null,
      "grid_template_areas": null,
      "grid_template_columns": null,
      "grid_template_rows": null,
      "height": null,
      "justify_content": null,
      "justify_items": null,
      "left": null,
      "margin": null,
      "max_height": null,
      "max_width": null,
      "min_height": null,
      "min_width": null,
      "object_fit": null,
      "object_position": null,
      "order": null,
      "overflow": null,
      "overflow_x": null,
      "overflow_y": null,
      "padding": null,
      "right": null,
      "top": null,
      "visibility": null,
      "width": null
     }
    },
    "df6c311eafe5410a827d39ea16f8401c": {
     "model_module": "@jupyter-widgets/controls",
     "model_module_version": "1.5.0",
     "model_name": "HBoxModel",
     "state": {
      "_dom_classes": [],
      "_model_module": "@jupyter-widgets/controls",
      "_model_module_version": "1.5.0",
      "_model_name": "HBoxModel",
      "_view_count": null,
      "_view_module": "@jupyter-widgets/controls",
      "_view_module_version": "1.5.0",
      "_view_name": "HBoxView",
      "box_style": "",
      "children": [
       "IPY_MODEL_c5c17fe3e0b840a89bea392dc7d20c8b",
       "IPY_MODEL_a4e7fe6650c44b348e66d80b8eb2dd86",
       "IPY_MODEL_2cb0cd669d24430991c711249d99f272"
      ],
      "layout": "IPY_MODEL_7b381475357c496ba3a56a424e6514f7"
     }
    },
    "e1c73303dd244443864124ff42c6c96a": {
     "model_module": "@jupyter-widgets/controls",
     "model_module_version": "1.5.0",
     "model_name": "HBoxModel",
     "state": {
      "_dom_classes": [],
      "_model_module": "@jupyter-widgets/controls",
      "_model_module_version": "1.5.0",
      "_model_name": "HBoxModel",
      "_view_count": null,
      "_view_module": "@jupyter-widgets/controls",
      "_view_module_version": "1.5.0",
      "_view_name": "HBoxView",
      "box_style": "",
      "children": [
       "IPY_MODEL_e3aaa4b87c7346a69c38cb68dc89351d",
       "IPY_MODEL_87fc96535bb7464e99a22b2def3daa9b",
       "IPY_MODEL_2437a0ceb2b84e829163c93351dddc55"
      ],
      "layout": "IPY_MODEL_410bea532a3c42368211584718dced72"
     }
    },
    "e1de4738feb44d8f896a07894bb9a9c8": {
     "model_module": "@jupyter-widgets/controls",
     "model_module_version": "1.5.0",
     "model_name": "HTMLModel",
     "state": {
      "_dom_classes": [],
      "_model_module": "@jupyter-widgets/controls",
      "_model_module_version": "1.5.0",
      "_model_name": "HTMLModel",
      "_view_count": null,
      "_view_module": "@jupyter-widgets/controls",
      "_view_module_version": "1.5.0",
      "_view_name": "HTMLView",
      "description": "",
      "description_tooltip": null,
      "layout": "IPY_MODEL_271c556563e6400aaabf1c0bf8645d3f",
      "placeholder": "​",
      "style": "IPY_MODEL_a1a79752339a473fa8e0a2c634962717",
      "value": "special_tokens_map.json: 100%"
     }
    },
    "e21b86af833d44fd8fdb5a49a17f942c": {
     "model_module": "@jupyter-widgets/controls",
     "model_module_version": "1.5.0",
     "model_name": "HTMLModel",
     "state": {
      "_dom_classes": [],
      "_model_module": "@jupyter-widgets/controls",
      "_model_module_version": "1.5.0",
      "_model_name": "HTMLModel",
      "_view_count": null,
      "_view_module": "@jupyter-widgets/controls",
      "_view_module_version": "1.5.0",
      "_view_name": "HTMLView",
      "description": "",
      "description_tooltip": null,
      "layout": "IPY_MODEL_89e78415932b43e98f5572974d22f36f",
      "placeholder": "​",
      "style": "IPY_MODEL_b59505f08f4e465280b6e384ff0bee90",
      "value": "Map: 100%"
     }
    },
    "e3aaa4b87c7346a69c38cb68dc89351d": {
     "model_module": "@jupyter-widgets/controls",
     "model_module_version": "1.5.0",
     "model_name": "HTMLModel",
     "state": {
      "_dom_classes": [],
      "_model_module": "@jupyter-widgets/controls",
      "_model_module_version": "1.5.0",
      "_model_name": "HTMLModel",
      "_view_count": null,
      "_view_module": "@jupyter-widgets/controls",
      "_view_module_version": "1.5.0",
      "_view_name": "HTMLView",
      "description": "",
      "description_tooltip": null,
      "layout": "IPY_MODEL_5d1e6ed1165a4a44a9befbd932bda72a",
      "placeholder": "​",
      "style": "IPY_MODEL_96c1c36e589a427b820486ce4e151c67",
      "value": "Downloading builder script: "
     }
    },
    "e72e68a8f3924a6b86bcfa3a19476b74": {
     "model_module": "@jupyter-widgets/controls",
     "model_module_version": "1.5.0",
     "model_name": "DescriptionStyleModel",
     "state": {
      "_model_module": "@jupyter-widgets/controls",
      "_model_module_version": "1.5.0",
      "_model_name": "DescriptionStyleModel",
      "_view_count": null,
      "_view_module": "@jupyter-widgets/base",
      "_view_module_version": "1.2.0",
      "_view_name": "StyleView",
      "description_width": ""
     }
    },
    "e9e042d241fe462cb9292318507e181c": {
     "model_module": "@jupyter-widgets/controls",
     "model_module_version": "1.5.0",
     "model_name": "DescriptionStyleModel",
     "state": {
      "_model_module": "@jupyter-widgets/controls",
      "_model_module_version": "1.5.0",
      "_model_name": "DescriptionStyleModel",
      "_view_count": null,
      "_view_module": "@jupyter-widgets/base",
      "_view_module_version": "1.2.0",
      "_view_name": "StyleView",
      "description_width": ""
     }
    },
    "ea315334ebba4e20992f62e5117fb85a": {
     "model_module": "@jupyter-widgets/controls",
     "model_module_version": "1.5.0",
     "model_name": "HTMLModel",
     "state": {
      "_dom_classes": [],
      "_model_module": "@jupyter-widgets/controls",
      "_model_module_version": "1.5.0",
      "_model_name": "HTMLModel",
      "_view_count": null,
      "_view_module": "@jupyter-widgets/controls",
      "_view_module_version": "1.5.0",
      "_view_name": "HTMLView",
      "description": "",
      "description_tooltip": null,
      "layout": "IPY_MODEL_7b2df3bf433449028222ab045d1e815a",
      "placeholder": "​",
      "style": "IPY_MODEL_87bbe2c100c145719e6865274ce8e45b",
      "value": " 112/112 [00:00&lt;00:00, 3.62kB/s]"
     }
    },
    "ec55f727cca44f0ca7805fb01c827667": {
     "model_module": "@jupyter-widgets/controls",
     "model_module_version": "1.5.0",
     "model_name": "ProgressStyleModel",
     "state": {
      "_model_module": "@jupyter-widgets/controls",
      "_model_module_version": "1.5.0",
      "_model_name": "ProgressStyleModel",
      "_view_count": null,
      "_view_module": "@jupyter-widgets/base",
      "_view_module_version": "1.2.0",
      "_view_name": "StyleView",
      "bar_color": null,
      "description_width": ""
     }
    },
    "f01a5ef87deb4505a7259ccb9e530a90": {
     "model_module": "@jupyter-widgets/base",
     "model_module_version": "1.2.0",
     "model_name": "LayoutModel",
     "state": {
      "_model_module": "@jupyter-widgets/base",
      "_model_module_version": "1.2.0",
      "_model_name": "LayoutModel",
      "_view_count": null,
      "_view_module": "@jupyter-widgets/base",
      "_view_module_version": "1.2.0",
      "_view_name": "LayoutView",
      "align_content": null,
      "align_items": null,
      "align_self": null,
      "border": null,
      "bottom": null,
      "display": null,
      "flex": null,
      "flex_flow": null,
      "grid_area": null,
      "grid_auto_columns": null,
      "grid_auto_flow": null,
      "grid_auto_rows": null,
      "grid_column": null,
      "grid_gap": null,
      "grid_row": null,
      "grid_template_areas": null,
      "grid_template_columns": null,
      "grid_template_rows": null,
      "height": null,
      "justify_content": null,
      "justify_items": null,
      "left": null,
      "margin": null,
      "max_height": null,
      "max_width": null,
      "min_height": null,
      "min_width": null,
      "object_fit": null,
      "object_position": null,
      "order": null,
      "overflow": null,
      "overflow_x": null,
      "overflow_y": null,
      "padding": null,
      "right": null,
      "top": null,
      "visibility": null,
      "width": null
     }
    },
    "f1ba8b76c543433ab70b09f63cfeb8e1": {
     "model_module": "@jupyter-widgets/controls",
     "model_module_version": "1.5.0",
     "model_name": "ProgressStyleModel",
     "state": {
      "_model_module": "@jupyter-widgets/controls",
      "_model_module_version": "1.5.0",
      "_model_name": "ProgressStyleModel",
      "_view_count": null,
      "_view_module": "@jupyter-widgets/base",
      "_view_module_version": "1.2.0",
      "_view_name": "StyleView",
      "bar_color": null,
      "description_width": ""
     }
    }
   }
  }
 },
 "nbformat": 4,
 "nbformat_minor": 4
}
